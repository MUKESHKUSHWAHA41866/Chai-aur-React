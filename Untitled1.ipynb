{
  "nbformat": 4,
  "nbformat_minor": 0,
  "metadata": {
    "colab": {
      "provenance": [],
      "authorship_tag": "ABX9TyPLCcTDbBBmTN1TFrQBkVD6",
      "include_colab_link": true
    },
    "kernelspec": {
      "name": "python3",
      "display_name": "Python 3"
    },
    "language_info": {
      "name": "python"
    }
  },
  "cells": [
    {
      "cell_type": "markdown",
      "metadata": {
        "id": "view-in-github",
        "colab_type": "text"
      },
      "source": [
        "<a href=\"https://colab.research.google.com/github/MUKESHKUSHWAHA41866/Chai-aur-React/blob/main/Untitled1.ipynb\" target=\"_parent\"><img src=\"https://colab.research.google.com/assets/colab-badge.svg\" alt=\"Open In Colab\"/></a>"
      ]
    },
    {
      "cell_type": "markdown",
      "source": [
        "\n",
        "Import Library\n",
        "\n",
        "```\n",
        "# This is formatted as code\n",
        "```\n",
        "\n"
      ],
      "metadata": {
        "id": "-GtXQFfxJy_9"
      }
    },
    {
      "cell_type": "code",
      "execution_count": null,
      "metadata": {
        "colab": {
          "base_uri": "https://localhost:8080/",
          "height": 672
        },
        "id": "QChdlprtJf0o",
        "outputId": "01044bf1-8bca-472c-c5f9-80e13b0f0986"
      },
      "outputs": [
        {
          "output_type": "execute_result",
          "data": {
            "text/plain": [
              "   Movie_ID      Movie_Title                       Movie_Genre Movie_Language  \\\n",
              "0         1       Four Rooms                      Crime Comedy             en   \n",
              "1         2        Star Wars  Adventure Action Science Fiction             en   \n",
              "2         3     Finding Nemo                  Animation Family             en   \n",
              "3         4     Forrest Gump              Comedy Drama Romance             en   \n",
              "4         5  American Beauty                             Drama             en   \n",
              "\n",
              "   Movie_Budget  Movie_Popularity Movie_Release_Date  Movie_Revenue  \\\n",
              "0       4000000         22.876230         09-12-1995        4300000   \n",
              "1      11000000        126.393695         25-05-1977      775398007   \n",
              "2      94000000         85.688789         30-05-2003      940335536   \n",
              "3      55000000        138.133331         06-07-1994      677945399   \n",
              "4      15000000         80.878605         15-09-1999      356296601   \n",
              "\n",
              "   Movie_Runtime  Movie_Vote  ...  \\\n",
              "0           98.0         6.5  ...   \n",
              "1          121.0         8.1  ...   \n",
              "2          100.0         7.6  ...   \n",
              "3          142.0         8.2  ...   \n",
              "4          122.0         7.9  ...   \n",
              "\n",
              "                                      Movie_Homepage  \\\n",
              "0                                                NaN   \n",
              "1  http://www.starwars.com/films/star-wars-episod...   \n",
              "2              http://movies.disney.com/finding-nemo   \n",
              "3                                                NaN   \n",
              "4                      http://www.dreamworks.com/ab/   \n",
              "\n",
              "                                      Movie_Keywords  \\\n",
              "0          hotel new year's eve witch bet hotel room   \n",
              "1        android galaxy hermit death star lightsaber   \n",
              "2  father son relationship harbor underwater fish...   \n",
              "3  vietnam veteran hippie mentally disabled runni...   \n",
              "4  male nudity female nudity adultery midlife cri...   \n",
              "\n",
              "                                      Movie_Overview  \\\n",
              "0  It's Ted the Bellhop's first night on the job....   \n",
              "1  Princess Leia is captured and held hostage by ...   \n",
              "2  Nemo, an adventurous young clownfish, is unexp...   \n",
              "3  A man with a low IQ has accomplished great thi...   \n",
              "4  Lester Burnham, a depressed suburban father in...   \n",
              "\n",
              "                              Movie_Production_House  \\\n",
              "0  [{\"name\": \"Miramax Films\", \"id\": 14}, {\"name\":...   \n",
              "1  [{\"name\": \"Lucasfilm\", \"id\": 1}, {\"name\": \"Twe...   \n",
              "2     [{\"name\": \"Pixar Animation Studios\", \"id\": 3}]   \n",
              "3          [{\"name\": \"Paramount Pictures\", \"id\": 4}]   \n",
              "4  [{\"name\": \"DreamWorks SKG\", \"id\": 27}, {\"name\"...   \n",
              "\n",
              "                            Movie_Production_Country  \\\n",
              "0  [{\"iso_3166_1\": \"US\", \"name\": \"United States o...   \n",
              "1  [{\"iso_3166_1\": \"US\", \"name\": \"United States o...   \n",
              "2  [{\"iso_3166_1\": \"US\", \"name\": \"United States o...   \n",
              "3  [{\"iso_3166_1\": \"US\", \"name\": \"United States o...   \n",
              "4  [{\"iso_3166_1\": \"US\", \"name\": \"United States o...   \n",
              "\n",
              "                      Movie_Spoken_Language  \\\n",
              "0  [{\"iso_639_1\": \"en\", \"name\": \"English\"}]   \n",
              "1  [{\"iso_639_1\": \"en\", \"name\": \"English\"}]   \n",
              "2  [{\"iso_639_1\": \"en\", \"name\": \"English\"}]   \n",
              "3  [{\"iso_639_1\": \"en\", \"name\": \"English\"}]   \n",
              "4  [{\"iso_639_1\": \"en\", \"name\": \"English\"}]   \n",
              "\n",
              "                                       Movie_Tagline  \\\n",
              "0  Twelve outrageous guests. Four scandalous requ...   \n",
              "1       A long time ago in a galaxy far, far away...   \n",
              "2  There are 3.7 trillion fish in the ocean, they...   \n",
              "3  The world will never be the same, once you've ...   \n",
              "4                                       Look closer.   \n",
              "\n",
              "                                          Movie_Cast  \\\n",
              "0  Tim Roth Antonio Banderas Jennifer Beals Madon...   \n",
              "1  Mark Hamill Harrison Ford Carrie Fisher Peter ...   \n",
              "2  Albert Brooks Ellen DeGeneres Alexander Gould ...   \n",
              "3  Tom Hanks Robin Wright Gary Sinise Mykelti Wil...   \n",
              "4  Kevin Spacey Annette Bening Thora Birch Wes Be...   \n",
              "\n",
              "                                          Movie_Crew   Movie_Director  \n",
              "0  [{'name': 'Allison Anders', 'gender': 1, 'depa...   Allison Anders  \n",
              "1  [{'name': 'George Lucas', 'gender': 2, 'depart...     George Lucas  \n",
              "2  [{'name': 'Andrew Stanton', 'gender': 2, 'depa...   Andrew Stanton  \n",
              "3  [{'name': 'Alan Silvestri', 'gender': 2, 'depa...  Robert Zemeckis  \n",
              "4  [{'name': 'Thomas Newman', 'gender': 2, 'depar...       Sam Mendes  \n",
              "\n",
              "[5 rows x 21 columns]"
            ],
            "text/html": [
              "\n",
              "  <div id=\"df-bae592e2-55ba-4ee0-b049-9dd43ee93227\" class=\"colab-df-container\">\n",
              "    <div>\n",
              "<style scoped>\n",
              "    .dataframe tbody tr th:only-of-type {\n",
              "        vertical-align: middle;\n",
              "    }\n",
              "\n",
              "    .dataframe tbody tr th {\n",
              "        vertical-align: top;\n",
              "    }\n",
              "\n",
              "    .dataframe thead th {\n",
              "        text-align: right;\n",
              "    }\n",
              "</style>\n",
              "<table border=\"1\" class=\"dataframe\">\n",
              "  <thead>\n",
              "    <tr style=\"text-align: right;\">\n",
              "      <th></th>\n",
              "      <th>Movie_ID</th>\n",
              "      <th>Movie_Title</th>\n",
              "      <th>Movie_Genre</th>\n",
              "      <th>Movie_Language</th>\n",
              "      <th>Movie_Budget</th>\n",
              "      <th>Movie_Popularity</th>\n",
              "      <th>Movie_Release_Date</th>\n",
              "      <th>Movie_Revenue</th>\n",
              "      <th>Movie_Runtime</th>\n",
              "      <th>Movie_Vote</th>\n",
              "      <th>...</th>\n",
              "      <th>Movie_Homepage</th>\n",
              "      <th>Movie_Keywords</th>\n",
              "      <th>Movie_Overview</th>\n",
              "      <th>Movie_Production_House</th>\n",
              "      <th>Movie_Production_Country</th>\n",
              "      <th>Movie_Spoken_Language</th>\n",
              "      <th>Movie_Tagline</th>\n",
              "      <th>Movie_Cast</th>\n",
              "      <th>Movie_Crew</th>\n",
              "      <th>Movie_Director</th>\n",
              "    </tr>\n",
              "  </thead>\n",
              "  <tbody>\n",
              "    <tr>\n",
              "      <th>0</th>\n",
              "      <td>1</td>\n",
              "      <td>Four Rooms</td>\n",
              "      <td>Crime Comedy</td>\n",
              "      <td>en</td>\n",
              "      <td>4000000</td>\n",
              "      <td>22.876230</td>\n",
              "      <td>09-12-1995</td>\n",
              "      <td>4300000</td>\n",
              "      <td>98.0</td>\n",
              "      <td>6.5</td>\n",
              "      <td>...</td>\n",
              "      <td>NaN</td>\n",
              "      <td>hotel new year's eve witch bet hotel room</td>\n",
              "      <td>It's Ted the Bellhop's first night on the job....</td>\n",
              "      <td>[{\"name\": \"Miramax Films\", \"id\": 14}, {\"name\":...</td>\n",
              "      <td>[{\"iso_3166_1\": \"US\", \"name\": \"United States o...</td>\n",
              "      <td>[{\"iso_639_1\": \"en\", \"name\": \"English\"}]</td>\n",
              "      <td>Twelve outrageous guests. Four scandalous requ...</td>\n",
              "      <td>Tim Roth Antonio Banderas Jennifer Beals Madon...</td>\n",
              "      <td>[{'name': 'Allison Anders', 'gender': 1, 'depa...</td>\n",
              "      <td>Allison Anders</td>\n",
              "    </tr>\n",
              "    <tr>\n",
              "      <th>1</th>\n",
              "      <td>2</td>\n",
              "      <td>Star Wars</td>\n",
              "      <td>Adventure Action Science Fiction</td>\n",
              "      <td>en</td>\n",
              "      <td>11000000</td>\n",
              "      <td>126.393695</td>\n",
              "      <td>25-05-1977</td>\n",
              "      <td>775398007</td>\n",
              "      <td>121.0</td>\n",
              "      <td>8.1</td>\n",
              "      <td>...</td>\n",
              "      <td>http://www.starwars.com/films/star-wars-episod...</td>\n",
              "      <td>android galaxy hermit death star lightsaber</td>\n",
              "      <td>Princess Leia is captured and held hostage by ...</td>\n",
              "      <td>[{\"name\": \"Lucasfilm\", \"id\": 1}, {\"name\": \"Twe...</td>\n",
              "      <td>[{\"iso_3166_1\": \"US\", \"name\": \"United States o...</td>\n",
              "      <td>[{\"iso_639_1\": \"en\", \"name\": \"English\"}]</td>\n",
              "      <td>A long time ago in a galaxy far, far away...</td>\n",
              "      <td>Mark Hamill Harrison Ford Carrie Fisher Peter ...</td>\n",
              "      <td>[{'name': 'George Lucas', 'gender': 2, 'depart...</td>\n",
              "      <td>George Lucas</td>\n",
              "    </tr>\n",
              "    <tr>\n",
              "      <th>2</th>\n",
              "      <td>3</td>\n",
              "      <td>Finding Nemo</td>\n",
              "      <td>Animation Family</td>\n",
              "      <td>en</td>\n",
              "      <td>94000000</td>\n",
              "      <td>85.688789</td>\n",
              "      <td>30-05-2003</td>\n",
              "      <td>940335536</td>\n",
              "      <td>100.0</td>\n",
              "      <td>7.6</td>\n",
              "      <td>...</td>\n",
              "      <td>http://movies.disney.com/finding-nemo</td>\n",
              "      <td>father son relationship harbor underwater fish...</td>\n",
              "      <td>Nemo, an adventurous young clownfish, is unexp...</td>\n",
              "      <td>[{\"name\": \"Pixar Animation Studios\", \"id\": 3}]</td>\n",
              "      <td>[{\"iso_3166_1\": \"US\", \"name\": \"United States o...</td>\n",
              "      <td>[{\"iso_639_1\": \"en\", \"name\": \"English\"}]</td>\n",
              "      <td>There are 3.7 trillion fish in the ocean, they...</td>\n",
              "      <td>Albert Brooks Ellen DeGeneres Alexander Gould ...</td>\n",
              "      <td>[{'name': 'Andrew Stanton', 'gender': 2, 'depa...</td>\n",
              "      <td>Andrew Stanton</td>\n",
              "    </tr>\n",
              "    <tr>\n",
              "      <th>3</th>\n",
              "      <td>4</td>\n",
              "      <td>Forrest Gump</td>\n",
              "      <td>Comedy Drama Romance</td>\n",
              "      <td>en</td>\n",
              "      <td>55000000</td>\n",
              "      <td>138.133331</td>\n",
              "      <td>06-07-1994</td>\n",
              "      <td>677945399</td>\n",
              "      <td>142.0</td>\n",
              "      <td>8.2</td>\n",
              "      <td>...</td>\n",
              "      <td>NaN</td>\n",
              "      <td>vietnam veteran hippie mentally disabled runni...</td>\n",
              "      <td>A man with a low IQ has accomplished great thi...</td>\n",
              "      <td>[{\"name\": \"Paramount Pictures\", \"id\": 4}]</td>\n",
              "      <td>[{\"iso_3166_1\": \"US\", \"name\": \"United States o...</td>\n",
              "      <td>[{\"iso_639_1\": \"en\", \"name\": \"English\"}]</td>\n",
              "      <td>The world will never be the same, once you've ...</td>\n",
              "      <td>Tom Hanks Robin Wright Gary Sinise Mykelti Wil...</td>\n",
              "      <td>[{'name': 'Alan Silvestri', 'gender': 2, 'depa...</td>\n",
              "      <td>Robert Zemeckis</td>\n",
              "    </tr>\n",
              "    <tr>\n",
              "      <th>4</th>\n",
              "      <td>5</td>\n",
              "      <td>American Beauty</td>\n",
              "      <td>Drama</td>\n",
              "      <td>en</td>\n",
              "      <td>15000000</td>\n",
              "      <td>80.878605</td>\n",
              "      <td>15-09-1999</td>\n",
              "      <td>356296601</td>\n",
              "      <td>122.0</td>\n",
              "      <td>7.9</td>\n",
              "      <td>...</td>\n",
              "      <td>http://www.dreamworks.com/ab/</td>\n",
              "      <td>male nudity female nudity adultery midlife cri...</td>\n",
              "      <td>Lester Burnham, a depressed suburban father in...</td>\n",
              "      <td>[{\"name\": \"DreamWorks SKG\", \"id\": 27}, {\"name\"...</td>\n",
              "      <td>[{\"iso_3166_1\": \"US\", \"name\": \"United States o...</td>\n",
              "      <td>[{\"iso_639_1\": \"en\", \"name\": \"English\"}]</td>\n",
              "      <td>Look closer.</td>\n",
              "      <td>Kevin Spacey Annette Bening Thora Birch Wes Be...</td>\n",
              "      <td>[{'name': 'Thomas Newman', 'gender': 2, 'depar...</td>\n",
              "      <td>Sam Mendes</td>\n",
              "    </tr>\n",
              "  </tbody>\n",
              "</table>\n",
              "<p>5 rows × 21 columns</p>\n",
              "</div>\n",
              "    <div class=\"colab-df-buttons\">\n",
              "\n",
              "  <div class=\"colab-df-container\">\n",
              "    <button class=\"colab-df-convert\" onclick=\"convertToInteractive('df-bae592e2-55ba-4ee0-b049-9dd43ee93227')\"\n",
              "            title=\"Convert this dataframe to an interactive table.\"\n",
              "            style=\"display:none;\">\n",
              "\n",
              "  <svg xmlns=\"http://www.w3.org/2000/svg\" height=\"24px\" viewBox=\"0 -960 960 960\">\n",
              "    <path d=\"M120-120v-720h720v720H120Zm60-500h600v-160H180v160Zm220 220h160v-160H400v160Zm0 220h160v-160H400v160ZM180-400h160v-160H180v160Zm440 0h160v-160H620v160ZM180-180h160v-160H180v160Zm440 0h160v-160H620v160Z\"/>\n",
              "  </svg>\n",
              "    </button>\n",
              "\n",
              "  <style>\n",
              "    .colab-df-container {\n",
              "      display:flex;\n",
              "      gap: 12px;\n",
              "    }\n",
              "\n",
              "    .colab-df-convert {\n",
              "      background-color: #E8F0FE;\n",
              "      border: none;\n",
              "      border-radius: 50%;\n",
              "      cursor: pointer;\n",
              "      display: none;\n",
              "      fill: #1967D2;\n",
              "      height: 32px;\n",
              "      padding: 0 0 0 0;\n",
              "      width: 32px;\n",
              "    }\n",
              "\n",
              "    .colab-df-convert:hover {\n",
              "      background-color: #E2EBFA;\n",
              "      box-shadow: 0px 1px 2px rgba(60, 64, 67, 0.3), 0px 1px 3px 1px rgba(60, 64, 67, 0.15);\n",
              "      fill: #174EA6;\n",
              "    }\n",
              "\n",
              "    .colab-df-buttons div {\n",
              "      margin-bottom: 4px;\n",
              "    }\n",
              "\n",
              "    [theme=dark] .colab-df-convert {\n",
              "      background-color: #3B4455;\n",
              "      fill: #D2E3FC;\n",
              "    }\n",
              "\n",
              "    [theme=dark] .colab-df-convert:hover {\n",
              "      background-color: #434B5C;\n",
              "      box-shadow: 0px 1px 3px 1px rgba(0, 0, 0, 0.15);\n",
              "      filter: drop-shadow(0px 1px 2px rgba(0, 0, 0, 0.3));\n",
              "      fill: #FFFFFF;\n",
              "    }\n",
              "  </style>\n",
              "\n",
              "    <script>\n",
              "      const buttonEl =\n",
              "        document.querySelector('#df-bae592e2-55ba-4ee0-b049-9dd43ee93227 button.colab-df-convert');\n",
              "      buttonEl.style.display =\n",
              "        google.colab.kernel.accessAllowed ? 'block' : 'none';\n",
              "\n",
              "      async function convertToInteractive(key) {\n",
              "        const element = document.querySelector('#df-bae592e2-55ba-4ee0-b049-9dd43ee93227');\n",
              "        const dataTable =\n",
              "          await google.colab.kernel.invokeFunction('convertToInteractive',\n",
              "                                                    [key], {});\n",
              "        if (!dataTable) return;\n",
              "\n",
              "        const docLinkHtml = 'Like what you see? Visit the ' +\n",
              "          '<a target=\"_blank\" href=https://colab.research.google.com/notebooks/data_table.ipynb>data table notebook</a>'\n",
              "          + ' to learn more about interactive tables.';\n",
              "        element.innerHTML = '';\n",
              "        dataTable['output_type'] = 'display_data';\n",
              "        await google.colab.output.renderOutput(dataTable, element);\n",
              "        const docLink = document.createElement('div');\n",
              "        docLink.innerHTML = docLinkHtml;\n",
              "        element.appendChild(docLink);\n",
              "      }\n",
              "    </script>\n",
              "  </div>\n",
              "\n",
              "\n",
              "<div id=\"df-d9ce254e-6905-42ac-8a21-8eb4945b4638\">\n",
              "  <button class=\"colab-df-quickchart\" onclick=\"quickchart('df-d9ce254e-6905-42ac-8a21-8eb4945b4638')\"\n",
              "            title=\"Suggest charts\"\n",
              "            style=\"display:none;\">\n",
              "\n",
              "<svg xmlns=\"http://www.w3.org/2000/svg\" height=\"24px\"viewBox=\"0 0 24 24\"\n",
              "     width=\"24px\">\n",
              "    <g>\n",
              "        <path d=\"M19 3H5c-1.1 0-2 .9-2 2v14c0 1.1.9 2 2 2h14c1.1 0 2-.9 2-2V5c0-1.1-.9-2-2-2zM9 17H7v-7h2v7zm4 0h-2V7h2v10zm4 0h-2v-4h2v4z\"/>\n",
              "    </g>\n",
              "</svg>\n",
              "  </button>\n",
              "\n",
              "<style>\n",
              "  .colab-df-quickchart {\n",
              "      --bg-color: #E8F0FE;\n",
              "      --fill-color: #1967D2;\n",
              "      --hover-bg-color: #E2EBFA;\n",
              "      --hover-fill-color: #174EA6;\n",
              "      --disabled-fill-color: #AAA;\n",
              "      --disabled-bg-color: #DDD;\n",
              "  }\n",
              "\n",
              "  [theme=dark] .colab-df-quickchart {\n",
              "      --bg-color: #3B4455;\n",
              "      --fill-color: #D2E3FC;\n",
              "      --hover-bg-color: #434B5C;\n",
              "      --hover-fill-color: #FFFFFF;\n",
              "      --disabled-bg-color: #3B4455;\n",
              "      --disabled-fill-color: #666;\n",
              "  }\n",
              "\n",
              "  .colab-df-quickchart {\n",
              "    background-color: var(--bg-color);\n",
              "    border: none;\n",
              "    border-radius: 50%;\n",
              "    cursor: pointer;\n",
              "    display: none;\n",
              "    fill: var(--fill-color);\n",
              "    height: 32px;\n",
              "    padding: 0;\n",
              "    width: 32px;\n",
              "  }\n",
              "\n",
              "  .colab-df-quickchart:hover {\n",
              "    background-color: var(--hover-bg-color);\n",
              "    box-shadow: 0 1px 2px rgba(60, 64, 67, 0.3), 0 1px 3px 1px rgba(60, 64, 67, 0.15);\n",
              "    fill: var(--button-hover-fill-color);\n",
              "  }\n",
              "\n",
              "  .colab-df-quickchart-complete:disabled,\n",
              "  .colab-df-quickchart-complete:disabled:hover {\n",
              "    background-color: var(--disabled-bg-color);\n",
              "    fill: var(--disabled-fill-color);\n",
              "    box-shadow: none;\n",
              "  }\n",
              "\n",
              "  .colab-df-spinner {\n",
              "    border: 2px solid var(--fill-color);\n",
              "    border-color: transparent;\n",
              "    border-bottom-color: var(--fill-color);\n",
              "    animation:\n",
              "      spin 1s steps(1) infinite;\n",
              "  }\n",
              "\n",
              "  @keyframes spin {\n",
              "    0% {\n",
              "      border-color: transparent;\n",
              "      border-bottom-color: var(--fill-color);\n",
              "      border-left-color: var(--fill-color);\n",
              "    }\n",
              "    20% {\n",
              "      border-color: transparent;\n",
              "      border-left-color: var(--fill-color);\n",
              "      border-top-color: var(--fill-color);\n",
              "    }\n",
              "    30% {\n",
              "      border-color: transparent;\n",
              "      border-left-color: var(--fill-color);\n",
              "      border-top-color: var(--fill-color);\n",
              "      border-right-color: var(--fill-color);\n",
              "    }\n",
              "    40% {\n",
              "      border-color: transparent;\n",
              "      border-right-color: var(--fill-color);\n",
              "      border-top-color: var(--fill-color);\n",
              "    }\n",
              "    60% {\n",
              "      border-color: transparent;\n",
              "      border-right-color: var(--fill-color);\n",
              "    }\n",
              "    80% {\n",
              "      border-color: transparent;\n",
              "      border-right-color: var(--fill-color);\n",
              "      border-bottom-color: var(--fill-color);\n",
              "    }\n",
              "    90% {\n",
              "      border-color: transparent;\n",
              "      border-bottom-color: var(--fill-color);\n",
              "    }\n",
              "  }\n",
              "</style>\n",
              "\n",
              "  <script>\n",
              "    async function quickchart(key) {\n",
              "      const quickchartButtonEl =\n",
              "        document.querySelector('#' + key + ' button');\n",
              "      quickchartButtonEl.disabled = true;  // To prevent multiple clicks.\n",
              "      quickchartButtonEl.classList.add('colab-df-spinner');\n",
              "      try {\n",
              "        const charts = await google.colab.kernel.invokeFunction(\n",
              "            'suggestCharts', [key], {});\n",
              "      } catch (error) {\n",
              "        console.error('Error during call to suggestCharts:', error);\n",
              "      }\n",
              "      quickchartButtonEl.classList.remove('colab-df-spinner');\n",
              "      quickchartButtonEl.classList.add('colab-df-quickchart-complete');\n",
              "    }\n",
              "    (() => {\n",
              "      let quickchartButtonEl =\n",
              "        document.querySelector('#df-d9ce254e-6905-42ac-8a21-8eb4945b4638 button');\n",
              "      quickchartButtonEl.style.display =\n",
              "        google.colab.kernel.accessAllowed ? 'block' : 'none';\n",
              "    })();\n",
              "  </script>\n",
              "</div>\n",
              "\n",
              "    </div>\n",
              "  </div>\n"
            ],
            "application/vnd.google.colaboratory.intrinsic+json": {
              "type": "dataframe",
              "variable_name": "df"
            }
          },
          "metadata": {},
          "execution_count": 4
        }
      ],
      "source": [
        "\n",
        "import pandas as pd\n",
        "import numpy as np\n",
        "df = pd.read_csv('https://raw.githubusercontent.com/YBI-Foundation/Dataset/main/Movies%20Recommendation.csv') #Fixed the URL by adding // after https:\n",
        "df.head()"
      ]
    },
    {
      "cell_type": "markdown",
      "source": [
        "Import Dataset"
      ],
      "metadata": {
        "id": "gAWyHn6jKTEc"
      }
    },
    {
      "cell_type": "code",
      "source": [
        "df.info()"
      ],
      "metadata": {
        "colab": {
          "base_uri": "https://localhost:8080/"
        },
        "id": "GTqo3blONP42",
        "outputId": "56589593-fddf-43ee-9b47-40dc3f27e812"
      },
      "execution_count": null,
      "outputs": [
        {
          "output_type": "stream",
          "name": "stdout",
          "text": [
            "<class 'pandas.core.frame.DataFrame'>\n",
            "RangeIndex: 4760 entries, 0 to 4759\n",
            "Data columns (total 21 columns):\n",
            " #   Column                    Non-Null Count  Dtype  \n",
            "---  ------                    --------------  -----  \n",
            " 0   Movie_ID                  4760 non-null   int64  \n",
            " 1   Movie_Title               4760 non-null   object \n",
            " 2   Movie_Genre               4760 non-null   object \n",
            " 3   Movie_Language            4760 non-null   object \n",
            " 4   Movie_Budget              4760 non-null   int64  \n",
            " 5   Movie_Popularity          4760 non-null   float64\n",
            " 6   Movie_Release_Date        4760 non-null   object \n",
            " 7   Movie_Revenue             4760 non-null   int64  \n",
            " 8   Movie_Runtime             4758 non-null   float64\n",
            " 9   Movie_Vote                4760 non-null   float64\n",
            " 10  Movie_Vote_Count          4760 non-null   int64  \n",
            " 11  Movie_Homepage            1699 non-null   object \n",
            " 12  Movie_Keywords            4373 non-null   object \n",
            " 13  Movie_Overview            4757 non-null   object \n",
            " 14  Movie_Production_House    4760 non-null   object \n",
            " 15  Movie_Production_Country  4760 non-null   object \n",
            " 16  Movie_Spoken_Language     4760 non-null   object \n",
            " 17  Movie_Tagline             3942 non-null   object \n",
            " 18  Movie_Cast                4733 non-null   object \n",
            " 19  Movie_Crew                4760 non-null   object \n",
            " 20  Movie_Director            4738 non-null   object \n",
            "dtypes: float64(3), int64(4), object(14)\n",
            "memory usage: 781.1+ KB\n"
          ]
        }
      ]
    },
    {
      "cell_type": "code",
      "source": [
        "df.shape"
      ],
      "metadata": {
        "colab": {
          "base_uri": "https://localhost:8080/"
        },
        "id": "uSZ1yw_SNblF",
        "outputId": "731344df-71a1-42e0-9570-6e244bd63efc"
      },
      "execution_count": null,
      "outputs": [
        {
          "output_type": "execute_result",
          "data": {
            "text/plain": [
              "(4760, 21)"
            ]
          },
          "metadata": {},
          "execution_count": 6
        }
      ]
    },
    {
      "cell_type": "code",
      "source": [
        "df.columns"
      ],
      "metadata": {
        "colab": {
          "base_uri": "https://localhost:8080/"
        },
        "id": "qzSLnSWnNmDx",
        "outputId": "8a766108-6185-4e62-d362-58edc9681f8e"
      },
      "execution_count": null,
      "outputs": [
        {
          "output_type": "execute_result",
          "data": {
            "text/plain": [
              "Index(['Movie_ID', 'Movie_Title', 'Movie_Genre', 'Movie_Language',\n",
              "       'Movie_Budget', 'Movie_Popularity', 'Movie_Release_Date',\n",
              "       'Movie_Revenue', 'Movie_Runtime', 'Movie_Vote', 'Movie_Vote_Count',\n",
              "       'Movie_Homepage', 'Movie_Keywords', 'Movie_Overview',\n",
              "       'Movie_Production_House', 'Movie_Production_Country',\n",
              "       'Movie_Spoken_Language', 'Movie_Tagline', 'Movie_Cast', 'Movie_Crew',\n",
              "       'Movie_Director'],\n",
              "      dtype='object')"
            ]
          },
          "metadata": {},
          "execution_count": 7
        }
      ]
    },
    {
      "cell_type": "markdown",
      "source": [
        "**Get Feature Selection**"
      ],
      "metadata": {
        "id": "xB2UlCu0NtlC"
      }
    },
    {
      "cell_type": "code",
      "source": [
        "df_features = df[['Movie_Genre','Movie_Keywords','Movie_Tagline','Movie_Cast','Movie_Director']].fillna('')\n",
        "df_features.shape\n"
      ],
      "metadata": {
        "colab": {
          "base_uri": "https://localhost:8080/"
        },
        "id": "XsV7xBf2N4TQ",
        "outputId": "e0e7b416-cef5-4d62-fcf3-7c84eb173554"
      },
      "execution_count": null,
      "outputs": [
        {
          "output_type": "execute_result",
          "data": {
            "text/plain": [
              "(4760, 5)"
            ]
          },
          "metadata": {},
          "execution_count": 10
        }
      ]
    },
    {
      "cell_type": "code",
      "source": [
        "df_features"
      ],
      "metadata": {
        "colab": {
          "base_uri": "https://localhost:8080/",
          "height": 909
        },
        "id": "wm4AUnXEOWiY",
        "outputId": "6c0ec8dc-48dc-4416-dd04-393c00581410"
      },
      "execution_count": null,
      "outputs": [
        {
          "output_type": "execute_result",
          "data": {
            "text/plain": [
              "                           Movie_Genre  \\\n",
              "0                         Crime Comedy   \n",
              "1     Adventure Action Science Fiction   \n",
              "2                     Animation Family   \n",
              "3                 Comedy Drama Romance   \n",
              "4                                Drama   \n",
              "...                                ...   \n",
              "4755                            Horror   \n",
              "4756               Comedy Family Drama   \n",
              "4757                    Thriller Drama   \n",
              "4758                            Family   \n",
              "4759                       Documentary   \n",
              "\n",
              "                                         Movie_Keywords  \\\n",
              "0             hotel new year's eve witch bet hotel room   \n",
              "1           android galaxy hermit death star lightsaber   \n",
              "2     father son relationship harbor underwater fish...   \n",
              "3     vietnam veteran hippie mentally disabled runni...   \n",
              "4     male nudity female nudity adultery midlife cri...   \n",
              "...                                                 ...   \n",
              "4755                                                      \n",
              "4756                                                      \n",
              "4757                     christian film sex trafficking   \n",
              "4758                                                      \n",
              "4759  music actors legendary perfomer classic hollyw...   \n",
              "\n",
              "                                          Movie_Tagline  \\\n",
              "0     Twelve outrageous guests. Four scandalous requ...   \n",
              "1          A long time ago in a galaxy far, far away...   \n",
              "2     There are 3.7 trillion fish in the ocean, they...   \n",
              "3     The world will never be the same, once you've ...   \n",
              "4                                          Look closer.   \n",
              "...                                                 ...   \n",
              "4755                The hot spot where Satan's waitin'.   \n",
              "4756           It’s better to stand out than to fit in.   \n",
              "4757           She never knew it could happen to her...   \n",
              "4758                                                      \n",
              "4759                                                      \n",
              "\n",
              "                                             Movie_Cast     Movie_Director  \n",
              "0     Tim Roth Antonio Banderas Jennifer Beals Madon...     Allison Anders  \n",
              "1     Mark Hamill Harrison Ford Carrie Fisher Peter ...       George Lucas  \n",
              "2     Albert Brooks Ellen DeGeneres Alexander Gould ...     Andrew Stanton  \n",
              "3     Tom Hanks Robin Wright Gary Sinise Mykelti Wil...    Robert Zemeckis  \n",
              "4     Kevin Spacey Annette Bening Thora Birch Wes Be...         Sam Mendes  \n",
              "...                                                 ...                ...  \n",
              "4755  Lisa Hart Carroll Michael Des Barres Paul Drak...         Pece Dingo  \n",
              "4756  Roni Akurati Brighton Sharbino Jason Lee Anjul...       Frank Lotito  \n",
              "4757  Nicole Smolen Kim Baldwin Ariana Stephens Brys...       Jaco Booyens  \n",
              "4758                                                                        \n",
              "4759                                    Tony Oppedisano  Simon Napier-Bell  \n",
              "\n",
              "[4760 rows x 5 columns]"
            ],
            "text/html": [
              "\n",
              "  <div id=\"df-a2ea8ff5-16f2-41ae-8cd8-5409f2adcf98\" class=\"colab-df-container\">\n",
              "    <div>\n",
              "<style scoped>\n",
              "    .dataframe tbody tr th:only-of-type {\n",
              "        vertical-align: middle;\n",
              "    }\n",
              "\n",
              "    .dataframe tbody tr th {\n",
              "        vertical-align: top;\n",
              "    }\n",
              "\n",
              "    .dataframe thead th {\n",
              "        text-align: right;\n",
              "    }\n",
              "</style>\n",
              "<table border=\"1\" class=\"dataframe\">\n",
              "  <thead>\n",
              "    <tr style=\"text-align: right;\">\n",
              "      <th></th>\n",
              "      <th>Movie_Genre</th>\n",
              "      <th>Movie_Keywords</th>\n",
              "      <th>Movie_Tagline</th>\n",
              "      <th>Movie_Cast</th>\n",
              "      <th>Movie_Director</th>\n",
              "    </tr>\n",
              "  </thead>\n",
              "  <tbody>\n",
              "    <tr>\n",
              "      <th>0</th>\n",
              "      <td>Crime Comedy</td>\n",
              "      <td>hotel new year's eve witch bet hotel room</td>\n",
              "      <td>Twelve outrageous guests. Four scandalous requ...</td>\n",
              "      <td>Tim Roth Antonio Banderas Jennifer Beals Madon...</td>\n",
              "      <td>Allison Anders</td>\n",
              "    </tr>\n",
              "    <tr>\n",
              "      <th>1</th>\n",
              "      <td>Adventure Action Science Fiction</td>\n",
              "      <td>android galaxy hermit death star lightsaber</td>\n",
              "      <td>A long time ago in a galaxy far, far away...</td>\n",
              "      <td>Mark Hamill Harrison Ford Carrie Fisher Peter ...</td>\n",
              "      <td>George Lucas</td>\n",
              "    </tr>\n",
              "    <tr>\n",
              "      <th>2</th>\n",
              "      <td>Animation Family</td>\n",
              "      <td>father son relationship harbor underwater fish...</td>\n",
              "      <td>There are 3.7 trillion fish in the ocean, they...</td>\n",
              "      <td>Albert Brooks Ellen DeGeneres Alexander Gould ...</td>\n",
              "      <td>Andrew Stanton</td>\n",
              "    </tr>\n",
              "    <tr>\n",
              "      <th>3</th>\n",
              "      <td>Comedy Drama Romance</td>\n",
              "      <td>vietnam veteran hippie mentally disabled runni...</td>\n",
              "      <td>The world will never be the same, once you've ...</td>\n",
              "      <td>Tom Hanks Robin Wright Gary Sinise Mykelti Wil...</td>\n",
              "      <td>Robert Zemeckis</td>\n",
              "    </tr>\n",
              "    <tr>\n",
              "      <th>4</th>\n",
              "      <td>Drama</td>\n",
              "      <td>male nudity female nudity adultery midlife cri...</td>\n",
              "      <td>Look closer.</td>\n",
              "      <td>Kevin Spacey Annette Bening Thora Birch Wes Be...</td>\n",
              "      <td>Sam Mendes</td>\n",
              "    </tr>\n",
              "    <tr>\n",
              "      <th>...</th>\n",
              "      <td>...</td>\n",
              "      <td>...</td>\n",
              "      <td>...</td>\n",
              "      <td>...</td>\n",
              "      <td>...</td>\n",
              "    </tr>\n",
              "    <tr>\n",
              "      <th>4755</th>\n",
              "      <td>Horror</td>\n",
              "      <td></td>\n",
              "      <td>The hot spot where Satan's waitin'.</td>\n",
              "      <td>Lisa Hart Carroll Michael Des Barres Paul Drak...</td>\n",
              "      <td>Pece Dingo</td>\n",
              "    </tr>\n",
              "    <tr>\n",
              "      <th>4756</th>\n",
              "      <td>Comedy Family Drama</td>\n",
              "      <td></td>\n",
              "      <td>It’s better to stand out than to fit in.</td>\n",
              "      <td>Roni Akurati Brighton Sharbino Jason Lee Anjul...</td>\n",
              "      <td>Frank Lotito</td>\n",
              "    </tr>\n",
              "    <tr>\n",
              "      <th>4757</th>\n",
              "      <td>Thriller Drama</td>\n",
              "      <td>christian film sex trafficking</td>\n",
              "      <td>She never knew it could happen to her...</td>\n",
              "      <td>Nicole Smolen Kim Baldwin Ariana Stephens Brys...</td>\n",
              "      <td>Jaco Booyens</td>\n",
              "    </tr>\n",
              "    <tr>\n",
              "      <th>4758</th>\n",
              "      <td>Family</td>\n",
              "      <td></td>\n",
              "      <td></td>\n",
              "      <td></td>\n",
              "      <td></td>\n",
              "    </tr>\n",
              "    <tr>\n",
              "      <th>4759</th>\n",
              "      <td>Documentary</td>\n",
              "      <td>music actors legendary perfomer classic hollyw...</td>\n",
              "      <td></td>\n",
              "      <td>Tony Oppedisano</td>\n",
              "      <td>Simon Napier-Bell</td>\n",
              "    </tr>\n",
              "  </tbody>\n",
              "</table>\n",
              "<p>4760 rows × 5 columns</p>\n",
              "</div>\n",
              "    <div class=\"colab-df-buttons\">\n",
              "\n",
              "  <div class=\"colab-df-container\">\n",
              "    <button class=\"colab-df-convert\" onclick=\"convertToInteractive('df-a2ea8ff5-16f2-41ae-8cd8-5409f2adcf98')\"\n",
              "            title=\"Convert this dataframe to an interactive table.\"\n",
              "            style=\"display:none;\">\n",
              "\n",
              "  <svg xmlns=\"http://www.w3.org/2000/svg\" height=\"24px\" viewBox=\"0 -960 960 960\">\n",
              "    <path d=\"M120-120v-720h720v720H120Zm60-500h600v-160H180v160Zm220 220h160v-160H400v160Zm0 220h160v-160H400v160ZM180-400h160v-160H180v160Zm440 0h160v-160H620v160ZM180-180h160v-160H180v160Zm440 0h160v-160H620v160Z\"/>\n",
              "  </svg>\n",
              "    </button>\n",
              "\n",
              "  <style>\n",
              "    .colab-df-container {\n",
              "      display:flex;\n",
              "      gap: 12px;\n",
              "    }\n",
              "\n",
              "    .colab-df-convert {\n",
              "      background-color: #E8F0FE;\n",
              "      border: none;\n",
              "      border-radius: 50%;\n",
              "      cursor: pointer;\n",
              "      display: none;\n",
              "      fill: #1967D2;\n",
              "      height: 32px;\n",
              "      padding: 0 0 0 0;\n",
              "      width: 32px;\n",
              "    }\n",
              "\n",
              "    .colab-df-convert:hover {\n",
              "      background-color: #E2EBFA;\n",
              "      box-shadow: 0px 1px 2px rgba(60, 64, 67, 0.3), 0px 1px 3px 1px rgba(60, 64, 67, 0.15);\n",
              "      fill: #174EA6;\n",
              "    }\n",
              "\n",
              "    .colab-df-buttons div {\n",
              "      margin-bottom: 4px;\n",
              "    }\n",
              "\n",
              "    [theme=dark] .colab-df-convert {\n",
              "      background-color: #3B4455;\n",
              "      fill: #D2E3FC;\n",
              "    }\n",
              "\n",
              "    [theme=dark] .colab-df-convert:hover {\n",
              "      background-color: #434B5C;\n",
              "      box-shadow: 0px 1px 3px 1px rgba(0, 0, 0, 0.15);\n",
              "      filter: drop-shadow(0px 1px 2px rgba(0, 0, 0, 0.3));\n",
              "      fill: #FFFFFF;\n",
              "    }\n",
              "  </style>\n",
              "\n",
              "    <script>\n",
              "      const buttonEl =\n",
              "        document.querySelector('#df-a2ea8ff5-16f2-41ae-8cd8-5409f2adcf98 button.colab-df-convert');\n",
              "      buttonEl.style.display =\n",
              "        google.colab.kernel.accessAllowed ? 'block' : 'none';\n",
              "\n",
              "      async function convertToInteractive(key) {\n",
              "        const element = document.querySelector('#df-a2ea8ff5-16f2-41ae-8cd8-5409f2adcf98');\n",
              "        const dataTable =\n",
              "          await google.colab.kernel.invokeFunction('convertToInteractive',\n",
              "                                                    [key], {});\n",
              "        if (!dataTable) return;\n",
              "\n",
              "        const docLinkHtml = 'Like what you see? Visit the ' +\n",
              "          '<a target=\"_blank\" href=https://colab.research.google.com/notebooks/data_table.ipynb>data table notebook</a>'\n",
              "          + ' to learn more about interactive tables.';\n",
              "        element.innerHTML = '';\n",
              "        dataTable['output_type'] = 'display_data';\n",
              "        await google.colab.output.renderOutput(dataTable, element);\n",
              "        const docLink = document.createElement('div');\n",
              "        docLink.innerHTML = docLinkHtml;\n",
              "        element.appendChild(docLink);\n",
              "      }\n",
              "    </script>\n",
              "  </div>\n",
              "\n",
              "\n",
              "<div id=\"df-b6efddf0-6628-4291-ae54-09e329b108ff\">\n",
              "  <button class=\"colab-df-quickchart\" onclick=\"quickchart('df-b6efddf0-6628-4291-ae54-09e329b108ff')\"\n",
              "            title=\"Suggest charts\"\n",
              "            style=\"display:none;\">\n",
              "\n",
              "<svg xmlns=\"http://www.w3.org/2000/svg\" height=\"24px\"viewBox=\"0 0 24 24\"\n",
              "     width=\"24px\">\n",
              "    <g>\n",
              "        <path d=\"M19 3H5c-1.1 0-2 .9-2 2v14c0 1.1.9 2 2 2h14c1.1 0 2-.9 2-2V5c0-1.1-.9-2-2-2zM9 17H7v-7h2v7zm4 0h-2V7h2v10zm4 0h-2v-4h2v4z\"/>\n",
              "    </g>\n",
              "</svg>\n",
              "  </button>\n",
              "\n",
              "<style>\n",
              "  .colab-df-quickchart {\n",
              "      --bg-color: #E8F0FE;\n",
              "      --fill-color: #1967D2;\n",
              "      --hover-bg-color: #E2EBFA;\n",
              "      --hover-fill-color: #174EA6;\n",
              "      --disabled-fill-color: #AAA;\n",
              "      --disabled-bg-color: #DDD;\n",
              "  }\n",
              "\n",
              "  [theme=dark] .colab-df-quickchart {\n",
              "      --bg-color: #3B4455;\n",
              "      --fill-color: #D2E3FC;\n",
              "      --hover-bg-color: #434B5C;\n",
              "      --hover-fill-color: #FFFFFF;\n",
              "      --disabled-bg-color: #3B4455;\n",
              "      --disabled-fill-color: #666;\n",
              "  }\n",
              "\n",
              "  .colab-df-quickchart {\n",
              "    background-color: var(--bg-color);\n",
              "    border: none;\n",
              "    border-radius: 50%;\n",
              "    cursor: pointer;\n",
              "    display: none;\n",
              "    fill: var(--fill-color);\n",
              "    height: 32px;\n",
              "    padding: 0;\n",
              "    width: 32px;\n",
              "  }\n",
              "\n",
              "  .colab-df-quickchart:hover {\n",
              "    background-color: var(--hover-bg-color);\n",
              "    box-shadow: 0 1px 2px rgba(60, 64, 67, 0.3), 0 1px 3px 1px rgba(60, 64, 67, 0.15);\n",
              "    fill: var(--button-hover-fill-color);\n",
              "  }\n",
              "\n",
              "  .colab-df-quickchart-complete:disabled,\n",
              "  .colab-df-quickchart-complete:disabled:hover {\n",
              "    background-color: var(--disabled-bg-color);\n",
              "    fill: var(--disabled-fill-color);\n",
              "    box-shadow: none;\n",
              "  }\n",
              "\n",
              "  .colab-df-spinner {\n",
              "    border: 2px solid var(--fill-color);\n",
              "    border-color: transparent;\n",
              "    border-bottom-color: var(--fill-color);\n",
              "    animation:\n",
              "      spin 1s steps(1) infinite;\n",
              "  }\n",
              "\n",
              "  @keyframes spin {\n",
              "    0% {\n",
              "      border-color: transparent;\n",
              "      border-bottom-color: var(--fill-color);\n",
              "      border-left-color: var(--fill-color);\n",
              "    }\n",
              "    20% {\n",
              "      border-color: transparent;\n",
              "      border-left-color: var(--fill-color);\n",
              "      border-top-color: var(--fill-color);\n",
              "    }\n",
              "    30% {\n",
              "      border-color: transparent;\n",
              "      border-left-color: var(--fill-color);\n",
              "      border-top-color: var(--fill-color);\n",
              "      border-right-color: var(--fill-color);\n",
              "    }\n",
              "    40% {\n",
              "      border-color: transparent;\n",
              "      border-right-color: var(--fill-color);\n",
              "      border-top-color: var(--fill-color);\n",
              "    }\n",
              "    60% {\n",
              "      border-color: transparent;\n",
              "      border-right-color: var(--fill-color);\n",
              "    }\n",
              "    80% {\n",
              "      border-color: transparent;\n",
              "      border-right-color: var(--fill-color);\n",
              "      border-bottom-color: var(--fill-color);\n",
              "    }\n",
              "    90% {\n",
              "      border-color: transparent;\n",
              "      border-bottom-color: var(--fill-color);\n",
              "    }\n",
              "  }\n",
              "</style>\n",
              "\n",
              "  <script>\n",
              "    async function quickchart(key) {\n",
              "      const quickchartButtonEl =\n",
              "        document.querySelector('#' + key + ' button');\n",
              "      quickchartButtonEl.disabled = true;  // To prevent multiple clicks.\n",
              "      quickchartButtonEl.classList.add('colab-df-spinner');\n",
              "      try {\n",
              "        const charts = await google.colab.kernel.invokeFunction(\n",
              "            'suggestCharts', [key], {});\n",
              "      } catch (error) {\n",
              "        console.error('Error during call to suggestCharts:', error);\n",
              "      }\n",
              "      quickchartButtonEl.classList.remove('colab-df-spinner');\n",
              "      quickchartButtonEl.classList.add('colab-df-quickchart-complete');\n",
              "    }\n",
              "    (() => {\n",
              "      let quickchartButtonEl =\n",
              "        document.querySelector('#df-b6efddf0-6628-4291-ae54-09e329b108ff button');\n",
              "      quickchartButtonEl.style.display =\n",
              "        google.colab.kernel.accessAllowed ? 'block' : 'none';\n",
              "    })();\n",
              "  </script>\n",
              "</div>\n",
              "\n",
              "  <div id=\"id_dfce27a7-3e61-451f-b003-2248fb1a3b81\">\n",
              "    <style>\n",
              "      .colab-df-generate {\n",
              "        background-color: #E8F0FE;\n",
              "        border: none;\n",
              "        border-radius: 50%;\n",
              "        cursor: pointer;\n",
              "        display: none;\n",
              "        fill: #1967D2;\n",
              "        height: 32px;\n",
              "        padding: 0 0 0 0;\n",
              "        width: 32px;\n",
              "      }\n",
              "\n",
              "      .colab-df-generate:hover {\n",
              "        background-color: #E2EBFA;\n",
              "        box-shadow: 0px 1px 2px rgba(60, 64, 67, 0.3), 0px 1px 3px 1px rgba(60, 64, 67, 0.15);\n",
              "        fill: #174EA6;\n",
              "      }\n",
              "\n",
              "      [theme=dark] .colab-df-generate {\n",
              "        background-color: #3B4455;\n",
              "        fill: #D2E3FC;\n",
              "      }\n",
              "\n",
              "      [theme=dark] .colab-df-generate:hover {\n",
              "        background-color: #434B5C;\n",
              "        box-shadow: 0px 1px 3px 1px rgba(0, 0, 0, 0.15);\n",
              "        filter: drop-shadow(0px 1px 2px rgba(0, 0, 0, 0.3));\n",
              "        fill: #FFFFFF;\n",
              "      }\n",
              "    </style>\n",
              "    <button class=\"colab-df-generate\" onclick=\"generateWithVariable('df_features')\"\n",
              "            title=\"Generate code using this dataframe.\"\n",
              "            style=\"display:none;\">\n",
              "\n",
              "  <svg xmlns=\"http://www.w3.org/2000/svg\" height=\"24px\"viewBox=\"0 0 24 24\"\n",
              "       width=\"24px\">\n",
              "    <path d=\"M7,19H8.4L18.45,9,17,7.55,7,17.6ZM5,21V16.75L18.45,3.32a2,2,0,0,1,2.83,0l1.4,1.43a1.91,1.91,0,0,1,.58,1.4,1.91,1.91,0,0,1-.58,1.4L9.25,21ZM18.45,9,17,7.55Zm-12,3A5.31,5.31,0,0,0,4.9,8.1,5.31,5.31,0,0,0,1,6.5,5.31,5.31,0,0,0,4.9,4.9,5.31,5.31,0,0,0,6.5,1,5.31,5.31,0,0,0,8.1,4.9,5.31,5.31,0,0,0,12,6.5,5.46,5.46,0,0,0,6.5,12Z\"/>\n",
              "  </svg>\n",
              "    </button>\n",
              "    <script>\n",
              "      (() => {\n",
              "      const buttonEl =\n",
              "        document.querySelector('#id_dfce27a7-3e61-451f-b003-2248fb1a3b81 button.colab-df-generate');\n",
              "      buttonEl.style.display =\n",
              "        google.colab.kernel.accessAllowed ? 'block' : 'none';\n",
              "\n",
              "      buttonEl.onclick = () => {\n",
              "        google.colab.notebook.generateWithVariable('df_features');\n",
              "      }\n",
              "      })();\n",
              "    </script>\n",
              "  </div>\n",
              "\n",
              "    </div>\n",
              "  </div>\n"
            ],
            "application/vnd.google.colaboratory.intrinsic+json": {
              "type": "dataframe",
              "variable_name": "df_features",
              "summary": "{\n  \"name\": \"df_features\",\n  \"rows\": 4760,\n  \"fields\": [\n    {\n      \"column\": \"Movie_Genre\",\n      \"properties\": {\n        \"dtype\": \"category\",\n        \"num_unique_values\": 1164,\n        \"samples\": [\n          \"Family Animation Adventure\",\n          \"Adventure Science Fiction Action\",\n          \"Action Crime Drama Romance Thriller\"\n        ],\n        \"semantic_type\": \"\",\n        \"description\": \"\"\n      }\n    },\n    {\n      \"column\": \"Movie_Keywords\",\n      \"properties\": {\n        \"dtype\": \"string\",\n        \"num_unique_values\": 4203,\n        \"samples\": [\n          \"canada nazis sequel spin off ancient evil\",\n          \"sex professor wedding woman director columbia university\",\n          \"prophecy sea beach gold small town\"\n        ],\n        \"semantic_type\": \"\",\n        \"description\": \"\"\n      }\n    },\n    {\n      \"column\": \"Movie_Tagline\",\n      \"properties\": {\n        \"dtype\": \"string\",\n        \"num_unique_values\": 3928,\n        \"samples\": [\n          \"The messenger must be silenced.\",\n          \"It's not the house that's haunted.\",\n          \"The final hunt begins.\"\n        ],\n        \"semantic_type\": \"\",\n        \"description\": \"\"\n      }\n    },\n    {\n      \"column\": \"Movie_Cast\",\n      \"properties\": {\n        \"dtype\": \"string\",\n        \"num_unique_values\": 4715,\n        \"samples\": [\n          \"Robin Tunney Fairuza Balk Neve Campbell Rachel True Skeet Ulrich\",\n          \"Peter Sellers Christopher Plummer Herbert Lom Catherine Schell Peter Arne\",\n          \"John Wayne Laraine Day Cedric Hardwicke Judith Anderson Anthony Quinn\"\n        ],\n        \"semantic_type\": \"\",\n        \"description\": \"\"\n      }\n    },\n    {\n      \"column\": \"Movie_Director\",\n      \"properties\": {\n        \"dtype\": \"category\",\n        \"num_unique_values\": 2332,\n        \"samples\": [\n          \"Rob McKittrick\",\n          \"Terron R. Parsons\",\n          \"Cyrus Nowrasteh\"\n        ],\n        \"semantic_type\": \"\",\n        \"description\": \"\"\n      }\n    }\n  ]\n}"
            }
          },
          "metadata": {},
          "execution_count": 11
        }
      ]
    },
    {
      "cell_type": "code",
      "source": [
        "x = df_features['Movie_Genre']+' '+df_features['Movie_Keywords']+' '+df_features['Movie_Tagline']+' '+df_features['Movie_Cast']+' '+df_features['Movie_Director']\n",
        "x"
      ],
      "metadata": {
        "colab": {
          "base_uri": "https://localhost:8080/",
          "height": 458
        },
        "id": "LEvtb-ioOoXH",
        "outputId": "1c3aad15-a2c8-4a8b-ccb2-bad318c30774"
      },
      "execution_count": null,
      "outputs": [
        {
          "output_type": "execute_result",
          "data": {
            "text/plain": [
              "0       Crime Comedy hotel new year's eve witch bet ho...\n",
              "1       Adventure Action Science Fiction android galax...\n",
              "2       Animation Family father son relationship harbo...\n",
              "3       Comedy Drama Romance vietnam veteran hippie me...\n",
              "4       Drama male nudity female nudity adultery midli...\n",
              "                              ...                        \n",
              "4755    Horror  The hot spot where Satan's waitin'. Li...\n",
              "4756    Comedy Family Drama  It’s better to stand out ...\n",
              "4757    Thriller Drama christian film sex trafficking ...\n",
              "4758                                           Family    \n",
              "4759    Documentary music actors legendary perfomer cl...\n",
              "Length: 4760, dtype: object"
            ],
            "text/html": [
              "<div>\n",
              "<style scoped>\n",
              "    .dataframe tbody tr th:only-of-type {\n",
              "        vertical-align: middle;\n",
              "    }\n",
              "\n",
              "    .dataframe tbody tr th {\n",
              "        vertical-align: top;\n",
              "    }\n",
              "\n",
              "    .dataframe thead th {\n",
              "        text-align: right;\n",
              "    }\n",
              "</style>\n",
              "<table border=\"1\" class=\"dataframe\">\n",
              "  <thead>\n",
              "    <tr style=\"text-align: right;\">\n",
              "      <th></th>\n",
              "      <th>0</th>\n",
              "    </tr>\n",
              "  </thead>\n",
              "  <tbody>\n",
              "    <tr>\n",
              "      <th>0</th>\n",
              "      <td>Crime Comedy hotel new year's eve witch bet ho...</td>\n",
              "    </tr>\n",
              "    <tr>\n",
              "      <th>1</th>\n",
              "      <td>Adventure Action Science Fiction android galax...</td>\n",
              "    </tr>\n",
              "    <tr>\n",
              "      <th>2</th>\n",
              "      <td>Animation Family father son relationship harbo...</td>\n",
              "    </tr>\n",
              "    <tr>\n",
              "      <th>3</th>\n",
              "      <td>Comedy Drama Romance vietnam veteran hippie me...</td>\n",
              "    </tr>\n",
              "    <tr>\n",
              "      <th>4</th>\n",
              "      <td>Drama male nudity female nudity adultery midli...</td>\n",
              "    </tr>\n",
              "    <tr>\n",
              "      <th>...</th>\n",
              "      <td>...</td>\n",
              "    </tr>\n",
              "    <tr>\n",
              "      <th>4755</th>\n",
              "      <td>Horror  The hot spot where Satan's waitin'. Li...</td>\n",
              "    </tr>\n",
              "    <tr>\n",
              "      <th>4756</th>\n",
              "      <td>Comedy Family Drama  It’s better to stand out ...</td>\n",
              "    </tr>\n",
              "    <tr>\n",
              "      <th>4757</th>\n",
              "      <td>Thriller Drama christian film sex trafficking ...</td>\n",
              "    </tr>\n",
              "    <tr>\n",
              "      <th>4758</th>\n",
              "      <td>Family</td>\n",
              "    </tr>\n",
              "    <tr>\n",
              "      <th>4759</th>\n",
              "      <td>Documentary music actors legendary perfomer cl...</td>\n",
              "    </tr>\n",
              "  </tbody>\n",
              "</table>\n",
              "<p>4760 rows × 1 columns</p>\n",
              "</div><br><label><b>dtype:</b> object</label>"
            ]
          },
          "metadata": {},
          "execution_count": 13
        }
      ]
    },
    {
      "cell_type": "code",
      "source": [
        "x.shape"
      ],
      "metadata": {
        "colab": {
          "base_uri": "https://localhost:8080/"
        },
        "id": "FMFizl-sPEmK",
        "outputId": "aaca619c-c0f0-421c-84e2-7e3a7631544b"
      },
      "execution_count": null,
      "outputs": [
        {
          "output_type": "execute_result",
          "data": {
            "text/plain": [
              "(4760,)"
            ]
          },
          "metadata": {},
          "execution_count": 14
        }
      ]
    },
    {
      "cell_type": "markdown",
      "source": [
        "# Get Feature Text Conversion to Tokens"
      ],
      "metadata": {
        "id": "YOGHleAhPIIt"
      }
    },
    {
      "cell_type": "code",
      "source": [
        "from sklearn.feature_extraction.text import TfidfVectorizer\n",
        "tfidf = TfidfVectorizer()\n",
        "x = tfidf.fit_transform(x)\n",
        "x.shape"
      ],
      "metadata": {
        "colab": {
          "base_uri": "https://localhost:8080/"
        },
        "id": "02h2EXnxPXUw",
        "outputId": "40426f16-591d-4062-821a-e881d6b55e53"
      },
      "execution_count": null,
      "outputs": [
        {
          "output_type": "execute_result",
          "data": {
            "text/plain": [
              "(4760, 17258)"
            ]
          },
          "metadata": {},
          "execution_count": 15
        }
      ]
    },
    {
      "cell_type": "code",
      "source": [
        "print(x)"
      ],
      "metadata": {
        "colab": {
          "base_uri": "https://localhost:8080/"
        },
        "id": "Tzcm3NBCPj0x",
        "outputId": "97cfbef0-59e3-40dd-ef4f-e8e882f4115f"
      },
      "execution_count": null,
      "outputs": [
        {
          "output_type": "stream",
          "name": "stdout",
          "text": [
            "  (0, 617)\t0.1633382144407513\n",
            "  (0, 492)\t0.1432591540388685\n",
            "  (0, 15413)\t0.1465525095337543\n",
            "  (0, 9675)\t0.14226057295252661\n",
            "  (0, 9465)\t0.1659841367820977\n",
            "  (0, 1390)\t0.16898383612799558\n",
            "  (0, 7825)\t0.09799561597509843\n",
            "  (0, 1214)\t0.13865857545144072\n",
            "  (0, 729)\t0.13415063359531618\n",
            "  (0, 13093)\t0.1432591540388685\n",
            "  (0, 15355)\t0.10477815972666779\n",
            "  (0, 9048)\t0.0866842116160778\n",
            "  (0, 11161)\t0.06250380151644369\n",
            "  (0, 16773)\t0.17654247479915475\n",
            "  (0, 5612)\t0.08603537588547631\n",
            "  (0, 16735)\t0.10690083751525419\n",
            "  (0, 7904)\t0.13348000542112332\n",
            "  (0, 15219)\t0.09800472886453934\n",
            "  (0, 11242)\t0.07277788238484746\n",
            "  (0, 3878)\t0.11998399582562203\n",
            "  (0, 5499)\t0.11454057510303811\n",
            "  (0, 7071)\t0.19822417598406614\n",
            "  (0, 7454)\t0.14745635785412262\n",
            "  (0, 1495)\t0.19712637387361423\n",
            "  (0, 9206)\t0.15186283580984414\n",
            "  :\t:\n",
            "  (4757, 5455)\t0.12491480594769522\n",
            "  (4757, 2967)\t0.16273475835631626\n",
            "  (4757, 8464)\t0.23522565554066333\n",
            "  (4757, 6938)\t0.17088173678136628\n",
            "  (4757, 8379)\t0.17480603856721913\n",
            "  (4757, 15303)\t0.07654356007668191\n",
            "  (4757, 15384)\t0.09754322497537371\n",
            "  (4757, 7649)\t0.11479421494340192\n",
            "  (4757, 10896)\t0.14546473055066447\n",
            "  (4757, 4494)\t0.05675298448720501\n",
            "  (4758, 5238)\t1.0\n",
            "  (4759, 11264)\t0.33947721804318337\n",
            "  (4759, 11708)\t0.33947721804318337\n",
            "  (4759, 205)\t0.3237911628497312\n",
            "  (4759, 8902)\t0.3040290704566037\n",
            "  (4759, 14062)\t0.3237911628497312\n",
            "  (4759, 3058)\t0.2812896191863103\n",
            "  (4759, 7130)\t0.26419662449963793\n",
            "  (4759, 10761)\t0.3126617295732147\n",
            "  (4759, 4358)\t0.18306542312175342\n",
            "  (4759, 14051)\t0.20084315377640435\n",
            "  (4759, 5690)\t0.19534291014627303\n",
            "  (4759, 15431)\t0.19628653185946862\n",
            "  (4759, 1490)\t0.21197258705292082\n",
            "  (4759, 10666)\t0.15888268987343043\n"
          ]
        }
      ]
    },
    {
      "cell_type": "markdown",
      "source": [
        "**Get Similararity Score using Cosine Similarity**  \n",
        "\n",
        "\n",
        "\n",
        "1.   List item\n",
        "2.   List item\n",
        "\n"
      ],
      "metadata": {
        "id": "XJsh5sXGPx5W"
      }
    },
    {
      "cell_type": "code",
      "source": [
        "from sklearn.metrics.pairwise import cosine_similarity\n",
        "similarity_score = cosine_similarity(x)\n",
        "similarity_score"
      ],
      "metadata": {
        "colab": {
          "base_uri": "https://localhost:8080/"
        },
        "id": "-1oyifheQNt8",
        "outputId": "70ad2f95-a843-4aeb-81d2-035744f2e269"
      },
      "execution_count": null,
      "outputs": [
        {
          "output_type": "execute_result",
          "data": {
            "text/plain": [
              "array([[1.        , 0.01351235, 0.03570468, ..., 0.        , 0.        ,\n",
              "        0.        ],\n",
              "       [0.01351235, 1.        , 0.00806674, ..., 0.        , 0.        ,\n",
              "        0.        ],\n",
              "       [0.03570468, 0.00806674, 1.        , ..., 0.        , 0.08014876,\n",
              "        0.        ],\n",
              "       ...,\n",
              "       [0.        , 0.        , 0.        , ..., 1.        , 0.        ,\n",
              "        0.        ],\n",
              "       [0.        , 0.        , 0.08014876, ..., 0.        , 1.        ,\n",
              "        0.        ],\n",
              "       [0.        , 0.        , 0.        , ..., 0.        , 0.        ,\n",
              "        1.        ]])"
            ]
          },
          "metadata": {},
          "execution_count": 17
        }
      ]
    },
    {
      "cell_type": "code",
      "source": [
        "similarity_score.shape"
      ],
      "metadata": {
        "colab": {
          "base_uri": "https://localhost:8080/"
        },
        "id": "Yiemy3k8QggG",
        "outputId": "0036ad98-b75d-423a-ca8e-8c43d81fe5b4"
      },
      "execution_count": null,
      "outputs": [
        {
          "output_type": "execute_result",
          "data": {
            "text/plain": [
              "(4760, 4760)"
            ]
          },
          "metadata": {},
          "execution_count": 18
        }
      ]
    },
    {
      "cell_type": "markdown",
      "source": [
        "# Get Movies Name as Input From User and Validate for Closest Spelling"
      ],
      "metadata": {
        "id": "ohCHEnv5Qolo"
      }
    },
    {
      "cell_type": "code",
      "source": [
        "Favourite_Movie_Name = input('Enter your favourite movie name: ')"
      ],
      "metadata": {
        "colab": {
          "base_uri": "https://localhost:8080/"
        },
        "id": "IqKJepClQ7JJ",
        "outputId": "ac80eca4-8abd-4664-fc67-4b7e2ed3b31f"
      },
      "execution_count": null,
      "outputs": [
        {
          "name": "stdout",
          "output_type": "stream",
          "text": [
            "Enter your favourite movie name: sole\n"
          ]
        }
      ]
    },
    {
      "cell_type": "code",
      "source": [
        "All_Movies_Title_List = df['Movie_Title'].tolist()\n",
        "import difflib\n",
        "Movie_Recommendation = difflib.get_close_matches(Favourite_Movie_Name,All_Movies_Title_List)\n",
        "print(Movie_Recommendation)"
      ],
      "metadata": {
        "colab": {
          "base_uri": "https://localhost:8080/"
        },
        "id": "LnFQKdccRIiG",
        "outputId": "cde3b8e0-cc1c-4f03-a62b-559a12d519b0"
      },
      "execution_count": null,
      "outputs": [
        {
          "output_type": "stream",
          "name": "stdout",
          "text": [
            "['Holes', 'Wolves', 'Volver']\n"
          ]
        }
      ]
    },
    {
      "cell_type": "code",
      "source": [
        "from os import close\n",
        "close_match = Movie_Recommendation[0]\n",
        "print(close_match)"
      ],
      "metadata": {
        "colab": {
          "base_uri": "https://localhost:8080/"
        },
        "id": "VXEwsPv6Rbte",
        "outputId": "14885e58-1526-4174-c864-65ce1673481b"
      },
      "execution_count": null,
      "outputs": [
        {
          "output_type": "stream",
          "name": "stdout",
          "text": [
            "Holes\n"
          ]
        }
      ]
    },
    {
      "cell_type": "code",
      "source": [
        "from ast import Index\n",
        "Index_of_Close_Match_Movie = df[df.Movie_Title == close_match]['Movie_ID'].values[0]\n",
        "print(Index_of_Close_Match_Movie)"
      ],
      "metadata": {
        "colab": {
          "base_uri": "https://localhost:8080/"
        },
        "id": "XWIW2aCpRjTC",
        "outputId": "f4de6bb9-f370-4348-bb79-43141cf74476"
      },
      "execution_count": null,
      "outputs": [
        {
          "output_type": "stream",
          "name": "stdout",
          "text": [
            "1080\n"
          ]
        }
      ]
    },
    {
      "cell_type": "code",
      "source": [
        "Recommendation_Score = list(enumerate(similarity_score[Index_of_Close_Match_Movie]))\n",
        "print(Recommendation_Score)"
      ],
      "metadata": {
        "colab": {
          "base_uri": "https://localhost:8080/"
        },
        "id": "kgFpaIneR5SF",
        "outputId": "37b1b269-db5c-48e6-8b73-13172cda4cd7"
      },
      "execution_count": null,
      "outputs": [
        {
          "output_type": "stream",
          "name": "stdout",
          "text": [
            "[(0, 0.0), (1, 0.0), (2, 0.03570041897363906), (3, 0.06576371056610868), (4, 0.002774169774060401), (5, 0.03643054219250844), (6, 0.02314768494105807), (7, 0.0018887572393080081), (8, 0.009650195228100206), (9, 0.0), (10, 0.0), (11, 0.0027226981423901873), (12, 0.015371099376589321), (13, 0.011590080034348155), (14, 0.0), (15, 0.0441740098822476), (16, 0.002191450980756835), (17, 0.0), (18, 0.0025211604582762092), (19, 0.002536770270503885), (20, 0.15735015719747253), (21, 0.002811687143870623), (22, 0.03304335430027411), (23, 0.06790426090509091), (24, 0.0017172369481940756), (25, 0.03224466943867213), (26, 0.0025725872867506908), (27, 0.04321986438970802), (28, 0.02184354675401855), (29, 0.014419986413520753), (30, 0.0), (31, 0.022706222993399514), (32, 0.01439548342623262), (33, 0.024516844850813374), (34, 0.02235701716463272), (35, 0.018592996211597258), (36, 0.01966049158461395), (37, 0.0), (38, 0.0), (39, 0.027685832002140365), (40, 0.0), (41, 0.018265958572651012), (42, 0.0), (43, 0.039509610214295596), (44, 0.05251954474201275), (45, 0.01116561825108772), (46, 0.09726561535860295), (47, 0.0), (48, 0.015860049502416644), (49, 0.026917963974659544), (50, 0.025087101714982348), (51, 0.009348976340792743), (52, 0.03179194580341284), (53, 0.0), (54, 0.0), (55, 0.0), (56, 0.0), (57, 0.0), (58, 0.0), (59, 0.049820700863132915), (60, 0.007601213282759508), (61, 0.021212119924737323), (62, 0.009810488195686588), (63, 0.00707196628555343), (64, 0.04761127478618381), (65, 0.011666628755928176), (66, 0.00262412589563759), (67, 0.02024119508475416), (68, 0.00278845949360782), (69, 0.0), (70, 0.020623988540045733), (71, 0.06862082874931622), (72, 0.0), (73, 0.09428084580108914), (74, 0.046590481385292516), (75, 0.0), (76, 0.0), (77, 0.0), (78, 0.030351917212892293), (79, 0.014349133188059833), (80, 0.0), (81, 0.0), (82, 0.0019952186234083675), (83, 0.0), (84, 0.039527434433981226), (85, 0.008548310177812102), (86, 0.015498522218610897), (87, 0.0025381445741150385), (88, 0.025255864111651757), (89, 0.013264990106999936), (90, 0.0), (91, 0.010415304379679153), (92, 0.018754475101339287), (93, 0.0), (94, 0.0), (95, 0.0), (96, 0.06813755707944079), (97, 0.0023073502172923873), (98, 0.014094510806179609), (99, 0.01630767211077811), (100, 0.015078023084260156), (101, 0.0), (102, 0.0), (103, 0.00769643684019352), (104, 0.002645853260616735), (105, 0.002607605078743637), (106, 0.06748841334644934), (107, 0.0029820056062282154), (108, 0.032484074504251406), (109, 0.05540352147139774), (110, 0.006394405142306816), (111, 0.024300053493924428), (112, 0.0025312734810151996), (113, 0.03170903641681357), (114, 0.023745522022989726), (115, 0.06596673578200671), (116, 0.021398108867937454), (117, 0.02118815060808783), (118, 0.0), (119, 0.002579537090456534), (120, 0.0613390306339315), (121, 0.0081668631306423), (122, 0.017369889476759413), (123, 0.0028766064156860753), (124, 0.0024008062888452347), (125, 0.0), (126, 0.0380624826702527), (127, 0.03536688756182131), (128, 0.03691868598019567), (129, 0.021228358921387837), (130, 0.020264542877378413), (131, 0.0), (132, 0.007877948786303282), (133, 0.0), (134, 0.09291896118593325), (135, 0.013774472027852844), (136, 0.02304117693881369), (137, 0.0), (138, 0.0), (139, 0.0), (140, 0.002462898844445843), (141, 0.062439403434421475), (142, 0.058941541282010734), (143, 0.0), (144, 0.01189150815925539), (145, 0.0), (146, 0.006748817694085727), (147, 0.002274731141380243), (148, 0.020256192910941884), (149, 0.017742329396952885), (150, 0.0), (151, 0.0), (152, 0.03903510952610162), (153, 0.0), (154, 0.042856982355200156), (155, 0.0), (156, 0.007218496696127497), (157, 0.041937018982259974), (158, 0.002358454925290481), (159, 0.0020577864531722196), (160, 0.01728343211625691), (161, 0.024779191883290714), (162, 0.0), (163, 0.018118623630624723), (164, 0.026674104789007638), (165, 0.002272889128472013), (166, 0.037975297677496474), (167, 0.002540014532799797), (168, 0.022160006112304943), (169, 0.008730315064458365), (170, 0.0), (171, 0.0), (172, 0.028121443381220263), (173, 0.002755594420604255), (174, 0.008777013148888032), (175, 0.002220154072781662), (176, 0.002701668008645821), (177, 0.0), (178, 0.009347591041471717), (179, 0.0), (180, 0.0), (181, 0.0), (182, 0.021656702320505226), (183, 0.016018650665289978), (184, 0.002315278400318466), (185, 0.0), (186, 0.01799157835560811), (187, 0.0), (188, 0.03306172235434766), (189, 0.09130515039206348), (190, 0.0022437045800786253), (191, 0.0), (192, 0.07454161791621014), (193, 0.009394946116773772), (194, 0.0232962287399611), (195, 0.02331803962437232), (196, 0.0022084178469653727), (197, 0.056177995277134726), (198, 0.16623224777434709), (199, 0.0023973946265323943), (200, 0.014504911986704963), (201, 0.0), (202, 0.019052576635751686), (203, 0.0024877887537678106), (204, 0.02244634376428637), (205, 0.022781236814941395), (206, 0.002789068069899391), (207, 0.0), (208, 0.0027913822449867065), (209, 0.002653072205674115), (210, 0.0028336761060168024), (211, 0.03261976896499408), (212, 0.035128371604495445), (213, 0.019996917248579243), (214, 0.0), (215, 0.02371915965213132), (216, 0.03806457057493261), (217, 0.08911630324402398), (218, 0.020698667747104167), (219, 0.030156692059803043), (220, 0.0), (221, 0.022555418539381887), (222, 0.002314165513577634), (223, 0.0), (224, 0.021091921660334204), (225, 0.0071955506276398), (226, 0.0026288941458059677), (227, 0.03464280378955504), (228, 0.001991275734888326), (229, 0.0024512365212731963), (230, 0.0), (231, 0.0), (232, 0.0), (233, 0.0), (234, 0.0), (235, 0.0029676561967262073), (236, 0.021252117039470015), (237, 0.08766637284740028), (238, 0.002681654000094813), (239, 0.012478851697393909), (240, 0.03736685259820782), (241, 0.021461349128698282), (242, 0.0022764187325504184), (243, 0.001851075398196732), (244, 0.03949301169465661), (245, 0.0), (246, 0.04232342356469649), (247, 0.002599675553904204), (248, 0.01744401570399255), (249, 0.0023058429798780973), (250, 0.0), (251, 0.0022535391630626477), (252, 0.0023289511750264526), (253, 0.002874620971358793), (254, 0.01586515805281644), (255, 0.009304978129652502), (256, 0.16294958089491907), (257, 0.027864536081180745), (258, 0.03554139030316166), (259, 0.0), (260, 0.0), (261, 0.0), (262, 0.0151213538098388), (263, 0.032114878714590206), (264, 0.01380530371887215), (265, 0.041704527315299514), (266, 0.019198112250765002), (267, 0.002228141871860541), (268, 0.0023450367117141377), (269, 0.002256078248789942), (270, 0.06598404417021908), (271, 0.05790736676258778), (272, 0.06308431455007636), (273, 0.0), (274, 0.01652723523214917), (275, 0.02792487673340709), (276, 0.0024790946738401302), (277, 0.03657294563458786), (278, 0.007653073453112161), (279, 0.008318583115595947), (280, 0.0026223801033106345), (281, 0.0029681609101141694), (282, 0.0749744773059871), (283, 0.015595409255183948), (284, 0.0), (285, 0.18167899812668895), (286, 0.0022562131302075353), (287, 0.0024670783700600544), (288, 0.009991096061473541), (289, 0.0), (290, 0.0), (291, 0.03679787598513774), (292, 0.02719761889100664), (293, 0.0018694708639812288), (294, 0.01501366049591728), (295, 0.0), (296, 0.001970570192342395), (297, 0.0), (298, 0.0), (299, 0.0), (300, 0.0), (301, 0.0), (302, 0.06296852037683598), (303, 0.023345890561778618), (304, 0.03476867354987407), (305, 0.0), (306, 0.0), (307, 0.053861933259830456), (308, 0.016095851400443735), (309, 0.024821680230643982), (310, 0.06201134946684734), (311, 0.0), (312, 0.04372514648554754), (313, 0.0), (314, 0.0), (315, 0.0), (316, 0.0), (317, 0.00230223624055014), (318, 0.01654819636235324), (319, 0.012157038185301313), (320, 0.0), (321, 0.0), (322, 0.011584911540748456), (323, 0.0), (324, 0.002423340586565564), (325, 0.02949016732234652), (326, 0.010882093628414889), (327, 0.0), (328, 0.006076512083333102), (329, 0.020673287688609265), (330, 0.0018167085218627557), (331, 0.0), (332, 0.013988239921877872), (333, 0.0), (334, 0.029945190655473276), (335, 0.04486543084910279), (336, 0.0304602369077177), (337, 0.0), (338, 0.0), (339, 0.0), (340, 0.0), (341, 0.014844211388732882), (342, 0.015680271675622255), (343, 0.01525731396493772), (344, 0.0), (345, 0.0), (346, 0.002612598399749321), (347, 0.006277798640036514), (348, 0.0026027396354182603), (349, 0.07953831035997425), (350, 0.024386039743674263), (351, 0.002005959002989043), (352, 0.0), (353, 0.002670339847300485), (354, 0.05199284822874584), (355, 0.008193615851756033), (356, 0.0084758392709344), (357, 0.03822253850572257), (358, 0.008642133299634803), (359, 0.002412882038367783), (360, 0.0), (361, 0.0), (362, 0.0), (363, 0.0), (364, 0.0022619614178882187), (365, 0.0), (366, 0.027797756427281065), (367, 0.0), (368, 0.01412170670876149), (369, 0.0), (370, 0.014370700211715711), (371, 0.002893204888096524), (372, 0.015295127458740988), (373, 0.036544192632697085), (374, 0.02382056764482668), (375, 0.018635113838473157), (376, 0.03737733521951138), (377, 0.10235017147631884), (378, 0.021402231939865686), (379, 0.0), (380, 0.0), (381, 0.0), (382, 0.0), (383, 0.0), (384, 0.0), (385, 0.029232359797749626), (386, 0.0), (387, 0.0024796969825785047), (388, 0.04649880343377977), (389, 0.04283722449527014), (390, 0.020706836682501353), (391, 0.0), (392, 0.0), (393, 0.017707599469301456), (394, 0.0), (395, 0.1246750875485416), (396, 0.0025266242464290524), (397, 0.03448118588161105), (398, 0.02124038549856684), (399, 0.062241760603513586), (400, 0.01426185812970856), (401, 0.025746614474901546), (402, 0.04681635580104319), (403, 0.00753157829576429), (404, 0.0), (405, 0.0067073862629364045), (406, 0.009065951811511722), (407, 0.007129722998931447), (408, 0.026228760667133807), (409, 0.01980731204022406), (410, 0.00826689176128213), (411, 0.012654028777538169), (412, 0.06593946283698002), (413, 0.0), (414, 0.0), (415, 0.02485264919705637), (416, 0.0024093782068961376), (417, 0.0), (418, 0.039890256140874235), (419, 0.002961232718916748), (420, 0.0), (421, 0.0), (422, 0.0356318954799903), (423, 0.0), (424, 0.0227039623389523), (425, 0.0), (426, 0.023760696644266777), (427, 0.018086465383042614), (428, 0.022526633306857325), (429, 0.00275552959806195), (430, 0.06259730314489742), (431, 0.010479322525385637), (432, 0.012245238769656875), (433, 0.013427847402119952), (434, 0.02155037845817958), (435, 0.0), (436, 0.016104433601026924), (437, 0.0024948013838087995), (438, 0.0330030565721829), (439, 0.0), (440, 0.0460546910658307), (441, 0.020618634062134104), (442, 0.0021801067993601994), (443, 0.05913262294821412), (444, 0.034822291947140885), (445, 0.01839297837137057), (446, 0.0025648579864343043), (447, 0.0486878332817987), (448, 0.010256484737300888), (449, 0.041293303938207626), (450, 0.026492333341742322), (451, 0.0), (452, 0.00198027159943822), (453, 0.002010504844632852), (454, 0.0), (455, 0.006305429830173077), (456, 0.05093532616596184), (457, 0.013210973400650295), (458, 0.0029337374053971742), (459, 0.0), (460, 0.0), (461, 0.0), (462, 0.0), (463, 0.028989268750503037), (464, 0.008783245534060945), (465, 0.008112381879620755), (466, 0.03796759630887238), (467, 0.0), (468, 0.0), (469, 0.042273970511094355), (470, 0.05989119072201749), (471, 0.008298117964952254), (472, 0.009148027752190474), (473, 0.0023787080729438747), (474, 0.006574134052771195), (475, 0.003106407385092385), (476, 0.018019494546440237), (477, 0.0), (478, 0.002975644256203655), (479, 0.002626149967005915), (480, 0.02118583236950379), (481, 0.061755100154522395), (482, 0.0027443391862315867), (483, 0.0027760559985697056), (484, 0.01568353408435766), (485, 0.030041108153573172), (486, 0.0), (487, 0.002516928663380088), (488, 0.00859486857390037), (489, 0.010629722444752823), (490, 0.008799059480495626), (491, 0.0), (492, 0.01881288989479451), (493, 0.032276997308484816), (494, 0.0), (495, 0.0023254761605415323), (496, 0.0022447254284774375), (497, 0.01914525889508228), (498, 0.0), (499, 0.0028613316254708595), (500, 0.10841402847382256), (501, 0.0), (502, 0.025275511438020103), (503, 0.0), (504, 0.008939568833183973), (505, 0.0024977410493216812), (506, 0.06350193340786656), (507, 0.0024687964956762276), (508, 0.003023193798605224), (509, 0.0026963525823270307), (510, 0.06759598855416225), (511, 0.01071461484811404), (512, 0.0), (513, 0.0), (514, 0.0), (515, 0.032740614774859345), (516, 0.0), (517, 0.06283312113911894), (518, 0.016874530249115536), (519, 0.0023214926101554935), (520, 0.02426474174247727), (521, 0.04760564514567307), (522, 0.04431988877906826), (523, 0.0), (524, 0.04274793029118517), (525, 0.0), (526, 0.003306244108085089), (527, 0.0020814884417943054), (528, 0.05654087830379489), (529, 0.01813275975646092), (530, 0.01158097183275791), (531, 0.03801217263543029), (532, 0.010924555879736194), (533, 0.0029572504496699482), (534, 0.014216441686610229), (535, 0.01988215955874186), (536, 0.0), (537, 0.015692801473542378), (538, 0.02057147402261104), (539, 0.0), (540, 0.0), (541, 0.07549763807377312), (542, 0.001843754784882498), (543, 0.022377306812929997), (544, 0.0026681437583338952), (545, 0.0), (546, 0.0), (547, 0.007491758521559156), (548, 0.0), (549, 0.0), (550, 0.0), (551, 0.033548519346377155), (552, 0.0), (553, 0.0), (554, 0.0), (555, 0.0), (556, 0.0), (557, 0.0), (558, 0.0024244828331969055), (559, 0.0), (560, 0.0), (561, 0.0), (562, 0.0914096238657792), (563, 0.04663350706866857), (564, 0.009309271021857855), (565, 0.01761175047207608), (566, 0.09094288798024731), (567, 0.0715447971190411), (568, 0.0), (569, 0.0), (570, 0.0), (571, 0.0020271961846277634), (572, 0.0), (573, 0.010908974813858531), (574, 0.0), (575, 0.027384045653141363), (576, 0.04346816642391569), (577, 0.012347297023588756), (578, 0.03678964917359447), (579, 0.009007606088804462), (580, 0.002747464953496853), (581, 0.002369379391594312), (582, 0.007370799502977437), (583, 0.023595266473061302), (584, 0.0744426227300786), (585, 0.0), (586, 0.022410776842305743), (587, 0.03151607130219084), (588, 0.044337510146633535), (589, 0.008235166049837029), (590, 0.002423288315419958), (591, 0.0), (592, 0.0), (593, 0.0026817559962660138), (594, 0.0023500727504266765), (595, 0.0), (596, 0.0029459516110561085), (597, 0.002363494563164065), (598, 0.002449735511582838), (599, 0.0), (600, 0.0), (601, 0.0), (602, 0.015252977538250412), (603, 0.0), (604, 0.002418101796907423), (605, 0.024410677586840006), (606, 0.028647031659785667), (607, 0.04000327096605765), (608, 0.02755681008185255), (609, 0.024120475659747592), (610, 0.0), (611, 0.004224276924331506), (612, 0.009434360353496702), (613, 0.01858601163075973), (614, 0.0030166859646166785), (615, 0.0), (616, 0.10140881156171401), (617, 0.013859517668693781), (618, 0.0061080141574237435), (619, 0.06424347154911461), (620, 0.013824946696149028), (621, 0.011664432597033661), (622, 0.01529486574276474), (623, 0.034427716576552574), (624, 0.03917105513958757), (625, 0.0), (626, 0.018060074915157702), (627, 0.0035602289712151017), (628, 0.002650873495996601), (629, 0.01281203995887768), (630, 0.019976650911386538), (631, 0.0027033702487060367), (632, 0.0), (633, 0.04215334518816499), (634, 0.013543160726802958), (635, 0.0), (636, 0.025198533625077704), (637, 0.0027227084470683514), (638, 0.04294768676097017), (639, 0.016884856930956253), (640, 0.0), (641, 0.016312224359421257), (642, 0.0022710549837167008), (643, 0.013948187247119008), (644, 0.008441194382100305), (645, 0.02037852972151156), (646, 0.002528429287693246), (647, 0.0188512927638184), (648, 0.018476925973368155), (649, 0.024666973347518772), (650, 0.018511036373693408), (651, 0.0025384172908874225), (652, 0.0026893238529262084), (653, 0.03300093962373745), (654, 0.0212375136736025), (655, 0.04351463785063927), (656, 0.014483721380116818), (657, 0.015510474580219034), (658, 0.011946601742624147), (659, 0.04005374624704898), (660, 0.0512698393743034), (661, 0.03751582735659589), (662, 0.0), (663, 0.0), (664, 0.0), (665, 0.0062705794994550815), (666, 0.0), (667, 0.0), (668, 0.0711303057975613), (669, 0.04201018523823897), (670, 0.017738991134929695), (671, 0.006460481844232276), (672, 0.0023445090845904664), (673, 0.0028692047306819934), (674, 0.0), (675, 0.002867296900664258), (676, 0.023406517446720475), (677, 0.03355802236897837), (678, 0.0), (679, 0.03678109667401135), (680, 0.0027961672882242474), (681, 0.0), (682, 0.0), (683, 0.01624978682102589), (684, 0.04898122427756804), (685, 0.0), (686, 0.015236785142112116), (687, 0.0), (688, 0.047633653794922994), (689, 0.0026148337677264007), (690, 0.0), (691, 0.018410720904096567), (692, 0.0), (693, 0.008648549756991331), (694, 0.09015392791415341), (695, 0.0), (696, 0.024301736751442923), (697, 0.08982603856404224), (698, 0.008407142787204716), (699, 0.012397842382771772), (700, 0.019772006777809964), (701, 0.002934975493146358), (702, 0.0), (703, 0.0911616625880753), (704, 0.20252050086743661), (705, 0.08077626875019313), (706, 0.019176318884051406), (707, 0.020307098048797673), (708, 0.03890893515195576), (709, 0.14104666280235106), (710, 0.019986738845808663), (711, 0.0), (712, 0.0023229290518843658), (713, 0.0), (714, 0.011903924919203657), (715, 0.0029013611112194584), (716, 0.002757133283026518), (717, 0.023359504551481055), (718, 0.0), (719, 0.01726089408040832), (720, 0.028506270360327334), (721, 0.003012567632105327), (722, 0.002362492324447898), (723, 0.0), (724, 0.0), (725, 0.021735782229222855), (726, 0.03898734302710654), (727, 0.002583192589790968), (728, 0.00283582360630766), (729, 0.002931915246439347), (730, 0.02035744045908655), (731, 0.023094972018678314), (732, 0.002347135208825781), (733, 0.040317952870535044), (734, 0.002462373766275735), (735, 0.012133667185536321), (736, 0.006298564886499332), (737, 0.046018836066104955), (738, 0.0), (739, 0.0402482078659497), (740, 0.04220767000597784), (741, 0.03830726493376238), (742, 0.020196202404096315), (743, 0.002701799524761203), (744, 0.013311380106790338), (745, 0.018279651486214025), (746, 0.01841352041780022), (747, 0.06190925286801169), (748, 0.0), (749, 0.002630835149942116), (750, 0.043629221722648694), (751, 0.02275390919434011), (752, 0.0), (753, 0.013637742092368513), (754, 0.0278844215216094), (755, 0.0025551829809664773), (756, 0.016557829792411514), (757, 0.018195776891369086), (758, 0.02798623696021597), (759, 0.0023938583983721786), (760, 0.007177463232109604), (761, 0.0026296450761056664), (762, 0.0), (763, 0.0), (764, 0.00913116830207604), (765, 0.0), (766, 0.0024327829916459703), (767, 0.024814312537579968), (768, 0.026938723012067217), (769, 0.03981338967988115), (770, 0.0), (771, 0.0), (772, 0.0), (773, 0.08935000828985824), (774, 0.009207061504611626), (775, 0.0), (776, 0.0), (777, 0.0031600702582637746), (778, 0.0), (779, 0.0), (780, 0.0), (781, 0.0), (782, 0.013812235007824952), (783, 0.009360529001135718), (784, 0.02187142227579468), (785, 0.00626032089568868), (786, 0.052514889779006126), (787, 0.01314198039473371), (788, 0.01057276803985759), (789, 0.0), (790, 0.0), (791, 0.07185219215680035), (792, 0.03278963158559515), (793, 0.0), (794, 0.017740293695078378), (795, 0.007394931973397298), (796, 0.025909238805360682), (797, 0.01227820287001082), (798, 0.002509099065216807), (799, 0.002563122306605297), (800, 0.02170092738358144), (801, 0.018316622862096642), (802, 0.0333141089370517), (803, 0.0), (804, 0.020349516892165007), (805, 0.07561825898120435), (806, 0.002713327970883353), (807, 0.014971231700734439), (808, 0.040250975711005804), (809, 0.0), (810, 0.07659023091599354), (811, 0.030049125410965407), (812, 0.0), (813, 0.009980093816396387), (814, 0.03044673588632443), (815, 0.020012073263892698), (816, 0.032834373927395785), (817, 0.0025443753707457576), (818, 0.03051726657278519), (819, 0.019993036141139457), (820, 0.005526708366424208), (821, 0.013588357005567186), (822, 0.0), (823, 0.003030613987272668), (824, 0.029943500432513894), (825, 0.0), (826, 0.002804077019759411), (827, 0.0), (828, 0.0024837186232306192), (829, 0.0024153088510590146), (830, 0.02916220799398738), (831, 0.011588703845268175), (832, 0.002673382764717539), (833, 0.0), (834, 0.0), (835, 0.0), (836, 0.01762786784092072), (837, 0.0), (838, 0.008262611535642306), (839, 0.0), (840, 0.0), (841, 0.0), (842, 0.0), (843, 0.00730746365062877), (844, 0.019155331968620435), (845, 0.022493203854534925), (846, 0.03869752314768637), (847, 0.01018971391385196), (848, 0.02149215159618996), (849, 0.0), (850, 0.0026766757237857543), (851, 0.0023033223477070316), (852, 0.027775059935220545), (853, 0.033192004932243856), (854, 0.0025092378670641714), (855, 0.047507143488888515), (856, 0.057012267449775014), (857, 0.009812499394381835), (858, 0.0017752666062709431), (859, 0.005914132850936749), (860, 0.0030463573486892467), (861, 0.02079053821045636), (862, 0.0), (863, 0.022069126797687147), (864, 0.002656775432694643), (865, 0.009123996586321018), (866, 0.015260624456365316), (867, 0.008757424515854012), (868, 0.0024411605843379855), (869, 0.0), (870, 0.002570933785560528), (871, 0.058994050687114497), (872, 0.01757382647098859), (873, 0.026891757956830516), (874, 0.002267405381400188), (875, 0.020695480777396868), (876, 0.0030010667904149485), (877, 0.04481946693611587), (878, 0.050627415440988525), (879, 0.009270484881012443), (880, 0.008758269003169715), (881, 0.0), (882, 0.0), (883, 0.008488232231563093), (884, 0.002735493570678697), (885, 0.007970208220440823), (886, 0.06048207298367005), (887, 0.0862623831554904), (888, 0.0029140072979292335), (889, 0.036076980332480406), (890, 0.009267378472799417), (891, 0.019678738782945418), (892, 0.03267088378424604), (893, 0.04812632320474404), (894, 0.03804287839859966), (895, 0.021222552905235267), (896, 0.002872268594099535), (897, 0.008953446642105239), (898, 0.012419275121854607), (899, 0.043576736795782424), (900, 0.020088500706737462), (901, 0.18733939480251688), (902, 0.014142058094101715), (903, 0.0024645792071415463), (904, 0.0), (905, 0.0), (906, 0.0), (907, 0.026701762843523054), (908, 0.012018762864044855), (909, 0.011890719314873443), (910, 0.07447607281106759), (911, 0.0024909127794791497), (912, 0.0), (913, 0.0), (914, 0.0), (915, 0.0), (916, 0.0), (917, 0.002353426216069509), (918, 0.01217502443237653), (919, 0.014010108738731973), (920, 0.0), (921, 0.008269932777092301), (922, 0.0029498541630060453), (923, 0.04124158633782097), (924, 0.05001217447997084), (925, 0.003023202094796351), (926, 0.020595987197605792), (927, 0.039599016978138404), (928, 0.0), (929, 0.020012092906553473), (930, 0.06409278359376075), (931, 0.0), (932, 0.0), (933, 0.0026851960075465345), (934, 0.002396247988727262), (935, 0.00244553898759947), (936, 0.02172352939565178), (937, 0.0030718256213684418), (938, 0.031734968726603335), (939, 0.03386910596845552), (940, 0.04580858290936265), (941, 0.0024625582405124902), (942, 0.00213749595706517), (943, 0.0), (944, 0.02112323305244695), (945, 0.0), (946, 0.04762998284166645), (947, 0.003546681711953405), (948, 0.007877839606421428), (949, 0.0031273948387492987), (950, 0.007309876028554994), (951, 0.04658110556997905), (952, 0.0028421935364988035), (953, 0.0021169595434164254), (954, 0.0), (955, 0.023311202948216828), (956, 0.023571439650805357), (957, 0.020800216301989184), (958, 0.0552640361835317), (959, 0.04526093247325623), (960, 0.02711736190594885), (961, 0.01535099634848091), (962, 0.016561871045359142), (963, 0.03280741058839445), (964, 0.0), (965, 0.0), (966, 0.008389830477002562), (967, 0.023721058112363122), (968, 0.002381714702554598), (969, 0.04785845421497451), (970, 0.0), (971, 0.006439983986149597), (972, 0.0924010964767486), (973, 0.00875448746839215), (974, 0.0176517340729661), (975, 0.025970756717774133), (976, 0.019874342166128704), (977, 0.021811125590790018), (978, 0.0), (979, 0.04788848240619889), (980, 0.0027174027368096947), (981, 0.025237065069291974), (982, 0.05129155870229199), (983, 0.006144968024095828), (984, 0.023733545763276954), (985, 0.010164774568071543), (986, 0.002627247577238475), (987, 0.002727100163084738), (988, 0.023980668065310427), (989, 0.0025860696575209802), (990, 0.0), (991, 0.0028223117070700974), (992, 0.0), (993, 0.08670605803366842), (994, 0.016682195336397726), (995, 0.0), (996, 0.0), (997, 0.06233984101057807), (998, 0.010073305617083625), (999, 0.010065061318506686), (1000, 0.0023648557557745167), (1001, 0.0025058816984434244), (1002, 0.008466416490775086), (1003, 0.0), (1004, 0.027070527008335156), (1005, 0.0020096638570438114), (1006, 0.002746899770832568), (1007, 0.0027679510755848186), (1008, 0.018435252599315992), (1009, 0.002332480780426532), (1010, 0.0451409971919593), (1011, 0.0), (1012, 0.0), (1013, 0.022732646893795807), (1014, 0.0), (1015, 0.0028421509943184074), (1016, 0.0), (1017, 0.0025555834245331696), (1018, 0.012022046403098102), (1019, 0.004989982916463469), (1020, 0.008525003533501448), (1021, 0.0026189566405041484), (1022, 0.0), (1023, 0.009988325969985275), (1024, 0.0), (1025, 0.019891621396097486), (1026, 0.04572553059129098), (1027, 0.02906952927332347), (1028, 0.0), (1029, 0.0), (1030, 0.020797651952797185), (1031, 0.0), (1032, 0.0024833485128848438), (1033, 0.016741941095746705), (1034, 0.029112800946769678), (1035, 0.0025542557016244253), (1036, 0.002479777258639194), (1037, 0.002138802747506974), (1038, 0.02411715208469429), (1039, 0.01348866104392792), (1040, 0.006940244456559776), (1041, 0.002468015018617348), (1042, 0.002195911167561484), (1043, 0.0028732321492589354), (1044, 0.0159021242599941), (1045, 0.0), (1046, 0.0), (1047, 0.022415323324856646), (1048, 0.0027322277147426616), (1049, 0.06410269578142039), (1050, 0.0022399271968084064), (1051, 0.0), (1052, 0.0559026054109672), (1053, 0.010451508243604146), (1054, 0.03142418133171179), (1055, 0.0), (1056, 0.0), (1057, 0.023084874676365188), (1058, 0.0), (1059, 0.021267835807668098), (1060, 0.008573356632826264), (1061, 0.005632627646623472), (1062, 0.06335124626716422), (1063, 0.011367119527475801), (1064, 0.0031854313908159246), (1065, 0.008121643068272347), (1066, 0.0), (1067, 0.01798426325517232), (1068, 0.09897904029856283), (1069, 0.0), (1070, 0.0), (1071, 0.03338042786970558), (1072, 0.027764937546945895), (1073, 0.005948267527281012), (1074, 0.018914042268404617), (1075, 0.04613293832383745), (1076, 0.0), (1077, 0.009077919796030039), (1078, 0.0021895980028767852), (1079, 0.020805901149150072), (1080, 1.0000000000000004), (1081, 0.0), (1082, 0.0), (1083, 0.002735630003825212), (1084, 0.008706992227051444), (1085, 0.019222969373398024), (1086, 0.021976844529357678), (1087, 0.03732716450343132), (1088, 0.0022475911555031865), (1089, 0.0), (1090, 0.0), (1091, 0.0), (1092, 0.011490950301346253), (1093, 0.0), (1094, 0.0254713476696313), (1095, 0.0), (1096, 0.0025579039795451215), (1097, 0.0), (1098, 0.0021440027189150034), (1099, 0.0), (1100, 0.002585740385345468), (1101, 0.057498182196958236), (1102, 0.0026094826951569114), (1103, 0.04063798520990509), (1104, 0.0), (1105, 0.0), (1106, 0.02032456174886543), (1107, 0.03093618678443316), (1108, 0.03601847953515523), (1109, 0.025140146341710235), (1110, 0.035790104922282885), (1111, 0.0), (1112, 0.002618741678584875), (1113, 0.0), (1114, 0.0024217089759396263), (1115, 0.0), (1116, 0.0), (1117, 0.02319352841044935), (1118, 0.0), (1119, 0.002807166949630464), (1120, 0.03668458229664123), (1121, 0.0032940432995975347), (1122, 0.021024198921661744), (1123, 0.002498818664322008), (1124, 0.03565360028245964), (1125, 0.0), (1126, 0.0061781430750950765), (1127, 0.0), (1128, 0.0), (1129, 0.0), (1130, 0.09091795223634684), (1131, 0.002638029139001626), (1132, 0.022945092127012835), (1133, 0.018815575394705714), (1134, 0.0), (1135, 0.0), (1136, 0.015312479421016129), (1137, 0.0), (1138, 0.0026596747266325357), (1139, 0.011065721342559794), (1140, 0.023004919649561896), (1141, 0.002809811087610662), (1142, 0.0), (1143, 0.0376045864937143), (1144, 0.01308760045050973), (1145, 0.012287459118933976), (1146, 0.0), (1147, 0.0), (1148, 0.0029686023832705406), (1149, 0.0), (1150, 0.0), (1151, 0.0), (1152, 0.0), (1153, 0.039662296697325815), (1154, 0.08924897795312686), (1155, 0.0), (1156, 0.058617952800496004), (1157, 0.04522058598282872), (1158, 0.0), (1159, 0.006191844628208697), (1160, 0.002495597725083978), (1161, 0.0023734063529093725), (1162, 0.0), (1163, 0.002624620529193268), (1164, 0.0), (1165, 0.0), (1166, 0.030212779657043144), (1167, 0.020658021940968063), (1168, 0.036267333927721135), (1169, 0.016846199629938132), (1170, 0.008895851743880237), (1171, 0.012488144451266767), (1172, 0.01380308348846244), (1173, 0.02954024412370138), (1174, 0.002687888052439457), (1175, 0.05889980410560403), (1176, 0.002683859863436049), (1177, 0.04050572810394007), (1178, 0.0), (1179, 0.014392019888067204), (1180, 0.005827740570664177), (1181, 0.0), (1182, 0.002682552363660109), (1183, 0.00244047220130087), (1184, 0.010137262247061907), (1185, 0.0), (1186, 0.002308645339128708), (1187, 0.010440045992663134), (1188, 0.025341017602554573), (1189, 0.0), (1190, 0.02640270937553644), (1191, 0.002639623996269383), (1192, 0.01719903674959094), (1193, 0.05851376797324702), (1194, 0.010278895969895037), (1195, 0.0), (1196, 0.0), (1197, 0.019781049484749645), (1198, 0.0), (1199, 0.007838623273725287), (1200, 0.0056868701430388986), (1201, 0.007085778753467937), (1202, 0.06936229213491175), (1203, 0.039806167592532214), (1204, 0.04345036047894504), (1205, 0.0), (1206, 0.0024578642455767084), (1207, 0.0), (1208, 0.011328680875802959), (1209, 0.002191023952538646), (1210, 0.06803858001081453), (1211, 0.0), (1212, 0.0), (1213, 0.0), (1214, 0.0), (1215, 0.02399484163472854), (1216, 0.00805769667956138), (1217, 0.05528376381764873), (1218, 0.0), (1219, 0.007971550387572537), (1220, 0.00802008119417846), (1221, 0.017886394569004014), (1222, 0.0), (1223, 0.0026394241545165697), (1224, 0.0027445967802608687), (1225, 0.0027737131398962683), (1226, 0.13820159238849042), (1227, 0.0), (1228, 0.0), (1229, 0.02942013509404684), (1230, 0.0), (1231, 0.0), (1232, 0.02279963612402118), (1233, 0.01232675130993024), (1234, 0.05048245245960677), (1235, 0.0), (1236, 0.005689949655904825), (1237, 0.00806622347594718), (1238, 0.0), (1239, 0.03234592521745088), (1240, 0.0), (1241, 0.00216145105530272), (1242, 0.0), (1243, 0.04499908661590068), (1244, 0.0), (1245, 0.03940007857135717), (1246, 0.0), (1247, 0.03925894663867425), (1248, 0.0654414900194934), (1249, 0.01634755034172975), (1250, 0.0), (1251, 0.06459321505469694), (1252, 0.002604968365683531), (1253, 0.018592976558929747), (1254, 0.0026946826788839884), (1255, 0.06995069488124911), (1256, 0.005907393386319402), (1257, 0.002590890412448789), (1258, 0.0), (1259, 0.0), (1260, 0.0), (1261, 0.046001845432285624), (1262, 0.0), (1263, 0.0), (1264, 0.003167134259991979), (1265, 0.0), (1266, 0.0), (1267, 0.0), (1268, 0.029911956915258067), (1269, 0.0), (1270, 0.0), (1271, 0.022572723339150724), (1272, 0.05685970232393135), (1273, 0.008456841520289285), (1274, 0.0), (1275, 0.003033773364283394), (1276, 0.008775098487005405), (1277, 0.0019661698851362298), (1278, 0.04084533893015133), (1279, 0.0), (1280, 0.0), (1281, 0.0516313798716811), (1282, 0.06602276865196112), (1283, 0.0), (1284, 0.021805353173042163), (1285, 0.0), (1286, 0.008711257634578497), (1287, 0.0), (1288, 0.0), (1289, 0.011326448550625345), (1290, 0.059509585253263664), (1291, 0.018522131754277048), (1292, 0.040819895098547554), (1293, 0.0), (1294, 0.014776467831775858), (1295, 0.1319943966732442), (1296, 0.0), (1297, 0.011774613941297684), (1298, 0.024009698920196724), (1299, 0.014472129430574455), (1300, 0.0), (1301, 0.002297046046985414), (1302, 0.006345705722219589), (1303, 0.002119858023713432), (1304, 0.002630128235574748), (1305, 0.007346051791415438), (1306, 0.05166440340458585), (1307, 0.0), (1308, 0.0024122374850641163), (1309, 0.0), (1310, 0.0), (1311, 0.0), (1312, 0.0022188218922422906), (1313, 0.00875619441324468), (1314, 0.04628594920397743), (1315, 0.0), (1316, 0.040052256887589455), (1317, 0.007199561848061068), (1318, 0.034547537762666974), (1319, 0.02234877273703609), (1320, 0.0), (1321, 0.013540003895459897), (1322, 0.06658927938614027), (1323, 0.012747892655100507), (1324, 0.044298482810832845), (1325, 0.002849800088125947), (1326, 0.0), (1327, 0.0), (1328, 0.012406384140779702), (1329, 0.05305442703216383), (1330, 0.0), (1331, 0.020459637782517706), (1332, 0.0), (1333, 0.027089856245488715), (1334, 0.0026990708181172363), (1335, 0.0026554344656912142), (1336, 0.0), (1337, 0.02285937954554744), (1338, 0.0025859923417875645), (1339, 0.1047278425072356), (1340, 0.07170885560271167), (1341, 0.0), (1342, 0.01574581839550891), (1343, 0.0), (1344, 0.024760690280666728), (1345, 0.027709252391607327), (1346, 0.006292357003023225), (1347, 0.018213119253685784), (1348, 0.0), (1349, 0.0029624979438402327), (1350, 0.008655611058122282), (1351, 0.02306802285694576), (1352, 0.0022333885965033413), (1353, 0.07375061275744478), (1354, 0.0), (1355, 0.0026924909534092756), (1356, 0.012182924891283349), (1357, 0.0024229821306391954), (1358, 0.0663218283161862), (1359, 0.025943378794064498), (1360, 0.020731902428777895), (1361, 0.041007981115113896), (1362, 0.06556446075083633), (1363, 0.005937789179938138), (1364, 0.00922670633748664), (1365, 0.0075036054313216746), (1366, 0.008015443002264488), (1367, 0.05846949045906654), (1368, 0.0), (1369, 0.002151966748411116), (1370, 0.00226706567131584), (1371, 0.0), (1372, 0.0083354846547065), (1373, 0.0), (1374, 0.0), (1375, 0.022947033923946026), (1376, 0.039202378121597985), (1377, 0.0021209392088209493), (1378, 0.008878321304257645), (1379, 0.018647533894295198), (1380, 0.02679115982617574), (1381, 0.0), (1382, 0.03137847759296838), (1383, 0.002967977535418016), (1384, 0.0), (1385, 0.002632561306113149), (1386, 0.0), (1387, 0.002373539714149167), (1388, 0.0), (1389, 0.02081924264451192), (1390, 0.04465915638487418), (1391, 0.0), (1392, 0.03136005201002135), (1393, 0.0), (1394, 0.04128492869712296), (1395, 0.0), (1396, 0.0), (1397, 0.0022736867807720954), (1398, 0.01028643233612175), (1399, 0.0), (1400, 0.002771525568945388), (1401, 0.0), (1402, 0.022529796216066555), (1403, 0.006827139354836143), (1404, 0.0024853455394993457), (1405, 0.022881965942050483), (1406, 0.013473907158940453), (1407, 0.020038477325794724), (1408, 0.029607522503053128), (1409, 0.0028128360954772), (1410, 0.008980831027464864), (1411, 0.023857787531794763), (1412, 0.028211205825860272), (1413, 0.0026683763497035553), (1414, 0.0023456192212343865), (1415, 0.007280266402742224), (1416, 0.0025125503005855774), (1417, 0.0020523826121802446), (1418, 0.0), (1419, 0.0), (1420, 0.0), (1421, 0.008566280303573693), (1422, 0.08754985251595267), (1423, 0.007886129647009864), (1424, 0.024082169221287274), (1425, 0.034137351435534175), (1426, 0.0), (1427, 0.0072840907535696685), (1428, 0.017874439319746204), (1429, 0.0031608267718796204), (1430, 0.01753318549683783), (1431, 0.0), (1432, 0.014360543479286565), (1433, 0.002446102201060454), (1434, 0.013141701783064792), (1435, 0.0), (1436, 0.0), (1437, 0.04678149860077763), (1438, 0.02349381269314864), (1439, 0.0027529337952860826), (1440, 0.0327667365314933), (1441, 0.028300618229064472), (1442, 0.09059954283546894), (1443, 0.0), (1444, 0.0), (1445, 0.0065371163549743936), (1446, 0.0025196115625364265), (1447, 0.03413521591975234), (1448, 0.01985264189291476), (1449, 0.0), (1450, 0.0022657855933528653), (1451, 0.0), (1452, 0.0), (1453, 0.022994164705380897), (1454, 0.15055359465115842), (1455, 0.07907211811147807), (1456, 0.002440443736277802), (1457, 0.005826630755728865), (1458, 0.0), (1459, 0.0), (1460, 0.0), (1461, 0.013940586482616889), (1462, 0.022144879449839887), (1463, 0.04105298376979673), (1464, 0.011790748959877917), (1465, 0.002279510599050366), (1466, 0.0), (1467, 0.02777065862881966), (1468, 0.0903184211355563), (1469, 0.03904131487995152), (1470, 0.0), (1471, 0.0019497523058561999), (1472, 0.008989176778901853), (1473, 0.0), (1474, 0.019478673356157276), (1475, 0.06715131373703018), (1476, 0.059289690656513405), (1477, 0.002425116819267256), (1478, 0.03829683585428388), (1479, 0.05110822820296874), (1480, 0.09372227637330341), (1481, 0.013931434651154297), (1482, 0.0157521927339285), (1483, 0.0026088612172476284), (1484, 0.042673222902682606), (1485, 0.022656989237156033), (1486, 0.0), (1487, 0.0), (1488, 0.002635865209937468), (1489, 0.009984734087611592), (1490, 0.0), (1491, 0.04736147469973885), (1492, 0.05232386764996898), (1493, 0.03892064373434678), (1494, 0.0027086339404378233), (1495, 0.0), (1496, 0.0), (1497, 0.0030006874751185657), (1498, 0.0029230739071518133), (1499, 0.0029432544298283944), (1500, 0.022354763551700376), (1501, 0.02599445373377435), (1502, 0.0), (1503, 0.014883477917985301), (1504, 0.03735105705458512), (1505, 0.07954845062989926), (1506, 0.014141820254377064), (1507, 0.013472432627697697), (1508, 0.0), (1509, 0.0017961724967690633), (1510, 0.022996546979917258), (1511, 0.0), (1512, 0.013876130397164182), (1513, 0.002738901757826557), (1514, 0.002433290390454402), (1515, 0.0), (1516, 0.0822211943199888), (1517, 0.0398158788327119), (1518, 0.05591174188115301), (1519, 0.0024313510099020453), (1520, 0.0), (1521, 0.011906780365893243), (1522, 0.0), (1523, 0.02717417411366054), (1524, 0.039407736888273814), (1525, 0.0), (1526, 0.028323558820085797), (1527, 0.0025731779588912484), (1528, 0.05843829236606827), (1529, 0.0), (1530, 0.005123812730375359), (1531, 0.0), (1532, 0.03579745879930807), (1533, 0.04726830540598508), (1534, 0.054305132835254136), (1535, 0.0), (1536, 0.046886442634349414), (1537, 0.023982178072579997), (1538, 0.002386548365978812), (1539, 0.007923422416237998), (1540, 0.0), (1541, 0.09486002667737653), (1542, 0.02070270075783895), (1543, 0.008186679565270851), (1544, 0.09781337214433998), (1545, 0.018081801805967572), (1546, 0.0), (1547, 0.03264927514457789), (1548, 0.0), (1549, 0.006171632183409589), (1550, 0.02118600910408306), (1551, 0.018532544482759844), (1552, 0.011248289771974439), (1553, 0.0522454213128674), (1554, 0.0), (1555, 0.0024476436555976363), (1556, 0.0), (1557, 0.03419613660762081), (1558, 0.008260114934110933), (1559, 0.04994403672368609), (1560, 0.0), (1561, 0.04462682551476416), (1562, 0.08436653571012809), (1563, 0.021479589263191098), (1564, 0.0), (1565, 0.012943223829038931), (1566, 0.006261637117733418), (1567, 0.012488347590381657), (1568, 0.05621587389564937), (1569, 0.04425141898676562), (1570, 0.0027651145762208904), (1571, 0.0021737708740596057), (1572, 0.025689710064670607), (1573, 0.01159012937098321), (1574, 0.0026532668413039536), (1575, 0.02018952799698336), (1576, 0.0), (1577, 0.0), (1578, 0.0), (1579, 0.0676368912331678), (1580, 0.0029012824739269847), (1581, 0.0), (1582, 0.06057093129511705), (1583, 0.0), (1584, 0.0231994236795038), (1585, 0.02569796467095066), (1586, 0.01185358896736217), (1587, 0.0), (1588, 0.012292592370905967), (1589, 0.024599502359858087), (1590, 0.0), (1591, 0.0), (1592, 0.050563287951078645), (1593, 0.003186329471473598), (1594, 0.03106058442915999), (1595, 0.01944362551154229), (1596, 0.015760583030381744), (1597, 0.0025327339212536815), (1598, 0.0025954548428591896), (1599, 0.021782669867070288), (1600, 0.01487619938561214), (1601, 0.03819322339476504), (1602, 0.0), (1603, 0.0), (1604, 0.0), (1605, 0.021431930076467924), (1606, 0.01962273225233583), (1607, 0.03619549319761124), (1608, 0.0023207988131190515), (1609, 0.0), (1610, 0.04240257633108224), (1611, 0.011889389280055717), (1612, 0.008848469396309708), (1613, 0.06142332980196216), (1614, 0.05292957139408477), (1615, 0.0), (1616, 0.007808817925979661), (1617, 0.002566839563510248), (1618, 0.025419927267702206), (1619, 0.030943190226590117), (1620, 0.0024585032833737866), (1621, 0.002591977179928539), (1622, 0.0), (1623, 0.012766164168539358), (1624, 0.023319285682231697), (1625, 0.0023642583843113017), (1626, 0.0), (1627, 0.012304118329784959), (1628, 0.03528226054253948), (1629, 0.029972251492454176), (1630, 0.011162989646257816), (1631, 0.0), (1632, 0.0), (1633, 0.018891346941692123), (1634, 0.008806970129379749), (1635, 0.0), (1636, 0.0), (1637, 0.0300694396034577), (1638, 0.011719131740989736), (1639, 0.015256248755594202), (1640, 0.0), (1641, 0.025995166909448343), (1642, 0.002433411687794085), (1643, 0.0027603408748562855), (1644, 0.0), (1645, 0.07440043799183885), (1646, 0.0), (1647, 0.09531542063069304), (1648, 0.006635862241310223), (1649, 0.0), (1650, 0.021122834926736327), (1651, 0.0), (1652, 0.0), (1653, 0.0025639681825393766), (1654, 0.01799884183997238), (1655, 0.010808941038376143), (1656, 0.0030144156750817317), (1657, 0.0), (1658, 0.002910939432675842), (1659, 0.0), (1660, 0.0027471281327925466), (1661, 0.0), (1662, 0.010964959426185283), (1663, 0.021102470824746013), (1664, 0.03945993955372176), (1665, 0.02132847113507591), (1666, 0.008762717934046985), (1667, 0.00242314051125599), (1668, 0.020714391582961355), (1669, 0.0), (1670, 0.015149845736348807), (1671, 0.0025455652605356786), (1672, 0.002406925449718927), (1673, 0.0), (1674, 0.0), (1675, 0.01311290565892858), (1676, 0.0), (1677, 0.006990856124207382), (1678, 0.0026142328266442116), (1679, 0.0), (1680, 0.0023878796918621313), (1681, 0.0), (1682, 0.008338636380612982), (1683, 0.002813541264701588), (1684, 0.018845486660077616), (1685, 0.009401385411821664), (1686, 0.0), (1687, 0.0027877130940376768), (1688, 0.002681079330763506), (1689, 0.05916482791574847), (1690, 0.00800585861755243), (1691, 0.11604191933829403), (1692, 0.04096626054875122), (1693, 0.008343073463358927), (1694, 0.03694096215395192), (1695, 0.016309454290669392), (1696, 0.0), (1697, 0.0), (1698, 0.01740500520190176), (1699, 0.028242034123491015), (1700, 0.0), (1701, 0.020176306528427383), (1702, 0.0), (1703, 0.002720379701364741), (1704, 0.0), (1705, 0.012598115777000074), (1706, 0.0026532012676457415), (1707, 0.02994156354762692), (1708, 0.002823950050617829), (1709, 0.0), (1710, 0.016545151711995693), (1711, 0.003297144757478984), (1712, 0.002810407448495144), (1713, 0.0), (1714, 0.023360766017060025), (1715, 0.0), (1716, 0.0029486879381193246), (1717, 0.04851365124306793), (1718, 0.006558093714447664), (1719, 0.04562122893581467), (1720, 0.018780779995055133), (1721, 0.0), (1722, 0.020853487772800813), (1723, 0.0), (1724, 0.0), (1725, 0.0), (1726, 0.0), (1727, 0.01706771623039383), (1728, 0.015565642478427831), (1729, 0.0), (1730, 0.002397060238283465), (1731, 0.006707814240893146), (1732, 0.0), (1733, 0.002882870782420142), (1734, 0.012327272536061017), (1735, 0.0), (1736, 0.002752459781369182), (1737, 0.0), (1738, 0.0381590369733891), (1739, 0.0023640924249319103), (1740, 0.02173934242386446), (1741, 0.014957136832508044), (1742, 0.015521434463655297), (1743, 0.007563559504457592), (1744, 0.008476941917432371), (1745, 0.0), (1746, 0.005839214338748652), (1747, 0.055075379917055675), (1748, 0.00307831635817291), (1749, 0.05208141461719327), (1750, 0.029172291573662516), (1751, 0.02000314572890443), (1752, 0.03193613065758797), (1753, 0.0), (1754, 0.03445759735458556), (1755, 0.0), (1756, 0.013000588397935123), (1757, 0.019476301096982018), (1758, 0.0), (1759, 0.04538009313423815), (1760, 0.0024309156188055563), (1761, 0.0), (1762, 0.046312843385050186), (1763, 0.020315058642049272), (1764, 0.007702375379912218), (1765, 0.002719342463981017), (1766, 0.032707169483688146), (1767, 0.02066706338916376), (1768, 0.05197263617601807), (1769, 0.0), (1770, 0.05157703271574422), (1771, 0.039035289635739746), (1772, 0.01866924664066268), (1773, 0.0), (1774, 0.0020075480685404815), (1775, 0.03406078271381741), (1776, 0.03220269160669033), (1777, 0.0), (1778, 0.005827635003364024), (1779, 0.022874737805032155), (1780, 0.04381868848924327), (1781, 0.07412168546295053), (1782, 0.02537313520741847), (1783, 0.0), (1784, 0.03739144608215432), (1785, 0.0), (1786, 0.006881220679595168), (1787, 0.005925849880914703), (1788, 0.0), (1789, 0.0), (1790, 0.014024687019349094), (1791, 0.0), (1792, 0.01929116667986504), (1793, 0.031000730172064818), (1794, 0.013576409813039961), (1795, 0.01704985014128027), (1796, 0.0023989506890439993), (1797, 0.024346543933456512), (1798, 0.02216919603224428), (1799, 0.0), (1800, 0.0), (1801, 0.01208824902142418), (1802, 0.03744973975627743), (1803, 0.0068327999579142484), (1804, 0.006275603378170151), (1805, 0.0028646212671306895), (1806, 0.0068305403438605194), (1807, 0.01411876939718302), (1808, 0.0023579993930753092), (1809, 0.0), (1810, 0.0), (1811, 0.023949300666006014), (1812, 0.0), (1813, 0.0025526034045959723), (1814, 0.0024208932138736743), (1815, 0.0), (1816, 0.005639901566138298), (1817, 0.0), (1818, 0.0), (1819, 0.00827842616420437), (1820, 0.0), (1821, 0.06944130987440505), (1822, 0.0027754970536745948), (1823, 0.0), (1824, 0.05805025295827192), (1825, 0.013187612453071937), (1826, 0.002377535341059055), (1827, 0.04213782600034144), (1828, 0.0022686848547464333), (1829, 0.020524961016039213), (1830, 0.02862290384059469), (1831, 0.021243669567216412), (1832, 0.0), (1833, 0.024538347715137954), (1834, 0.0), (1835, 0.0), (1836, 0.0), (1837, 0.0), (1838, 0.016249921096672417), (1839, 0.013165528975862), (1840, 0.0), (1841, 0.0), (1842, 0.0), (1843, 0.0029821287862705167), (1844, 0.0), (1845, 0.00751429942460728), (1846, 0.0), (1847, 0.019288240852765363), (1848, 0.0028303676809456144), (1849, 0.0), (1850, 0.018556610024512643), (1851, 0.009250940702200719), (1852, 0.0), (1853, 0.002783030471695325), (1854, 0.023051361192479112), (1855, 0.0), (1856, 0.01577878379556708), (1857, 0.05466612098550252), (1858, 0.04646819902293436), (1859, 0.0), (1860, 0.009138355623492564), (1861, 0.001992951437697114), (1862, 0.002944657842121816), (1863, 0.028191418507350317), (1864, 0.013844440923469401), (1865, 0.04789439235079478), (1866, 0.009702683485909334), (1867, 0.0061789821077162955), (1868, 0.0), (1869, 0.028255376363400905), (1870, 0.016697322770952868), (1871, 0.022808283305435887), (1872, 0.0026592817366473), (1873, 0.030651191428818912), (1874, 0.0028414668296746037), (1875, 0.021784764313810562), (1876, 0.014476705110522053), (1877, 0.0025089449616909733), (1878, 0.02886460186132711), (1879, 0.020001689152259305), (1880, 0.006100066332621468), (1881, 0.006544033383285198), (1882, 0.0025761079122454877), (1883, 0.005158229873913488), (1884, 0.0024574822746135905), (1885, 0.01041156434062096), (1886, 0.002089788488315953), (1887, 0.02581437618065463), (1888, 0.05381889485102435), (1889, 0.0), (1890, 0.002917448236522463), (1891, 0.0026064413807640975), (1892, 0.002387483504223932), (1893, 0.00937216992910751), (1894, 0.0), (1895, 0.02656112857031856), (1896, 0.002789257982369667), (1897, 0.009634448954623044), (1898, 0.0), (1899, 0.0), (1900, 0.0), (1901, 0.0), (1902, 0.0027636193371026446), (1903, 0.0058527469793354615), (1904, 0.0), (1905, 0.00968764631441329), (1906, 0.0), (1907, 0.002830129505558831), (1908, 0.0), (1909, 0.010085782234179672), (1910, 0.0), (1911, 0.0), (1912, 0.0), (1913, 0.01860803985545864), (1914, 0.011056797002791479), (1915, 0.036948597697790624), (1916, 0.0027706953520271775), (1917, 0.0), (1918, 0.02251033056962131), (1919, 0.058834950594726536), (1920, 0.0024310441533809024), (1921, 0.014670617142734299), (1922, 0.02299514997563488), (1923, 0.002920035575865204), (1924, 0.0030037722029498818), (1925, 0.01878107376229715), (1926, 0.0), (1927, 0.0), (1928, 0.0), (1929, 0.023016500405556386), (1930, 0.0), (1931, 0.01677208566628379), (1932, 0.0), (1933, 0.04055644138599824), (1934, 0.002347661476650099), (1935, 0.005679144979125042), (1936, 0.043947415935151675), (1937, 0.01155603088912602), (1938, 0.017937466709792235), (1939, 0.01969051754441192), (1940, 0.0), (1941, 0.0), (1942, 0.031750467924542475), (1943, 0.0022885174118269726), (1944, 0.0955906835419071), (1945, 0.0), (1946, 0.03123880938591469), (1947, 0.0030522140511126256), (1948, 0.0442258134562366), (1949, 0.019367708208408906), (1950, 0.007258124041537039), (1951, 0.0094276960474794), (1952, 0.021532107965393534), (1953, 0.0), (1954, 0.018877823288185654), (1955, 0.006571947572219537), (1956, 0.006328473895002178), (1957, 0.0), (1958, 0.01407199817469137), (1959, 0.047913146613638706), (1960, 0.02522106188822886), (1961, 0.022995498357520985), (1962, 0.0), (1963, 0.022468690077348828), (1964, 0.09194950580275418), (1965, 0.02247199026437074), (1966, 0.0), (1967, 0.0025542451579463076), (1968, 0.01927793183036487), (1969, 0.002537364973547488), (1970, 0.0384237494245784), (1971, 0.0022285513267844043), (1972, 0.0), (1973, 0.01106728424835738), (1974, 0.1486136906747514), (1975, 0.0), (1976, 0.0), (1977, 0.027066752670513852), (1978, 0.016806123589135046), (1979, 0.0), (1980, 0.0023582548044571027), (1981, 0.03593347580710241), (1982, 0.0), (1983, 0.06260591099724484), (1984, 0.026266629780528898), (1985, 0.017649242887938187), (1986, 0.0), (1987, 0.0272068807088333), (1988, 0.0), (1989, 0.018296044110322856), (1990, 0.019600663434074943), (1991, 0.03375973738307164), (1992, 0.017453086836752087), (1993, 0.02923608307761122), (1994, 0.0), (1995, 0.0028271907262241262), (1996, 0.0), (1997, 0.023153629733530943), (1998, 0.0), (1999, 0.0), (2000, 0.031482468795171144), (2001, 0.005387538048995207), (2002, 0.0), (2003, 0.024261312274163727), (2004, 0.021308951952060933), (2005, 0.012396511248634497), (2006, 0.005335760773502616), (2007, 0.0057108487577478976), (2008, 0.002556935228209058), (2009, 0.007410253586894716), (2010, 0.0020763603454864296), (2011, 0.021571337528448784), (2012, 0.024741795729003334), (2013, 0.0), (2014, 0.03351116840923199), (2015, 0.014395602901354474), (2016, 0.002729496303494589), (2017, 0.012006529012744696), (2018, 0.0), (2019, 0.02136663701485328), (2020, 0.0), (2021, 0.0), (2022, 0.0), (2023, 0.0024759557299534325), (2024, 0.0025177616355006073), (2025, 0.0), (2026, 0.006251639858371495), (2027, 0.013884588642397971), (2028, 0.0), (2029, 0.02097605689894982), (2030, 0.0), (2031, 0.02055563630021544), (2032, 0.0073317140919550656), (2033, 0.0), (2034, 0.0021661720924476342), (2035, 0.007527699345792192), (2036, 0.02527997867450523), (2037, 0.002865352737918192), (2038, 0.0), (2039, 0.07289645152204023), (2040, 0.034054594469226616), (2041, 0.0), (2042, 0.0), (2043, 0.0), (2044, 0.0066458087024844105), (2045, 0.016682812416575446), (2046, 0.0), (2047, 0.0023233797348515394), (2048, 0.009145825169495423), (2049, 0.042510339834128046), (2050, 0.0), (2051, 0.010095775516561455), (2052, 0.0), (2053, 0.002714494958285483), (2054, 0.0), (2055, 0.002382961835374165), (2056, 0.01905188499554792), (2057, 0.0391507455237448), (2058, 0.01685870223140022), (2059, 0.0), (2060, 0.0026025566176780235), (2061, 0.002663040830848502), (2062, 0.0), (2063, 0.0), (2064, 0.04053514702603805), (2065, 0.0023621762566374545), (2066, 0.0), (2067, 0.002645062407881977), (2068, 0.02556817629691061), (2069, 0.021109744901773933), (2070, 0.04995177548851549), (2071, 0.0), (2072, 0.014915218383584956), (2073, 0.0026796481387264845), (2074, 0.03715989327986965), (2075, 0.011643152981231768), (2076, 0.0022175110621970957), (2077, 0.03438666055942209), (2078, 0.0), (2079, 0.023002503432424073), (2080, 0.002540332375575148), (2081, 0.0), (2082, 0.0), (2083, 0.0234419772384609), (2084, 0.0), (2085, 0.01964573207183754), (2086, 0.0066636419495223415), (2087, 0.017083315483966542), (2088, 0.002754687301617031), (2089, 0.026585500739677016), (2090, 0.020869071581556122), (2091, 0.002665850040693758), (2092, 0.054782100209211926), (2093, 0.0), (2094, 0.0), (2095, 0.013314459002966617), (2096, 0.002802443877008437), (2097, 0.0028611522411438996), (2098, 0.03558973965873656), (2099, 0.0024575085141776394), (2100, 0.05813997915892222), (2101, 0.006846700216254442), (2102, 0.00868691426176947), (2103, 0.0025601759131191923), (2104, 0.11049449468763065), (2105, 0.00946213617444821), (2106, 0.006467864870758827), (2107, 0.02009240381950635), (2108, 0.032227669215839916), (2109, 0.002650361651468966), (2110, 0.0), (2111, 0.039814904495748114), (2112, 0.002901963277163823), (2113, 0.0), (2114, 0.02971882952399061), (2115, 0.0), (2116, 0.009590363841104683), (2117, 0.05578615243138806), (2118, 0.078629303806378), (2119, 0.0), (2120, 0.02004763678105324), (2121, 0.002503090945108303), (2122, 0.015286716726016199), (2123, 0.002721447074518705), (2124, 0.0), (2125, 0.010759895790138129), (2126, 0.0027115164523794874), (2127, 0.013780781363283642), (2128, 0.0), (2129, 0.03984367785931192), (2130, 0.022563863824760222), (2131, 0.04600700943851017), (2132, 0.025397194728870833), (2133, 0.02283620597094226), (2134, 0.0029409292019608253), (2135, 0.050638038837362793), (2136, 0.0), (2137, 0.003726507671067057), (2138, 0.0), (2139, 0.0), (2140, 0.0), (2141, 0.0025130824886081963), (2142, 0.0030664618829355102), (2143, 0.016699462209577777), (2144, 0.008963090666408779), (2145, 0.013177151576827442), (2146, 0.0022469456911981055), (2147, 0.02283590297924702), (2148, 0.0027252066503051986), (2149, 0.008302483970121007), (2150, 0.0), (2151, 0.03440435576418527), (2152, 0.03432981114784106), (2153, 0.0), (2154, 0.003367800711612869), (2155, 0.009041200351421459), (2156, 0.005571195013036217), (2157, 0.02716273217685626), (2158, 0.04706988903817769), (2159, 0.03913224550223896), (2160, 0.07751769054811908), (2161, 0.005571002100529066), (2162, 0.023072686601531407), (2163, 0.01901545153424764), (2164, 0.02843378745078251), (2165, 0.016365754795680962), (2166, 0.002476186402721824), (2167, 0.006012141970824507), (2168, 0.005353962532102125), (2169, 0.008943306753844874), (2170, 0.005850985350387702), (2171, 0.0), (2172, 0.0), (2173, 0.0025890633031371607), (2174, 0.0026061585238275524), (2175, 0.02947079697143283), (2176, 0.002902484046615121), (2177, 0.010114205517217013), (2178, 0.020926402336187817), (2179, 0.0), (2180, 0.10078834774375714), (2181, 0.0), (2182, 0.0), (2183, 0.0199504794430435), (2184, 0.0), (2185, 0.0), (2186, 0.007091694811120975), (2187, 0.05583802177848718), (2188, 0.026008308201733412), (2189, 0.0036907776802782783), (2190, 0.0260244005992133), (2191, 0.002357972855473199), (2192, 0.0026478013579943516), (2193, 0.020838480919392454), (2194, 0.0), (2195, 0.00886243827707798), (2196, 0.04386625365092645), (2197, 0.05903776005141817), (2198, 0.0), (2199, 0.018736968545556062), (2200, 0.0), (2201, 0.008266044441556354), (2202, 0.01759972755108406), (2203, 0.0), (2204, 0.033710434581039055), (2205, 0.0), (2206, 0.0), (2207, 0.0), (2208, 0.02280243714415186), (2209, 0.002927131932019963), (2210, 0.07109272579873648), (2211, 0.018997362600768463), (2212, 0.037001439561221), (2213, 0.04430388893148188), (2214, 0.01784829258271475), (2215, 0.025880518822757), (2216, 0.002576810654977344), (2217, 0.02999371379348398), (2218, 0.0908867178325884), (2219, 0.0), (2220, 0.0), (2221, 0.018937344524544663), (2222, 0.015325317205509875), (2223, 0.002989482813922318), (2224, 0.032632797844746556), (2225, 0.013589746769420399), (2226, 0.002570947885920442), (2227, 0.08044746634670365), (2228, 0.07357425169865214), (2229, 0.015730252068745332), (2230, 0.032049770168418625), (2231, 0.0), (2232, 0.0), (2233, 0.0), (2234, 0.01850911796621078), (2235, 0.0), (2236, 0.002385863029812501), (2237, 0.007797208652037594), (2238, 0.0), (2239, 0.0), (2240, 0.03383836859820748), (2241, 0.0), (2242, 0.02254860169199755), (2243, 0.0), (2244, 0.0), (2245, 0.0), (2246, 0.0), (2247, 0.013874881114303909), (2248, 0.0023637557263785918), (2249, 0.006543047821152734), (2250, 0.09351058218524202), (2251, 0.0036582648996124857), (2252, 0.021301936282114273), (2253, 0.0074560981326735965), (2254, 0.002821441807595933), (2255, 0.0033921804255728433), (2256, 0.04360462614744975), (2257, 0.003385119197742093), (2258, 0.05056059071180653), (2259, 0.0), (2260, 0.03455637551132499), (2261, 0.0), (2262, 0.0), (2263, 0.0), (2264, 0.06634856224101313), (2265, 0.021917921286570014), (2266, 0.010941341849002684), (2267, 0.01571933357370377), (2268, 0.0240971692430237), (2269, 0.05408242981362939), (2270, 0.0022717229260490147), (2271, 0.0), (2272, 0.0), (2273, 0.016271951986665083), (2274, 0.0), (2275, 0.0), (2276, 0.057925034183024394), (2277, 0.0026652426507476645), (2278, 0.0), (2279, 0.017018271946571885), (2280, 0.09499788920381275), (2281, 0.018290162461481452), (2282, 0.0), (2283, 0.0), (2284, 0.0026434406550316903), (2285, 0.022451446396171065), (2286, 0.01839495518635894), (2287, 0.01263321683300998), (2288, 0.00278106409176434), (2289, 0.0026110475694366645), (2290, 0.0), (2291, 0.0), (2292, 0.0026778770088016542), (2293, 0.0028659430339459816), (2294, 0.0), (2295, 0.0026710570179334088), (2296, 0.01246364252142205), (2297, 0.09188485461780084), (2298, 0.0), (2299, 0.0042044620301369745), (2300, 0.07300524272120408), (2301, 0.008128312620001459), (2302, 0.010092784022263206), (2303, 0.021483952693997256), (2304, 0.0), (2305, 0.0), (2306, 0.003326515388479432), (2307, 0.0), (2308, 0.026398111164762657), (2309, 0.0025116072379504505), (2310, 0.003515382194019352), (2311, 0.038836095600801465), (2312, 0.0), (2313, 0.03914890316675141), (2314, 0.0), (2315, 0.019830110975942925), (2316, 0.0), (2317, 0.00243276850904949), (2318, 0.023655988380562463), (2319, 0.03787471140135769), (2320, 0.010330023356313585), (2321, 0.002701310283692833), (2322, 0.08105805548362649), (2323, 0.17354188034898682), (2324, 0.006784693883873241), (2325, 0.0), (2326, 0.015822426071355592), (2327, 0.027634061838185276), (2328, 0.007679162282567858), (2329, 0.0), (2330, 0.0), (2331, 0.021666310082901943), (2332, 0.0), (2333, 0.007447978201664554), (2334, 0.0027062193435683827), (2335, 0.006311894894198105), (2336, 0.0), (2337, 0.012455664366138645), (2338, 0.008028223545755362), (2339, 0.0), (2340, 0.0929845206788515), (2341, 0.0), (2342, 0.0), (2343, 0.0), (2344, 0.02377226922244982), (2345, 0.0), (2346, 0.002989438726802976), (2347, 0.01975083725487637), (2348, 0.043005780361307096), (2349, 0.039989322049452915), (2350, 0.022444168366129037), (2351, 0.0), (2352, 0.016114954519413485), (2353, 0.06869317091955932), (2354, 0.024975884758974443), (2355, 0.020128290421770015), (2356, 0.06648733516580531), (2357, 0.03805236440600168), (2358, 0.04270940849714088), (2359, 0.023397518542138937), (2360, 0.05578460377528063), (2361, 0.002788851127053162), (2362, 0.008145367063580926), (2363, 0.0), (2364, 0.0), (2365, 0.0), (2366, 0.013158025200008708), (2367, 0.008505794715314877), (2368, 0.02993112170282789), (2369, 0.0), (2370, 0.002739232154922593), (2371, 0.0), (2372, 0.0), (2373, 0.0), (2374, 0.022929704150605183), (2375, 0.009761993169641905), (2376, 0.0), (2377, 0.0), (2378, 0.0030942357015896647), (2379, 0.003794508887235103), (2380, 0.0), (2381, 0.0), (2382, 0.01406196042540122), (2383, 0.0), (2384, 0.0), (2385, 0.07275609984256934), (2386, 0.029298065354318014), (2387, 0.002623537009367428), (2388, 0.014137237697124293), (2389, 0.0), (2390, 0.00974114811481643), (2391, 0.009490583263172942), (2392, 0.00343296621423641), (2393, 0.0028058794896028494), (2394, 0.0027704539442017537), (2395, 0.04787171357371474), (2396, 0.002653150954033843), (2397, 0.05125420801262479), (2398, 0.008882367647168762), (2399, 0.008202349993762837), (2400, 0.0029738263509069378), (2401, 0.0025552841583619344), (2402, 0.008047239441429146), (2403, 0.0030303627184768474), (2404, 0.003576157898317648), (2405, 0.009241854499022003), (2406, 0.0030883792062671315), (2407, 0.012283014388202344), (2408, 0.018671732787751288), (2409, 0.023917927824464842), (2410, 0.030433795672759476), (2411, 0.002977203236061749), (2412, 0.007715634051945045), (2413, 0.0), (2414, 0.0), (2415, 0.03504594138516048), (2416, 0.0025913296699763924), (2417, 0.003078467183598465), (2418, 0.0027869924887016016), (2419, 0.0027623007535966105), (2420, 0.007008185128358691), (2421, 0.0), (2422, 0.008625527994787982), (2423, 0.0033135115455252325), (2424, 0.0), (2425, 0.003407609482610499), (2426, 0.0), (2427, 0.02628064078505128), (2428, 0.0029016075481793605), (2429, 0.0), (2430, 0.08112980819653666), (2431, 0.006439318570736642), (2432, 0.0), (2433, 0.0), (2434, 0.010622891148921145), (2435, 0.0), (2436, 0.002938630463249225), (2437, 0.002984331529491727), (2438, 0.021634647875182867), (2439, 0.009659030157938618), (2440, 0.024490006640981964), (2441, 0.08485242978976074), (2442, 0.026645686295133444), (2443, 0.05370435356401734), (2444, 0.01200049657459668), (2445, 0.03829451502917678), (2446, 0.0024420400032432394), (2447, 0.060947139470738654), (2448, 0.0034337317253401857), (2449, 0.0), (2450, 0.0), (2451, 0.0), (2452, 0.02168997424428954), (2453, 0.00816689203561606), (2454, 0.0031749018236593546), (2455, 0.0), (2456, 0.0), (2457, 0.00799320639781562), (2458, 0.0), (2459, 0.003200232225211258), (2460, 0.036175459831586224), (2461, 0.0294754516973584), (2462, 0.0), (2463, 0.0025844457171746815), (2464, 0.002883590519089154), (2465, 0.036346406924300224), (2466, 0.014782443452707858), (2467, 0.008573100703360653), (2468, 0.04672659131636562), (2469, 0.025291623346411198), (2470, 0.0), (2471, 0.0), (2472, 0.006276466901018027), (2473, 0.00250401979812293), (2474, 0.016483946764526018), (2475, 0.009555965254315443), (2476, 0.0), (2477, 0.02321330547806054), (2478, 0.0030183065879754688), (2479, 0.0), (2480, 0.06887575111240114), (2481, 0.018841415909915647), (2482, 0.013267715859314693), (2483, 0.0), (2484, 0.0035154930686798346), (2485, 0.0), (2486, 0.0), (2487, 0.0), (2488, 0.03548509657609606), (2489, 0.0090555685941421), (2490, 0.003789581716322324), (2491, 0.0), (2492, 0.008941481922883075), (2493, 0.0350528868561082), (2494, 0.024443798111204684), (2495, 0.0026290221601839602), (2496, 0.015351442078269665), (2497, 0.017415002249949484), (2498, 0.0), (2499, 0.02373313373599826), (2500, 0.008729339647160257), (2501, 0.019865878673677145), (2502, 0.020930545144073217), (2503, 0.0), (2504, 0.013460336957177483), (2505, 0.0029199687885009136), (2506, 0.0), (2507, 0.0028561562893801413), (2508, 0.0), (2509, 0.022797724177683394), (2510, 0.015803530648245342), (2511, 0.028785221396690326), (2512, 0.035650552047055244), (2513, 0.0), (2514, 0.013329913373626408), (2515, 0.0), (2516, 0.01997924330656702), (2517, 0.0), (2518, 0.0), (2519, 0.006453667999430517), (2520, 0.0022792532400434944), (2521, 0.0), (2522, 0.017495277871488052), (2523, 0.0), (2524, 0.0), (2525, 0.013554035176866246), (2526, 0.014290824123038797), (2527, 0.01949981733556581), (2528, 0.031979992651580705), (2529, 0.012898817611834477), (2530, 0.003341761101756549), (2531, 0.023628505637705462), (2532, 0.0), (2533, 0.0026444352032798948), (2534, 0.053159552402491525), (2535, 0.009848633571153148), (2536, 0.0), (2537, 0.0036068242238251704), (2538, 0.010450650246697115), (2539, 0.0), (2540, 0.0025058829593403893), (2541, 0.0), (2542, 0.0), (2543, 0.007850593269962127), (2544, 0.0), (2545, 0.0027392757233800366), (2546, 0.0027370961273967733), (2547, 0.0), (2548, 0.05586789058757762), (2549, 0.0), (2550, 0.006644670617469779), (2551, 0.0), (2552, 0.0024581859725945733), (2553, 0.027045910594317633), (2554, 0.002652412623424074), (2555, 0.005979783158754602), (2556, 0.0024380005900362274), (2557, 0.003260875235060129), (2558, 0.021488206995708643), (2559, 0.011681073918140002), (2560, 0.039354211142487903), (2561, 0.002743041210279182), (2562, 0.07317939963954097), (2563, 0.03658513212686459), (2564, 0.0), (2565, 0.01526927373713889), (2566, 0.0066145817646156655), (2567, 0.013960875389343298), (2568, 0.003215666370079177), (2569, 0.002598017722593259), (2570, 0.01045839047875017), (2571, 0.020758010896990746), (2572, 0.02143214384540087), (2573, 0.0), (2574, 0.03181957159345281), (2575, 0.0), (2576, 0.0), (2577, 0.0), (2578, 0.08822301175823558), (2579, 0.002947129954381283), (2580, 0.0023480146725842104), (2581, 0.0), (2582, 0.0389416884327774), (2583, 0.0), (2584, 0.047910845948893714), (2585, 0.07023503823285454), (2586, 0.015032942828282148), (2587, 0.002333273443831255), (2588, 0.029745912028464213), (2589, 0.04211822997948931), (2590, 0.010951832051827131), (2591, 0.03619252855959453), (2592, 0.002910754097154427), (2593, 0.01611479455774155), (2594, 0.005860268522404773), (2595, 0.01561217666710523), (2596, 0.01954961870431212), (2597, 0.019427235841020626), (2598, 0.05852224589277774), (2599, 0.0), (2600, 0.0), (2601, 0.01821561100920298), (2602, 0.002181622755253499), (2603, 0.01992440125610543), (2604, 0.0), (2605, 0.014391444833510585), (2606, 0.0026474131699313038), (2607, 0.007964806825196537), (2608, 0.0), (2609, 0.02202640977998345), (2610, 0.009390757273945921), (2611, 0.036740145528245984), (2612, 0.023317470221938356), (2613, 0.003097481758194114), (2614, 0.012503319686382955), (2615, 0.019985213120743972), (2616, 0.0), (2617, 0.03556735652329586), (2618, 0.038448596925687306), (2619, 0.003166278527561515), (2620, 0.0), (2621, 0.021005175162925896), (2622, 0.03199556133201074), (2623, 0.0029765111099428637), (2624, 0.04414231788204438), (2625, 0.003020773853481641), (2626, 0.05898757088828028), (2627, 0.044554137827315606), (2628, 0.0034419158309734795), (2629, 0.02344186016212614), (2630, 0.012530199632679104), (2631, 0.0), (2632, 0.002567452561273425), (2633, 0.009328710088573684), (2634, 0.0024567312385126066), (2635, 0.0), (2636, 0.001973947951276187), (2637, 0.1009797289852856), (2638, 0.00298736705764642), (2639, 0.0), (2640, 0.025261554965195672), (2641, 0.013210826488801352), (2642, 0.008561151086983914), (2643, 0.011492126998938677), (2644, 0.0), (2645, 0.0033837256187860534), (2646, 0.028744799308691973), (2647, 0.0026629836357487217), (2648, 0.02218422172406057), (2649, 0.02033212230264152), (2650, 0.05117583609301409), (2651, 0.002487585437602583), (2652, 0.008983298842165309), (2653, 0.027051039466556858), (2654, 0.0), (2655, 0.01907529104941117), (2656, 0.0), (2657, 0.0), (2658, 0.0), (2659, 0.0284787426843284), (2660, 0.02215971829348389), (2661, 0.00953900100354731), (2662, 0.0532881015968941), (2663, 0.00611672653901383), (2664, 0.009473238231998526), (2665, 0.012217139596791663), (2666, 0.020519732479615454), (2667, 0.0), (2668, 0.002705308163608243), (2669, 0.0), (2670, 0.0), (2671, 0.004595376085711066), (2672, 0.022412160156576547), (2673, 0.05185472778516745), (2674, 0.0024202949612732796), (2675, 0.0), (2676, 0.0), (2677, 0.024297997088639188), (2678, 0.014471596452640938), (2679, 0.0024879792494311883), (2680, 0.0), (2681, 0.06660638979288755), (2682, 0.0), (2683, 0.0), (2684, 0.0), (2685, 0.0), (2686, 0.0), (2687, 0.029908862809950136), (2688, 0.017155055859233808), (2689, 0.039977046560720146), (2690, 0.036514300955231005), (2691, 0.0), (2692, 0.002283153078480931), (2693, 0.006048205552321293), (2694, 0.0035023127535736545), (2695, 0.0026324979808490367), (2696, 0.010329475549406733), (2697, 0.0021524645304290325), (2698, 0.002561691603891791), (2699, 0.005837018124761322), (2700, 0.0), (2701, 0.010126028888156995), (2702, 0.010155916663765432), (2703, 0.0), (2704, 0.014695052582420232), (2705, 0.009621446012022186), (2706, 0.016605198066869508), (2707, 0.0030858457187044634), (2708, 0.0), (2709, 0.0), (2710, 0.046781358022363606), (2711, 0.06717820055643742), (2712, 0.0028092268964520083), (2713, 0.0), (2714, 0.0173731972111344), (2715, 0.0), (2716, 0.03108175630013429), (2717, 0.0), (2718, 0.0), (2719, 0.0), (2720, 0.05184546297691681), (2721, 0.002284598115736602), (2722, 0.003691023338863577), (2723, 0.02402354549491476), (2724, 0.002336349380018282), (2725, 0.01539390738130256), (2726, 0.0), (2727, 0.0), (2728, 0.0203891205418291), (2729, 0.03965311353654009), (2730, 0.007687302703552236), (2731, 0.03006777995250757), (2732, 0.02476003686282979), (2733, 0.0), (2734, 0.0), (2735, 0.0024275888555940397), (2736, 0.01795445783229018), (2737, 0.010460918108307056), (2738, 0.0031027974308547018), (2739, 0.038707587624051715), (2740, 0.010004914094508571), (2741, 0.0023673510359064065), (2742, 0.026178659368227074), (2743, 0.002254226005426541), (2744, 0.009209255589536298), (2745, 0.02084393295108058), (2746, 0.07051141162237466), (2747, 0.09599052146961123), (2748, 0.009662636204339471), (2749, 0.0), (2750, 0.12480691987158404), (2751, 0.0), (2752, 0.002514753462341818), (2753, 0.018774160006441533), (2754, 0.1109171727362102), (2755, 0.009396029061056962), (2756, 0.04474395095808007), (2757, 0.004024270612885207), (2758, 0.0022330034461059407), (2759, 0.05891581076914788), (2760, 0.035044078388559), (2761, 0.007646653438567916), (2762, 0.07196946688827677), (2763, 0.0), (2764, 0.012659613784571042), (2765, 0.013682084122665623), (2766, 0.036974624441306635), (2767, 0.002051272447489368), (2768, 0.0037374641900780317), (2769, 0.010488236571138496), (2770, 0.0), (2771, 0.05564859301111408), (2772, 0.003114550996200223), (2773, 0.0), (2774, 0.0615636959122213), (2775, 0.012063114143176481), (2776, 0.0095702847359444), (2777, 0.0394082432847689), (2778, 0.003179227555479201), (2779, 0.021643253707049104), (2780, 0.0), (2781, 0.0), (2782, 0.0029267926378833027), (2783, 0.0026460064044457384), (2784, 0.0026873998577097175), (2785, 0.0), (2786, 0.0028156377994118893), (2787, 0.0), (2788, 0.0), (2789, 0.011459419308155038), (2790, 0.019825675109205708), (2791, 0.036863857958233534), (2792, 0.0027855533257945997), (2793, 0.0), (2794, 0.006477313289333427), (2795, 0.003320406334747606), (2796, 0.0030089356640049716), (2797, 0.010876206110585214), (2798, 0.009023323807968976), (2799, 0.02090936648706541), (2800, 0.0024840708514840986), (2801, 0.01617525641129023), (2802, 0.02216939117679905), (2803, 0.002392729774693959), (2804, 0.0), (2805, 0.02195996142467284), (2806, 0.006929059533675744), (2807, 0.06061388610390473), (2808, 0.02192330915260056), (2809, 0.024504041822785507), (2810, 0.0), (2811, 0.0), (2812, 0.016460652613201825), (2813, 0.044571271543224086), (2814, 0.0), (2815, 0.0), (2816, 0.00647371195815488), (2817, 0.006671469991730392), (2818, 0.0), (2819, 0.03457948073917508), (2820, 0.02058048515712572), (2821, 0.06804193036387873), (2822, 0.05570194773379067), (2823, 0.0), (2824, 0.05873565515632037), (2825, 0.0), (2826, 0.0026432940098036015), (2827, 0.017540636992345187), (2828, 0.0), (2829, 0.0), (2830, 0.04692688255652217), (2831, 0.017486412990213602), (2832, 0.011661371988812192), (2833, 0.0), (2834, 0.011024081105122964), (2835, 0.09311711261477226), (2836, 0.006207974386892787), (2837, 0.0), (2838, 0.038850595507584545), (2839, 0.0), (2840, 0.002932452129184215), (2841, 0.009169035409162115), (2842, 0.052889974746764164), (2843, 0.0), (2844, 0.007338926362354874), (2845, 0.06814241363490288), (2846, 0.0030765000529485356), (2847, 0.0), (2848, 0.02520671354513481), (2849, 0.0027796255504980065), (2850, 0.011692821855189016), (2851, 0.02460173033822092), (2852, 0.06732588365471798), (2853, 0.02137772981352226), (2854, 0.002920040249140589), (2855, 0.005305747578139049), (2856, 0.037337397030515244), (2857, 0.010968600578010745), (2858, 0.0037267157039841386), (2859, 0.00842443772698468), (2860, 0.0), (2861, 0.0034850212877962834), (2862, 0.0024503266440409274), (2863, 0.009162012757613122), (2864, 0.0), (2865, 0.0), (2866, 0.005822017991052988), (2867, 0.04299933757522585), (2868, 0.0024325473189269176), (2869, 0.0), (2870, 0.0120458716918894), (2871, 0.0), (2872, 0.010228476845350954), (2873, 0.05746640645878483), (2874, 0.0), (2875, 0.0), (2876, 0.007421336315313726), (2877, 0.037535245258759786), (2878, 0.0530490426205023), (2879, 0.003202023716242624), (2880, 0.022734416726134573), (2881, 0.0029778009635865197), (2882, 0.024341276910900572), (2883, 0.012024715603627171), (2884, 0.003035166121137864), (2885, 0.0), (2886, 0.008477614471750336), (2887, 0.0026641215168997753), (2888, 0.0028481009493855746), (2889, 0.03083597302997061), (2890, 0.009805151135295703), (2891, 0.008862413172955186), (2892, 0.028857025710030244), (2893, 0.010076760982670845), (2894, 0.05054667434633488), (2895, 0.0031471404130417754), (2896, 0.0), (2897, 0.005976122750900572), (2898, 0.0), (2899, 0.03792264125481824), (2900, 0.002620893572882148), (2901, 0.0033757252310177223), (2902, 0.0019337455965518938), (2903, 0.002948530248168243), (2904, 0.009242272053222627), (2905, 0.0), (2906, 0.0), (2907, 0.02556716539082331), (2908, 0.017265759509340433), (2909, 0.01403823580930735), (2910, 0.0025725101263002086), (2911, 0.009247951696886057), (2912, 0.0312791745617957), (2913, 0.0), (2914, 0.025332958610450564), (2915, 0.009663128053486082), (2916, 0.002945057282688996), (2917, 0.01133755218704896), (2918, 0.0), (2919, 0.002716157944512601), (2920, 0.002405669239637833), (2921, 0.0), (2922, 0.0), (2923, 0.022117815431371292), (2924, 0.03217353022554876), (2925, 0.0021110181655365173), (2926, 0.0027497136292533634), (2927, 0.0), (2928, 0.023270978951355444), (2929, 0.10248965348370037), (2930, 0.0), (2931, 0.02509489449215021), (2932, 0.003476297740950216), (2933, 0.007546178070004416), (2934, 0.1231300244972011), (2935, 0.0), (2936, 0.002976337060790925), (2937, 0.03248871459072499), (2938, 0.0), (2939, 0.0), (2940, 0.04717786274181081), (2941, 0.0), (2942, 0.002275152604992437), (2943, 0.008853932056167656), (2944, 0.0), (2945, 0.008698136629235072), (2946, 0.0025875247173208844), (2947, 0.0), (2948, 0.0), (2949, 0.022956639008263068), (2950, 0.03185306298660017), (2951, 0.027986354418137873), (2952, 0.0), (2953, 0.0027830068971914), (2954, 0.002400732648561542), (2955, 0.012013896693768882), (2956, 0.0), (2957, 0.003216623338866444), (2958, 0.04008631232079871), (2959, 0.0), (2960, 0.0), (2961, 0.002588024640528216), (2962, 0.031933070382033496), (2963, 0.0), (2964, 0.0028096138319129967), (2965, 0.09064607065953875), (2966, 0.01080211052782079), (2967, 0.023793840219217887), (2968, 0.03342336421776009), (2969, 0.0021806737378598107), (2970, 0.00280250103421272), (2971, 0.0), (2972, 0.002478330024153567), (2973, 0.0061364711542770695), (2974, 0.009976437715567409), (2975, 0.026707642138164286), (2976, 0.002355300026943511), (2977, 0.016808014553472004), (2978, 0.04780941343826673), (2979, 0.0), (2980, 0.002578628981561171), (2981, 0.05056929552962904), (2982, 0.03920829470292324), (2983, 0.007896319434500004), (2984, 0.0), (2985, 0.0021930917927711303), (2986, 0.028060567298960833), (2987, 0.003035371997204528), (2988, 0.03429371236574866), (2989, 0.0036636377716062875), (2990, 0.0), (2991, 0.011921430736614199), (2992, 0.005833714364455422), (2993, 0.0031712974481998), (2994, 0.0), (2995, 0.008421585560671711), (2996, 0.026569766582238256), (2997, 0.0024851315891179435), (2998, 0.003947196366600112), (2999, 0.008835481073652434), (3000, 0.02199820042619735), (3001, 0.023841506998340586), (3002, 0.0), (3003, 0.002920766573433694), (3004, 0.05571830965410495), (3005, 0.038116500555593), (3006, 0.03185803977230074), (3007, 0.0028088589222269498), (3008, 0.0), (3009, 0.008760817238146448), (3010, 0.020718353803112502), (3011, 0.018208307826851015), (3012, 0.0029477914443128304), (3013, 0.010023974224668213), (3014, 0.00838850772894162), (3015, 0.011260101701986568), (3016, 0.002699171247231747), (3017, 0.007433610705391889), (3018, 0.07271673633338169), (3019, 0.0030607816767110494), (3020, 0.0031918892981533547), (3021, 0.0), (3022, 0.0), (3023, 0.026087024974446343), (3024, 0.018843743017552022), (3025, 0.03655085240254613), (3026, 0.0029048962158055103), (3027, 0.002365960689870847), (3028, 0.0025407734380421838), (3029, 0.0), (3030, 0.046451509929844266), (3031, 0.003211774340766378), (3032, 0.0029429918426435438), (3033, 0.019984518807342352), (3034, 0.0062973260455046745), (3035, 0.0025030296797132535), (3036, 0.0024997429981549056), (3037, 0.023644495989282966), (3038, 0.0), (3039, 0.02039286465467751), (3040, 0.0036718025743014276), (3041, 0.0), (3042, 0.05392286175206468), (3043, 0.0029764235550310413), (3044, 0.0028660058619245856), (3045, 0.01776659516818705), (3046, 0.02234188227552388), (3047, 0.037782246249941136), (3048, 0.012462343469632734), (3049, 0.0), (3050, 0.008141122803732305), (3051, 0.003750464829861815), (3052, 0.003591288408784428), (3053, 0.0), (3054, 0.0), (3055, 0.003577745761464691), (3056, 0.017107493772294664), (3057, 0.0024665104245486084), (3058, 0.0), (3059, 0.0), (3060, 0.02048241494761477), (3061, 0.006541543727466226), (3062, 0.0029149524276773733), (3063, 0.0), (3064, 0.0028609449234098003), (3065, 0.0022332758526859937), (3066, 0.07178624251347096), (3067, 0.0285320068909525), (3068, 0.017905224641020213), (3069, 0.002567598776311576), (3070, 0.02518677398617695), (3071, 0.025984652654480318), (3072, 0.010327754521852486), (3073, 0.0), (3074, 0.0032258107795402895), (3075, 0.008629996588180634), (3076, 0.0034409603851584336), (3077, 0.023715572545237974), (3078, 0.008039757336625217), (3079, 0.0), (3080, 0.0), (3081, 0.020555504216011943), (3082, 0.02092724146981318), (3083, 0.05840213314440764), (3084, 0.002788614658241656), (3085, 0.06043629386964882), (3086, 0.026081384320398724), (3087, 0.0), (3088, 0.0), (3089, 0.0), (3090, 0.0), (3091, 0.002200724004691074), (3092, 0.06531918664198215), (3093, 0.0025875550641349322), (3094, 0.03379399131883004), (3095, 0.0028227586364224793), (3096, 0.03850302257089779), (3097, 0.01810107058871718), (3098, 0.02265505831994817), (3099, 0.0), (3100, 0.0), (3101, 0.06970407698249385), (3102, 0.019217961137317066), (3103, 0.028897055633201888), (3104, 0.0), (3105, 0.020543808713545313), (3106, 0.0), (3107, 0.04536864712521852), (3108, 0.002359815911734165), (3109, 0.05097529090362801), (3110, 0.0), (3111, 0.02482960253931219), (3112, 0.002827265974509099), (3113, 0.0026817047286793465), (3114, 0.0), (3115, 0.0), (3116, 0.00976450025570074), (3117, 0.021616494690424287), (3118, 0.0), (3119, 0.0036045602165831548), (3120, 0.002434228192496358), (3121, 0.031079183566945206), (3122, 0.0025082293999505708), (3123, 0.0032070450963308543), (3124, 0.0), (3125, 0.002642241519328992), (3126, 0.0), (3127, 0.0), (3128, 0.0033143324174431236), (3129, 0.02630811947655272), (3130, 0.0), (3131, 0.0), (3132, 0.0), (3133, 0.0), (3134, 0.0), (3135, 0.0), (3136, 0.0), (3137, 0.010687597205685177), (3138, 0.0), (3139, 0.0037225294474218648), (3140, 0.043152797626397274), (3141, 0.03616513256630213), (3142, 0.05581578135811066), (3143, 0.0), (3144, 0.0), (3145, 0.04496186946088024), (3146, 0.019536965890627842), (3147, 0.025826315010371016), (3148, 0.010060712431973918), (3149, 0.04772382966944318), (3150, 0.0027509100155926605), (3151, 0.0025045514498432658), (3152, 0.002051740323819565), (3153, 0.0027074449155491003), (3154, 0.029550255750983856), (3155, 0.002647240311292898), (3156, 0.0), (3157, 0.0029264998117322434), (3158, 0.02411323920827472), (3159, 0.003254097607564904), (3160, 0.04372259979894109), (3161, 0.033568630775564906), (3162, 0.0), (3163, 0.0), (3164, 0.011674822652326713), (3165, 0.010206099225640038), (3166, 0.012325752042587873), (3167, 0.019241284109952145), (3168, 0.020292671167201983), (3169, 0.0), (3170, 0.008453477396554809), (3171, 0.0025010585207084312), (3172, 0.016052837981687378), (3173, 0.0025893284986244864), (3174, 0.002622235177813084), (3175, 0.10848049601654469), (3176, 0.0), (3177, 0.017119022756995807), (3178, 0.014049031390047035), (3179, 0.06081573180432098), (3180, 0.006960722072010827), (3181, 0.015022924991457819), (3182, 0.009051859080545812), (3183, 0.009730443765454582), (3184, 0.009544050492001693), (3185, 0.0), (3186, 0.0029812191464426907), (3187, 0.002766841317251721), (3188, 0.025084113956989763), (3189, 0.027581734350340285), (3190, 0.0), (3191, 0.0), (3192, 0.0), (3193, 0.0), (3194, 0.00838710646787998), (3195, 0.002587436253009887), (3196, 0.0029483173250766086), (3197, 0.030496889928634703), (3198, 0.009179449501759637), (3199, 0.002036075932877561), (3200, 0.07374612949466812), (3201, 0.0), (3202, 0.006802555116189095), (3203, 0.0), (3204, 0.0), (3205, 0.0046539182273742), (3206, 0.0031811305827259624), (3207, 0.0), (3208, 0.04373724046383329), (3209, 0.0), (3210, 0.0026520996226664325), (3211, 0.0022764589424603882), (3212, 0.0), (3213, 0.015659944792920946), (3214, 0.00848325510993075), (3215, 0.0), (3216, 0.0026164294754195383), (3217, 0.0080626077242453), (3218, 0.009473240398951395), (3219, 0.03155183503854738), (3220, 0.008684471066189463), (3221, 0.0), (3222, 0.018611130893977364), (3223, 0.0), (3224, 0.0027373782085819715), (3225, 0.0440637101887387), (3226, 0.02336905442677429), (3227, 0.0026510435577542183), (3228, 0.0031907940618773564), (3229, 0.045099684232712475), (3230, 0.0030354439629788578), (3231, 0.0), (3232, 0.029096447378573614), (3233, 0.0027048698426763826), (3234, 0.02348472241162922), (3235, 0.009472671238748934), (3236, 0.0), (3237, 0.008776639497756724), (3238, 0.020777441096534767), (3239, 0.0033148805982243495), (3240, 0.018403776450861126), (3241, 0.049296554057170185), (3242, 0.02534809361295806), (3243, 0.03778367963562362), (3244, 0.0), (3245, 0.0), (3246, 0.027835703071166732), (3247, 0.0), (3248, 0.009910031088661134), (3249, 0.003288441960762415), (3250, 0.0), (3251, 0.0), (3252, 0.002190840269991169), (3253, 0.0), (3254, 0.0072654827748491295), (3255, 0.0), (3256, 0.0), (3257, 0.010707029316324923), (3258, 0.009662434441353094), (3259, 0.022689268843518993), (3260, 0.023687994047264252), (3261, 0.02356449787293523), (3262, 0.003383082761936635), (3263, 0.0), (3264, 0.0184428090880642), (3265, 0.015290283270981805), (3266, 0.0), (3267, 0.00238571891419144), (3268, 0.008480964452429067), (3269, 0.0028440915175349155), (3270, 0.0136966873159994), (3271, 0.009601172465082288), (3272, 0.014031376212826107), (3273, 0.17818249549034743), (3274, 0.01001191726022986), (3275, 0.0030730645500904904), (3276, 0.013413574156112693), (3277, 0.0), (3278, 0.0023907391331608055), (3279, 0.050750390105221366), (3280, 0.0), (3281, 0.0), (3282, 0.05258203373605583), (3283, 0.12837940927859734), (3284, 0.022851776962800475), (3285, 0.054867496677183096), (3286, 0.0), (3287, 0.0), (3288, 0.006121629306495027), (3289, 0.041343050272511325), (3290, 0.014812988885221057), (3291, 0.011941068617356155), (3292, 0.0034322766942890934), (3293, 0.002488577234859109), (3294, 0.0), (3295, 0.005693747407744996), (3296, 0.010106492515060305), (3297, 0.09957672855371041), (3298, 0.00858353140738902), (3299, 0.0026126393328134595), (3300, 0.028568382675099372), (3301, 0.0020589261855245263), (3302, 0.010826610621175606), (3303, 0.07689236382557411), (3304, 0.04096166771236813), (3305, 0.0), (3306, 0.022874623526821652), (3307, 0.0030541393073717344), (3308, 0.0583136332896847), (3309, 0.0), (3310, 0.01967093051290632), (3311, 0.002378380110002231), (3312, 0.0), (3313, 0.01340208924659071), (3314, 0.032241545896573374), (3315, 0.008488509023672904), (3316, 0.002022502745730732), (3317, 0.0021535007608143053), (3318, 0.04199732482922126), (3319, 0.01387231695288166), (3320, 0.018569128341052992), (3321, 0.0), (3322, 0.0033838837075102312), (3323, 0.0), (3324, 0.0), (3325, 0.004697566791274761), (3326, 0.025125755925933857), (3327, 0.007970315538316895), (3328, 0.105769265360701), (3329, 0.019642063373370426), (3330, 0.0026203005031451357), (3331, 0.07155748203614112), (3332, 0.0), (3333, 0.03280235153620444), (3334, 0.022635929505947536), (3335, 0.028029865619531455), (3336, 0.08112487869938322), (3337, 0.0030337530573283063), (3338, 0.0), (3339, 0.0), (3340, 0.0), (3341, 0.014434324287361782), (3342, 0.015243232016516074), (3343, 0.0), (3344, 0.07838912398344722), (3345, 0.0), (3346, 0.002622265286874733), (3347, 0.002206769882264845), (3348, 0.002544486259012583), (3349, 0.0027278016861260043), (3350, 0.0), (3351, 0.025198090948682486), (3352, 0.10076736130696716), (3353, 0.002733465042058545), (3354, 0.0033102646585692194), (3355, 0.0030248699580422006), (3356, 0.0), (3357, 0.01789190344622454), (3358, 0.003192014661020613), (3359, 0.010341108531793021), (3360, 0.01908488187563083), (3361, 0.02113025405985163), (3362, 0.048980717482786804), (3363, 0.011082093835252372), (3364, 0.01025793615994291), (3365, 0.001854160225320599), (3366, 0.0), (3367, 0.013808013673266785), (3368, 0.07370859084778317), (3369, 0.0024252309263592346), (3370, 0.002552134786636784), (3371, 0.006930791360747077), (3372, 0.0027613398536547812), (3373, 0.002959280792964922), (3374, 0.002609328222812363), (3375, 0.006065304379463509), (3376, 0.0022451940603031907), (3377, 0.08307188956866676), (3378, 0.0), (3379, 0.0025777430911567262), (3380, 0.12292689073056241), (3381, 0.002597859302828585), (3382, 0.0027435345192567064), (3383, 0.031926587173666844), (3384, 0.0), (3385, 0.0), (3386, 0.021769935341604367), (3387, 0.02082252715341492), (3388, 0.023887656576658707), (3389, 0.03243966377778962), (3390, 0.00250512365579174), (3391, 0.025950441040077606), (3392, 0.014275963386810184), (3393, 0.0022613014611074), (3394, 0.07041387442668093), (3395, 0.012664742819713012), (3396, 0.00303270945634908), (3397, 0.0), (3398, 0.0), (3399, 0.002456417356710786), (3400, 0.006118648460228975), (3401, 0.0), (3402, 0.017020590312540457), (3403, 0.02663387012832505), (3404, 0.0), (3405, 0.0), (3406, 0.029277632197885126), (3407, 0.008342010039882964), (3408, 0.03208151819079216), (3409, 0.033049188198697996), (3410, 0.02255803424720346), (3411, 0.0), (3412, 0.0025642730947375804), (3413, 0.01067298991515114), (3414, 0.02385535941079511), (3415, 0.10663993514142268), (3416, 0.0), (3417, 0.009786750026840782), (3418, 0.002386083012082454), (3419, 0.003034243293624778), (3420, 0.0), (3421, 0.019192845880514762), (3422, 0.0), (3423, 0.0030084570457126103), (3424, 0.0068549041883638135), (3425, 0.010296009419197151), (3426, 0.0), (3427, 0.0), (3428, 0.012154471136297345), (3429, 0.0), (3430, 0.0021885076861118623), (3431, 0.002111369327146945), (3432, 0.0), (3433, 0.058242880387880384), (3434, 0.009453378392749954), (3435, 0.021276549076880705), (3436, 0.002646159252232971), (3437, 0.0027524833214378434), (3438, 0.0), (3439, 0.0), (3440, 0.0), (3441, 0.0026076594540676177), (3442, 0.0), (3443, 0.022016950772161165), (3444, 0.0), (3445, 0.002692693931286069), (3446, 0.04128090228223687), (3447, 0.008682910000437364), (3448, 0.014271757376634053), (3449, 0.03285018177446892), (3450, 0.0030536111322450317), (3451, 0.0), (3452, 0.0024517262218880396), (3453, 0.0), (3454, 0.019710654339768367), (3455, 0.0024141684478615247), (3456, 0.0), (3457, 0.027082427312218556), (3458, 0.014719736686346413), (3459, 0.0), (3460, 0.01975692569853094), (3461, 0.0), (3462, 0.0), (3463, 0.033672681813992286), (3464, 0.012468563898476918), (3465, 0.0), (3466, 0.017751302978911324), (3467, 0.0), (3468, 0.0), (3469, 0.015438963680354393), (3470, 0.0), (3471, 0.017083103244488772), (3472, 0.0), (3473, 0.01685200674849133), (3474, 0.03205024669090258), (3475, 0.0), (3476, 0.0), (3477, 0.030945370619042567), (3478, 0.0026292607177708974), (3479, 0.01186685656466513), (3480, 0.0), (3481, 0.0), (3482, 0.0), (3483, 0.002783822469413622), (3484, 0.0), (3485, 0.0), (3486, 0.0), (3487, 0.002527941771332288), (3488, 0.0), (3489, 0.020660021068282783), (3490, 0.024994268012424964), (3491, 0.0026395767381200697), (3492, 0.040643499035452675), (3493, 0.009300465086429677), (3494, 0.0), (3495, 0.019130735135539787), (3496, 0.009538129731208834), (3497, 0.0028727371039720157), (3498, 0.03854463674390494), (3499, 0.030728946005665236), (3500, 0.025576084303064538), (3501, 0.002672616551020653), (3502, 0.024389368693966795), (3503, 0.0025211962919007872), (3504, 0.0025183590179042167), (3505, 0.0), (3506, 0.046619820460744525), (3507, 0.020888470552382108), (3508, 0.0), (3509, 0.0), (3510, 0.08019166689072596), (3511, 0.00935359039113377), (3512, 0.004031732989301092), (3513, 0.006555217192065069), (3514, 0.025204949398799692), (3515, 0.0), (3516, 0.002859497834002269), (3517, 0.002722350399289885), (3518, 0.0), (3519, 0.0), (3520, 0.0), (3521, 0.0032391171799436387), (3522, 0.0), (3523, 0.020634158503994113), (3524, 0.03263998213896445), (3525, 0.0), (3526, 0.009093711706765342), (3527, 0.002717842494351103), (3528, 0.017369804000941923), (3529, 0.006875063921016395), (3530, 0.0), (3531, 0.024188370765580024), (3532, 0.015872931259833842), (3533, 0.0982872971778619), (3534, 0.03753293537239781), (3535, 0.0), (3536, 0.0027280934389328935), (3537, 0.028254267619462016), (3538, 0.002096480343863149), (3539, 0.03872805154139973), (3540, 0.0030666104387593045), (3541, 0.008938424515558966), (3542, 0.0026901197058188248), (3543, 0.0), (3544, 0.003200476549320655), (3545, 0.014726800461116728), (3546, 0.0480584134119315), (3547, 0.0), (3548, 0.0021621626904665915), (3549, 0.037123518051651504), (3550, 0.0), (3551, 0.020842336721702017), (3552, 0.014451953509825685), (3553, 0.021121108649647467), (3554, 0.014241522776928249), (3555, 0.0), (3556, 0.002350897991402744), (3557, 0.0025783168679522133), (3558, 0.00820354911869971), (3559, 0.1191852883278346), (3560, 0.00998409535386654), (3561, 0.03087968319226304), (3562, 0.017994529591934993), (3563, 0.0220045743803086), (3564, 0.0352334596002094), (3565, 0.021090870585532093), (3566, 0.0), (3567, 0.0), (3568, 0.0), (3569, 0.002254254672088847), (3570, 0.021379598327050657), (3571, 0.002688566834071805), (3572, 0.0), (3573, 0.0), (3574, 0.0), (3575, 0.03654611339771176), (3576, 0.0), (3577, 0.03588360201640292), (3578, 0.02817428301850027), (3579, 0.007584797471503656), (3580, 0.05929436324048528), (3581, 0.0), (3582, 0.0), (3583, 0.0), (3584, 0.006719369459621323), (3585, 0.01820815537724147), (3586, 0.012661200701269198), (3587, 0.0029617768045208433), (3588, 0.0), (3589, 0.08381685354835453), (3590, 0.0027929255403861698), (3591, 0.0), (3592, 0.007778753996379602), (3593, 0.0029350391713852965), (3594, 0.0062318958674325575), (3595, 0.05438893101349622), (3596, 0.02254394931745314), (3597, 0.019297965877183212), (3598, 0.005538505669692483), (3599, 0.009277940225739538), (3600, 0.0), (3601, 0.009476636699667355), (3602, 0.0), (3603, 0.028300822444607424), (3604, 0.02363022620858198), (3605, 0.0), (3606, 0.022839131479994782), (3607, 0.017827515162017523), (3608, 0.0017125640171328656), (3609, 0.0), (3610, 0.013895076595660787), (3611, 0.0939237979917196), (3612, 0.03308836949331072), (3613, 0.003243011200126424), (3614, 0.07631258719238285), (3615, 0.0024759429803780817), (3616, 0.031027581934053097), (3617, 0.030826531155721187), (3618, 0.0027869752059602273), (3619, 0.0), (3620, 0.003201623988231629), (3621, 0.0030938652496741766), (3622, 0.0), (3623, 0.002712297571031663), (3624, 0.0026048907486515725), (3625, 0.0), (3626, 0.0068173064729992565), (3627, 0.002432729769157895), (3628, 0.0), (3629, 0.002258039701873038), (3630, 0.0), (3631, 0.0), (3632, 0.0), (3633, 0.018046523586363925), (3634, 0.038603311181459196), (3635, 0.0035547736495538536), (3636, 0.002709553967560466), (3637, 0.018789348681975557), (3638, 0.003278083539558851), (3639, 0.019989715297172413), (3640, 0.03437725363490246), (3641, 0.002539278968554097), (3642, 0.06449495436371945), (3643, 0.002671051567622446), (3644, 0.017705979938371978), (3645, 0.0019817836198264926), (3646, 0.008402171550304947), (3647, 0.002586848423565046), (3648, 0.0064735930389759454), (3649, 0.016831866544961008), (3650, 0.07629841044825464), (3651, 0.0030077628440767414), (3652, 0.0), (3653, 0.002680173892327057), (3654, 0.0093452525785576), (3655, 0.026456359601520582), (3656, 0.039467504677775586), (3657, 0.0022187885213382818), (3658, 0.0), (3659, 0.06589744030767823), (3660, 0.0025354815225173463), (3661, 0.0029986531867993885), (3662, 0.031744709567135924), (3663, 0.0), (3664, 0.0), (3665, 0.014359761182416697), (3666, 0.0027299875182454562), (3667, 0.020147355441489434), (3668, 0.002225456003144965), (3669, 0.0233622385582586), (3670, 0.0026517323887549054), (3671, 0.0), (3672, 0.003736114285695148), (3673, 0.002618606258342417), (3674, 0.0), (3675, 0.003134184845972163), (3676, 0.0), (3677, 0.032086470364658205), (3678, 0.00945315230567743), (3679, 0.0), (3680, 0.0029731733755582065), (3681, 0.006945555564516006), (3682, 0.016473969856116922), (3683, 0.0), (3684, 0.0), (3685, 0.0), (3686, 0.007437958556647551), (3687, 0.003283965551936601), (3688, 0.0), (3689, 0.002719560875877064), (3690, 0.01202300443724016), (3691, 0.02667427757612328), (3692, 0.002830933443196634), (3693, 0.0), (3694, 0.0028454579406586027), (3695, 0.023532173850533834), (3696, 0.0025355918641475216), (3697, 0.012960858963852814), (3698, 0.020769173857518215), (3699, 0.0026855087009036464), (3700, 0.0), (3701, 0.024751538200500012), (3702, 0.0), (3703, 0.01756013114745238), (3704, 0.002841312345474996), (3705, 0.002379170277990815), (3706, 0.0025659662838813362), (3707, 0.0026759836822447865), (3708, 0.0), (3709, 0.0), (3710, 0.0), (3711, 0.0), (3712, 0.0), (3713, 0.0), (3714, 0.002873862307346538), (3715, 0.025802363096392385), (3716, 0.04429586611963781), (3717, 0.0), (3718, 0.0), (3719, 0.0025662997566389977), (3720, 0.0), (3721, 0.0345275421968686), (3722, 0.020559038591153964), (3723, 0.0), (3724, 0.0), (3725, 0.0024481456193850087), (3726, 0.0), (3727, 0.0026068824090969924), (3728, 0.0028115613023250337), (3729, 0.0030470715993658323), (3730, 0.045130974850355346), (3731, 0.017184051533565687), (3732, 0.0), (3733, 0.002504117381303903), (3734, 0.0024798447436411943), (3735, 0.023807046400444908), (3736, 0.0), (3737, 0.0278608812654457), (3738, 0.017247112433145455), (3739, 0.00265816033995875), (3740, 0.0), (3741, 0.013665886366419765), (3742, 0.0024016196907581467), (3743, 0.0), (3744, 0.0849131213829932), (3745, 0.01045281971711165), (3746, 0.02117869376470147), (3747, 0.04108463614499458), (3748, 0.00541335519306743), (3749, 0.0028667616043974407), (3750, 0.0), (3751, 0.013492368572547101), (3752, 0.012604835460939032), (3753, 0.005763707145517953), (3754, 0.0030491754660609896), (3755, 0.0023237186846008758), (3756, 0.0021506795221080096), (3757, 0.0028362114688221473), (3758, 0.00748300190143164), (3759, 0.0), (3760, 0.0), (3761, 0.006996663086828825), (3762, 0.0034253727722735106), (3763, 0.003098651560619974), (3764, 0.0), (3765, 0.0025540141394360086), (3766, 0.0031354690733187474), (3767, 0.008162578439518318), (3768, 0.0), (3769, 0.0), (3770, 0.002749459503595534), (3771, 0.0028478113009107013), (3772, 0.002992083649438971), (3773, 0.0), (3774, 0.03278940145024807), (3775, 0.0), (3776, 0.0), (3777, 0.02251646195309372), (3778, 0.018142642990609407), (3779, 0.003174912746805082), (3780, 0.025778522663251723), (3781, 0.0028171258131986132), (3782, 0.0), (3783, 0.013002765654214038), (3784, 0.002502612556714169), (3785, 0.049078486000899965), (3786, 0.0), (3787, 0.0), (3788, 0.0), (3789, 0.016281448299335515), (3790, 0.12156886021789484), (3791, 0.0), (3792, 0.030915374815781056), (3793, 0.0), (3794, 0.035389062113717076), (3795, 0.007948657826788105), (3796, 0.07946774580967321), (3797, 0.023775612497642287), (3798, 0.0064898118636992925), (3799, 0.0024923237131831), (3800, 0.008254497920094112), (3801, 0.0023556294914980273), (3802, 0.0206470902122561), (3803, 0.018823361719962173), (3804, 0.032217865459710796), (3805, 0.0), (3806, 0.015907482136536116), (3807, 0.021372724338981665), (3808, 0.006946695024505036), (3809, 0.009104187307200116), (3810, 0.0), (3811, 0.022760349149994828), (3812, 0.0), (3813, 0.0028687880102836053), (3814, 0.018546832885908835), (3815, 0.01904655124379636), (3816, 0.039177086597040216), (3817, 0.0), (3818, 0.013671850210083077), (3819, 0.002482511583447436), (3820, 0.0), (3821, 0.0022050111653324103), (3822, 0.0029521904030022006), (3823, 0.0), (3824, 0.0), (3825, 0.0), (3826, 0.008542649701122867), (3827, 0.0025779227682508105), (3828, 0.003325213624034856), (3829, 0.008259943622416945), (3830, 0.016612476823501063), (3831, 0.012901159159262274), (3832, 0.003209769925197422), (3833, 0.03829837922937053), (3834, 0.006694346288380805), (3835, 0.0053517057336481795), (3836, 0.013445384702395828), (3837, 0.0), (3838, 0.0), (3839, 0.042819739557451546), (3840, 0.01915119142076747), (3841, 0.0023578736502615893), (3842, 0.029710527490349213), (3843, 0.0), (3844, 0.0), (3845, 0.045366098229935745), (3846, 0.0), (3847, 0.01952940569608432), (3848, 0.003335706757101004), (3849, 0.0), (3850, 0.0), (3851, 0.007163465490490209), (3852, 0.0), (3853, 0.03560903935723931), (3854, 0.0024313964783066184), (3855, 0.002230955374678938), (3856, 0.09145877880426913), (3857, 0.04775942764400736), (3858, 0.0134909648607794), (3859, 0.011835749531782515), (3860, 0.03772354255363516), (3861, 0.0), (3862, 0.0027459810349768463), (3863, 0.002362644216267611), (3864, 0.018657534769574862), (3865, 0.0), (3866, 0.023803811659723943), (3867, 0.026949393689544455), (3868, 0.02654437605206352), (3869, 0.01511269906081554), (3870, 0.0), (3871, 0.0), (3872, 0.038901791725413574), (3873, 0.002811415143115916), (3874, 0.0032151498148714187), (3875, 0.007222475301061384), (3876, 0.0024134834925204343), (3877, 0.0029273935607510137), (3878, 0.018918179622112983), (3879, 0.02523356569209849), (3880, 0.0022938718195892856), (3881, 0.030962709944828436), (3882, 0.009352007111789781), (3883, 0.002997045221946777), (3884, 0.0030590902207228883), (3885, 0.0), (3886, 0.03986495403592057), (3887, 0.0), (3888, 0.002601511706818646), (3889, 0.030086627193981322), (3890, 0.008596717407215189), (3891, 0.0), (3892, 0.003417938859520856), (3893, 0.009599396933699968), (3894, 0.002305913147728422), (3895, 0.02076691328068614), (3896, 0.0), (3897, 0.0), (3898, 0.008432371583640465), (3899, 0.017489749178693434), (3900, 0.0025282697529491363), (3901, 0.003170882142598552), (3902, 0.033610908775354525), (3903, 0.0030115940109498324), (3904, 0.04124404093331577), (3905, 0.0), (3906, 0.066088773822784), (3907, 0.0), (3908, 0.0), (3909, 0.018446002386624208), (3910, 0.018862785886507277), (3911, 0.01719964529524759), (3912, 0.03399930090077088), (3913, 0.008203424664606732), (3914, 0.0), (3915, 0.06715631805824458), (3916, 0.011747333539656655), (3917, 0.0025292108626214596), (3918, 0.0), (3919, 0.049668030973504376), (3920, 0.01809169910953596), (3921, 0.0), (3922, 0.0032457459525589848), (3923, 0.0), (3924, 0.002890233067066482), (3925, 0.01322637792644537), (3926, 0.0), (3927, 0.00218845680942723), (3928, 0.0021962509091351203), (3929, 0.0), (3930, 0.0), (3931, 0.0), (3932, 0.010620757438604203), (3933, 0.00557694417052829), (3934, 0.0), (3935, 0.0030981826066607807), (3936, 0.025355318256126066), (3937, 0.039670451697924894), (3938, 0.05871944813511815), (3939, 0.0035018655680270627), (3940, 0.03260088468676223), (3941, 0.02262492492394326), (3942, 0.0), (3943, 0.0), (3944, 0.0), (3945, 0.007656120466999647), (3946, 0.0), (3947, 0.0), (3948, 0.013118325223100375), (3949, 0.0), (3950, 0.006954936086555914), (3951, 0.003067886304205704), (3952, 0.010190173511497053), (3953, 0.0023922508785083753), (3954, 0.008386300465300912), (3955, 0.0), (3956, 0.07304016215964593), (3957, 0.002167160068157907), (3958, 0.016170210821233832), (3959, 0.002723214148577614), (3960, 0.0029807577164959027), (3961, 0.0029020520249854547), (3962, 0.002952921964508741), (3963, 0.0), (3964, 0.006987589235139122), (3965, 0.031174930555628363), (3966, 0.0), (3967, 0.002906533334625021), (3968, 0.012354508079813082), (3969, 0.0), (3970, 0.0), (3971, 0.0), (3972, 0.013475005108524436), (3973, 0.0027993530262007777), (3974, 0.0023664834283370446), (3975, 0.01533465180826856), (3976, 0.03653622473916387), (3977, 0.032011450164073495), (3978, 0.0025078376698581856), (3979, 0.0), (3980, 0.01445724299502869), (3981, 0.0), (3982, 0.0), (3983, 0.017065491370319295), (3984, 0.04503807431954973), (3985, 0.03588469964417497), (3986, 0.0023656932528592404), (3987, 0.00280034153102981), (3988, 0.0), (3989, 0.0), (3990, 0.031229160107100203), (3991, 0.0), (3992, 0.002972049178907631), (3993, 0.010869808456308317), (3994, 0.0), (3995, 0.0), (3996, 0.023841423491970274), (3997, 0.0), (3998, 0.0), (3999, 0.010941308344090163), (4000, 0.0026079443542180885), (4001, 0.0), (4002, 0.02028433162681087), (4003, 0.06780016397227759), (4004, 0.002666425606207255), (4005, 0.002809438348140872), (4006, 0.0326232241664183), (4007, 0.028432511231931697), (4008, 0.08641569465714348), (4009, 0.012738356247270143), (4010, 0.0159074899811304), (4011, 0.021292629053713267), (4012, 0.0059049111303325725), (4013, 0.04662512020086374), (4014, 0.002660278732453609), (4015, 0.0021688824557615114), (4016, 0.002622015825021023), (4017, 0.00356793157671714), (4018, 0.049768667360062184), (4019, 0.003408367720975072), (4020, 0.021078130958381704), (4021, 0.0), (4022, 0.08246148207158857), (4023, 0.0031050085797141433), (4024, 0.002839327531876609), (4025, 0.009218600343356755), (4026, 0.032694065214691946), (4027, 0.06923836509782921), (4028, 0.022918390138085536), (4029, 0.018478866431971643), (4030, 0.0030774488456656365), (4031, 0.0), (4032, 0.0030679695094602976), (4033, 0.0027737855762728666), (4034, 0.0), (4035, 0.0), (4036, 0.02188685829571856), (4037, 0.0), (4038, 0.04055012946050398), (4039, 0.013439057812617382), (4040, 0.03278017906166263), (4041, 0.0), (4042, 0.015897940460155358), (4043, 0.0), (4044, 0.0), (4045, 0.019920756729743843), (4046, 0.002882373899603229), (4047, 0.0), (4048, 0.0028783461206697645), (4049, 0.00266840932609944), (4050, 0.027741042450339898), (4051, 0.03825466012264696), (4052, 0.023674161924462013), (4053, 0.0023857662345346978), (4054, 0.00278793081449911), (4055, 0.0), (4056, 0.039293273276442), (4057, 0.0), (4058, 0.0), (4059, 0.04646032727989518), (4060, 0.03684144336120086), (4061, 0.028843870704747827), (4062, 0.0031845704992429554), (4063, 0.01740173389212278), (4064, 0.0069407038267416754), (4065, 0.0), (4066, 0.0023089882610878494), (4067, 0.027692256739665945), (4068, 0.02314211989123329), (4069, 0.002539578268930375), (4070, 0.0), (4071, 0.0), (4072, 0.0), (4073, 0.02573791083377799), (4074, 0.06791555412938136), (4075, 0.003067912154046754), (4076, 0.0), (4077, 0.015190616957789699), (4078, 0.0), (4079, 0.009211481471341786), (4080, 0.007967316834620623), (4081, 0.0026438070125526306), (4082, 0.03894403817545249), (4083, 0.0027449723492332296), (4084, 0.023172972833859266), (4085, 0.002502457559184007), (4086, 0.0), (4087, 0.002858192400982245), (4088, 0.0), (4089, 0.043191184808594754), (4090, 0.0), (4091, 0.0), (4092, 0.002975426366407134), (4093, 0.0), (4094, 0.0), (4095, 0.0265458765506004), (4096, 0.0), (4097, 0.05834142668682982), (4098, 0.0026951026343187247), (4099, 0.027565375274078933), (4100, 0.0), (4101, 0.030088590397491136), (4102, 0.0033383511202870583), (4103, 0.0), (4104, 0.00787633401620165), (4105, 0.047124189083957414), (4106, 0.0), (4107, 0.0032465743221746163), (4108, 0.0), (4109, 0.012474246056347137), (4110, 0.0), (4111, 0.0028146678265817847), (4112, 0.024796001846532863), (4113, 0.0645968650968128), (4114, 0.0), (4115, 0.06994309344551693), (4116, 0.002866484795706627), (4117, 0.010143410310555809), (4118, 0.0), (4119, 0.03184359606827137), (4120, 0.0), (4121, 0.0), (4122, 0.02483340733869737), (4123, 0.0027761540591247596), (4124, 0.002487859895053023), (4125, 0.06279792599233422), (4126, 0.0030595088230441336), (4127, 0.0), (4128, 0.0), (4129, 0.002544934140032978), (4130, 0.002873758679335303), (4131, 0.0), (4132, 0.0028300981434433727), (4133, 0.002866909725454779), (4134, 0.0), (4135, 0.0026665478600800675), (4136, 0.009256708979422885), (4137, 0.024365066243558185), (4138, 0.00984934958876259), (4139, 0.008580691926253112), (4140, 0.0028727676358355106), (4141, 0.007922699948690711), (4142, 0.046941245579440204), (4143, 0.021702379959880277), (4144, 0.00526067043411243), (4145, 0.010438004991965625), (4146, 0.0), (4147, 0.00320145826381443), (4148, 0.05979908782181465), (4149, 0.01888718357056259), (4150, 0.02140440458316845), (4151, 0.07345837144153664), (4152, 0.023034812715717334), (4153, 0.034366450207948644), (4154, 0.014833332371075482), (4155, 0.020525901436644307), (4156, 0.02545225759907927), (4157, 0.013509890597882804), (4158, 0.0), (4159, 0.05550670210244875), (4160, 0.0029478908460873546), (4161, 0.0028285580487917676), (4162, 0.029238913686100834), (4163, 0.0030483133306835825), (4164, 0.0196478066269409), (4165, 0.0), (4166, 0.008077365496683277), (4167, 0.0), (4168, 0.056791547308793766), (4169, 0.05833571926806863), (4170, 0.018777487554837557), (4171, 0.02680648698088719), (4172, 0.00347591698816796), (4173, 0.06566906261626895), (4174, 0.04071552513767327), (4175, 0.009461802206416611), (4176, 0.019756093590357834), (4177, 0.017331359645582974), (4178, 0.022560067927105777), (4179, 0.015868229200721826), (4180, 0.0), (4181, 0.0), (4182, 0.001994771582642457), (4183, 0.008618431281166662), (4184, 0.0), (4185, 0.0), (4186, 0.0), (4187, 0.0029833166068544263), (4188, 0.0), (4189, 0.02291273960580966), (4190, 0.0), (4191, 0.0), (4192, 0.008604701601946551), (4193, 0.02968558098254441), (4194, 0.026350866138831655), (4195, 0.0), (4196, 0.0), (4197, 0.00905865259956278), (4198, 0.027852688560360394), (4199, 0.04980369668632943), (4200, 0.002173838582511069), (4201, 0.0), (4202, 0.003676448784199035), (4203, 0.0030476906865678326), (4204, 0.023531572235930897), (4205, 0.015600939100529999), (4206, 0.002497488172308619), (4207, 0.0), (4208, 0.0317865782790577), (4209, 0.0032218383142270197), (4210, 0.04226027302528039), (4211, 0.0), (4212, 0.0), (4213, 0.002500135878447085), (4214, 0.0), (4215, 0.0), (4216, 0.01822259984188175), (4217, 0.0), (4218, 0.0), (4219, 0.0), (4220, 0.027193261450327983), (4221, 0.0035153113418946364), (4222, 0.011917223371524864), (4223, 0.0398950231019737), (4224, 0.0), (4225, 0.015109816788226338), (4226, 0.044134423357973115), (4227, 0.0), (4228, 0.0025975623979104787), (4229, 0.006048396586443174), (4230, 0.0033688810633554036), (4231, 0.05810063889998005), (4232, 0.002285769737397485), (4233, 0.06385483108571344), (4234, 0.0), (4235, 0.0), (4236, 0.0), (4237, 0.08046351711905458), (4238, 0.0), (4239, 0.0), (4240, 0.0), (4241, 0.0), (4242, 0.0032663933331040307), (4243, 0.010115864811688507), (4244, 0.0030121259290808544), (4245, 0.0028249006843880926), (4246, 0.0024894579816310066), (4247, 0.02122025405901703), (4248, 0.0), (4249, 0.002712842272764999), (4250, 0.0), (4251, 0.0), (4252, 0.0060196905215486075), (4253, 0.014193281946153363), (4254, 0.0024687473653265957), (4255, 0.0026653334690517993), (4256, 0.0), (4257, 0.002476833094741446), (4258, 0.0), (4259, 0.04213124168169985), (4260, 0.0), (4261, 0.0), (4262, 0.04306555362737965), (4263, 0.11449866666957959), (4264, 0.0), (4265, 0.0), (4266, 0.0026530998560819435), (4267, 0.0030190953712127782), (4268, 0.002618635782902957), (4269, 0.00282022831066008), (4270, 0.0), (4271, 0.0), (4272, 0.0), (4273, 0.0026905540013516917), (4274, 0.01729003046447029), (4275, 0.01955089607531793), (4276, 0.0), (4277, 0.0024082796072231365), (4278, 0.0), (4279, 0.0), (4280, 0.031001704905710782), (4281, 0.02179331442176009), (4282, 0.002420249201533843), (4283, 0.0026801151140485044), (4284, 0.002579788155746573), (4285, 0.0), (4286, 0.0782747593544861), (4287, 0.0245087743826912), (4288, 0.043718248131102984), (4289, 0.0), (4290, 0.0), (4291, 0.0), (4292, 0.01776585063864444), (4293, 0.01831778893958169), (4294, 0.0), (4295, 0.017288705276518594), (4296, 0.01951139046164631), (4297, 0.027160677178089187), (4298, 0.021427964125468497), (4299, 0.06038422963195204), (4300, 0.0), (4301, 0.001950701133170684), (4302, 0.0), (4303, 0.0192013285505591), (4304, 0.05662556190139244), (4305, 0.0), (4306, 0.010985790886403347), (4307, 0.0), (4308, 0.0028833501847789753), (4309, 0.027077005553590466), (4310, 0.0), (4311, 0.007219288176609953), (4312, 0.0), (4313, 0.020448790097938017), (4314, 0.0), (4315, 0.0066628218503720655), (4316, 0.0), (4317, 0.022674445161045945), (4318, 0.023907681829478007), (4319, 0.07277006196729185), (4320, 0.008863301721915995), (4321, 0.04436344870440866), (4322, 0.005728608524240703), (4323, 0.0), (4324, 0.037351699072134224), (4325, 0.010912212304772831), (4326, 0.002410556265859695), (4327, 0.02447382076702887), (4328, 0.0), (4329, 0.019361241616286943), (4330, 0.002630720845935544), (4331, 0.0), (4332, 0.0), (4333, 0.030277349982955292), (4334, 0.0027174731249052357), (4335, 0.0), (4336, 0.0025396337871701003), (4337, 0.06713462363616593), (4338, 0.0), (4339, 0.0), (4340, 0.0027193199310836373), (4341, 0.016353556783634222), (4342, 0.03296585093926058), (4343, 0.0023256189332929353), (4344, 0.0022475262534879244), (4345, 0.02146091758028625), (4346, 0.0), (4347, 0.0), (4348, 0.0024179223738519705), (4349, 0.022399159673665545), (4350, 0.008009217812168078), (4351, 0.006709572644515737), (4352, 0.02181127203499219), (4353, 0.0), (4354, 0.002750480722753663), (4355, 0.00280104195598242), (4356, 0.022453627409227885), (4357, 0.03326607869262627), (4358, 0.017443387599878544), (4359, 0.05388642438759321), (4360, 0.03548885353329061), (4361, 0.0027354666046155215), (4362, 0.0025744451786530436), (4363, 0.023696502571990376), (4364, 0.013799422534570326), (4365, 0.0), (4366, 0.04992876285745833), (4367, 0.0), (4368, 0.01965749099211702), (4369, 0.061142546703760986), (4370, 0.0), (4371, 0.02402076003361414), (4372, 0.0), (4373, 0.0), (4374, 0.020394748675499143), (4375, 0.0), (4376, 0.0), (4377, 0.0), (4378, 0.022602933822632277), (4379, 0.0027241578823014897), (4380, 0.0), (4381, 0.00861450177202135), (4382, 0.002542396458314451), (4383, 0.01180585208644878), (4384, 0.0), (4385, 0.018725486576929903), (4386, 0.00226761859444036), (4387, 0.024329085602273287), (4388, 0.020331516825183533), (4389, 0.015620134292451099), (4390, 0.029772379060926033), (4391, 0.002657119077471305), (4392, 0.0), (4393, 0.0), (4394, 0.017332079149136603), (4395, 0.0025578558391195195), (4396, 0.002941630734971396), (4397, 0.0029261680378595565), (4398, 0.003038164012538727), (4399, 0.03432735293388773), (4400, 0.0033517085273165295), (4401, 0.045899355501889165), (4402, 0.002431189821487864), (4403, 0.04237984670941503), (4404, 0.019264601860838303), (4405, 0.0), (4406, 0.014582370122458882), (4407, 0.0034391324721525602), (4408, 0.0075118185087903805), (4409, 0.002613700777212821), (4410, 0.0), (4411, 0.007612537669783231), (4412, 0.05626126752249925), (4413, 0.0), (4414, 0.0), (4415, 0.0), (4416, 0.0030948899732238626), (4417, 0.0), (4418, 0.019887491141499035), (4419, 0.0027410010259416736), (4420, 0.02361976418327418), (4421, 0.033154344954256634), (4422, 0.009182634003882039), (4423, 0.003409419857838731), (4424, 0.0), (4425, 0.0), (4426, 0.0), (4427, 0.021461263426331145), (4428, 0.0024966131567091547), (4429, 0.0022828743017805344), (4430, 0.0027528086615737288), (4431, 0.0028118287938284224), (4432, 0.0023013163553569564), (4433, 0.07436799189317306), (4434, 0.0), (4435, 0.014462685393890241), (4436, 0.0), (4437, 0.005627908373968082), (4438, 0.005998342789325052), (4439, 0.0), (4440, 0.0), (4441, 0.0), (4442, 0.03340243535081453), (4443, 0.003220894920411215), (4444, 0.0034441788082416065), (4445, 0.001973806627167714), (4446, 0.04126459009847316), (4447, 0.0), (4448, 0.0027458238043097955), (4449, 0.0), (4450, 0.0), (4451, 0.01626596108052972), (4452, 0.013306863508740411), (4453, 0.022074882596405433), (4454, 0.0), (4455, 0.0), (4456, 0.0), (4457, 0.0), (4458, 0.010597777436570083), (4459, 0.019385123760019343), (4460, 0.007092053263294638), (4461, 0.002531152534611569), (4462, 0.024312647491571002), (4463, 0.030825395229385624), (4464, 0.014958872765243962), (4465, 0.0030133225241116813), (4466, 0.03188523379997542), (4467, 0.012152421921825387), (4468, 0.010272027457482048), (4469, 0.003285084839133277), (4470, 0.0027107340397346624), (4471, 0.002788149535180612), (4472, 0.015868161933162518), (4473, 0.03243111211964608), (4474, 0.0027683933792763747), (4475, 0.0023643532664967756), (4476, 0.01949229941355904), (4477, 0.0030717212648798888), (4478, 0.0), (4479, 0.008184001629772421), (4480, 0.0302921637222939), (4481, 0.0), (4482, 0.018701892487487097), (4483, 0.03312788352857807), (4484, 0.0035055407030887206), (4485, 0.015018664018784414), (4486, 0.0), (4487, 0.017208044542029434), (4488, 0.0661556769805043), (4489, 0.0027885700600655586), (4490, 0.003118095459645514), (4491, 0.0), (4492, 0.014809699910708856), (4493, 0.012741104029226912), (4494, 0.024075161146962783), (4495, 0.025860343070896803), (4496, 0.0), (4497, 0.002752704448016631), (4498, 0.0514865837465312), (4499, 0.0), (4500, 0.0), (4501, 0.0026563644571076586), (4502, 0.002401371947527303), (4503, 0.022818074174493858), (4504, 0.002537625655242661), (4505, 0.06156032434440543), (4506, 0.016459610220463262), (4507, 0.016533142357429396), (4508, 0.013717797155119338), (4509, 0.0), (4510, 0.0), (4511, 0.10784161606045578), (4512, 0.0), (4513, 0.0), (4514, 0.0075678130439979716), (4515, 0.015340971169263152), (4516, 0.025944209892535784), (4517, 0.02161533908997462), (4518, 0.09352592070969787), (4519, 0.0), (4520, 0.002602792953888328), (4521, 0.0032817976331263113), (4522, 0.002865295629406186), (4523, 0.03497896936309356), (4524, 0.0), (4525, 0.03121408740805249), (4526, 0.0), (4527, 0.0), (4528, 0.0028553724472376173), (4529, 0.0035252933505029297), (4530, 0.002571392724755776), (4531, 0.002913835421887062), (4532, 0.012987758841765371), (4533, 0.014731487112174983), (4534, 0.029781633544877666), (4535, 0.0029428451654596247), (4536, 0.008489495816108146), (4537, 0.0), (4538, 0.0), (4539, 0.028222523491844138), (4540, 0.0028251328143403883), (4541, 0.0), (4542, 0.03818958497169131), (4543, 0.0), (4544, 0.0032799511409090576), (4545, 0.0028452642538019583), (4546, 0.021218850132044397), (4547, 0.0), (4548, 0.0), (4549, 0.0), (4550, 0.002548903813566562), (4551, 0.0029097780612562726), (4552, 0.020493002293615552), (4553, 0.0), (4554, 0.00312539192108808), (4555, 0.013392291993467987), (4556, 0.041243468932853335), (4557, 0.0940123923236161), (4558, 0.010308182125394609), (4559, 0.0), (4560, 0.0), (4561, 0.0), (4562, 0.03155828498804484), (4563, 0.0026961099270206125), (4564, 0.0), (4565, 0.0), (4566, 0.009367174856755988), (4567, 0.0025128847707119317), (4568, 0.0), (4569, 0.0), (4570, 0.0), (4571, 0.0041779455746671895), (4572, 0.0032268658276470973), (4573, 0.0025488414995476004), (4574, 0.0028151990967552583), (4575, 0.009401864876506528), (4576, 0.002553744653038031), (4577, 0.0), (4578, 0.0), (4579, 0.002834008144306242), (4580, 0.02353842658025021), (4581, 0.013914739501379345), (4582, 0.030053948233447883), (4583, 0.03941032112123116), (4584, 0.029333542401651917), (4585, 0.0), (4586, 0.0), (4587, 0.017971334432644655), (4588, 0.0), (4589, 0.0030774335073354433), (4590, 0.0023543457345530138), (4591, 0.023205792774110678), (4592, 0.0), (4593, 0.002923648605022127), (4594, 0.027942499679128104), (4595, 0.0), (4596, 0.026123254111649254), (4597, 0.0), (4598, 0.14054161691373124), (4599, 0.007176781665782455), (4600, 0.0), (4601, 0.02332579576243507), (4602, 0.0028847222649454143), (4603, 0.030132624689278097), (4604, 0.0026434565044192305), (4605, 0.009870265745643949), (4606, 0.003328629629001176), (4607, 0.003817972672999248), (4608, 0.002333211770960876), (4609, 0.01388109844315944), (4610, 0.0841499273888907), (4611, 0.030157339823032425), (4612, 0.0032731736229436106), (4613, 0.0), (4614, 0.002511405502313051), (4615, 0.01146033870543731), (4616, 0.002428785956129779), (4617, 0.003595993528406908), (4618, 0.016435174656471107), (4619, 0.018111880959985397), (4620, 0.03508884614335357), (4621, 0.020895033584169918), (4622, 0.0), (4623, 0.014783515056299528), (4624, 0.002757076800072778), (4625, 0.009226314110682206), (4626, 0.0021257307342191552), (4627, 0.002256071961238487), (4628, 0.06758865869482422), (4629, 0.002742813835964375), (4630, 0.0), (4631, 0.0), (4632, 0.010475939324401377), (4633, 0.05999574795355048), (4634, 0.020901713389477165), (4635, 0.0), (4636, 0.03238575967090623), (4637, 0.003119874414020938), (4638, 0.002398410060999856), (4639, 0.0), (4640, 0.0026341171126088025), (4641, 0.016036051931797045), (4642, 0.0), (4643, 0.03106664397481334), (4644, 0.0), (4645, 0.0), (4646, 0.0), (4647, 0.0), (4648, 0.0), (4649, 0.002414603307912714), (4650, 0.02782384244516116), (4651, 0.011426801302811864), (4652, 0.006791939524670046), (4653, 0.02305412314847483), (4654, 0.0), (4655, 0.0), (4656, 0.0), (4657, 0.009556773714636164), (4658, 0.002527719221025273), (4659, 0.0), (4660, 0.003242191336078694), (4661, 0.0023306103995368566), (4662, 0.0), (4663, 0.019294671541387563), (4664, 0.01724277149259304), (4665, 0.0), (4666, 0.0), (4667, 0.012892520547709426), (4668, 0.0025906986234543725), (4669, 0.002863610304552894), (4670, 0.0025185702570278286), (4671, 0.045583708417728255), (4672, 0.0), (4673, 0.0025465559123599053), (4674, 0.0021117354791233426), (4675, 0.0), (4676, 0.0), (4677, 0.0026574683369814584), (4678, 0.01202433106853482), (4679, 0.002311531496514028), (4680, 0.0028111846499505187), (4681, 0.0), (4682, 0.0), (4683, 0.018919625694711204), (4684, 0.0312482034997742), (4685, 0.002581340415670076), (4686, 0.0026452840801921744), (4687, 0.0025708773547767324), (4688, 0.02606701454778912), (4689, 0.0), (4690, 0.0), (4691, 0.0), (4692, 0.0032820253631776295), (4693, 0.0025539830921191132), (4694, 0.003089298099594198), (4695, 0.0), (4696, 0.0034445394236351664), (4697, 0.0), (4698, 0.0), (4699, 0.04680252345739821), (4700, 0.02677003648724556), (4701, 0.0031336389741033555), (4702, 0.0063532634107994), (4703, 0.0), (4704, 0.030908667379448064), (4705, 0.0037591524484828567), (4706, 0.002921074462747753), (4707, 0.0), (4708, 0.0), (4709, 0.0), (4710, 0.003323439136287279), (4711, 0.0), (4712, 0.05169130230895), (4713, 0.010286411187213662), (4714, 0.0), (4715, 0.025015378994397944), (4716, 0.0), (4717, 0.03451560324761479), (4718, 0.00996578649520264), (4719, 0.017209954991108715), (4720, 0.06973838852988602), (4721, 0.02346821597470318), (4722, 0.028358884037621896), (4723, 0.003214703856737855), (4724, 0.0032410982853255037), (4725, 0.024597841551055686), (4726, 0.015378843189159058), (4727, 0.0), (4728, 0.0), (4729, 0.002525538065375029), (4730, 0.0), (4731, 0.00297687027674624), (4732, 0.0028677458052563036), (4733, 0.0021938168506982847), (4734, 0.002841413264625043), (4735, 0.0031112804255144), (4736, 0.022308151912406097), (4737, 0.022672428708353835), (4738, 0.0062537741175124955), (4739, 0.005361600247180732), (4740, 0.0), (4741, 0.031645585551598666), (4742, 0.0), (4743, 0.0025654166059521375), (4744, 0.0021314163498339844), (4745, 0.0), (4746, 0.0), (4747, 0.0), (4748, 0.002277111245893517), (4749, 0.003528553335700817), (4750, 0.0), (4751, 0.0), (4752, 0.0018833527055443192), (4753, 0.0029980781294098573), (4754, 0.0), (4755, 0.05586586265596345), (4756, 0.025060001913688144), (4757, 0.025354157960725283), (4758, 0.0), (4759, 0.0183623531284149)]\n"
          ]
        }
      ]
    },
    {
      "cell_type": "code",
      "source": [
        "len(Recommendation_Score)"
      ],
      "metadata": {
        "colab": {
          "base_uri": "https://localhost:8080/"
        },
        "id": "ETmxvuYxSEQq",
        "outputId": "d7687b1d-1f9a-4b55-c006-ca951ff42f9f"
      },
      "execution_count": null,
      "outputs": [
        {
          "output_type": "execute_result",
          "data": {
            "text/plain": [
              "4760"
            ]
          },
          "metadata": {},
          "execution_count": 25
        }
      ]
    },
    {
      "cell_type": "markdown",
      "source": [
        "# Get All Movies Sort Based on Recommendation Score wrt Favourite Movie"
      ],
      "metadata": {
        "id": "84b193TGS1yt"
      }
    },
    {
      "cell_type": "code",
      "source": [
        "Sorted_similar_movies = sorted(Recommendation_Score,key = lambda x:x[1],reverse = True)\n",
        "print(Sorted_similar_movies)"
      ],
      "metadata": {
        "colab": {
          "base_uri": "https://localhost:8080/"
        },
        "id": "1s2jFottTGgn",
        "outputId": "c8f5de3d-0ea7-49ad-ef3d-3d4459fbb67e"
      },
      "execution_count": null,
      "outputs": [
        {
          "output_type": "stream",
          "name": "stdout",
          "text": [
            "[(1080, 1.0000000000000004), (704, 0.20252050086743661), (901, 0.18733939480251688), (285, 0.18167899812668895), (3273, 0.17818249549034743), (2323, 0.17354188034898682), (198, 0.16623224777434709), (256, 0.16294958089491907), (20, 0.15735015719747253), (1454, 0.15055359465115842), (1974, 0.1486136906747514), (709, 0.14104666280235106), (4598, 0.14054161691373124), (1226, 0.13820159238849042), (1295, 0.1319943966732442), (3283, 0.12837940927859734), (2750, 0.12480691987158404), (395, 0.1246750875485416), (2934, 0.1231300244972011), (3380, 0.12292689073056241), (3790, 0.12156886021789484), (3559, 0.1191852883278346), (1691, 0.11604191933829403), (4263, 0.11449866666957959), (2754, 0.1109171727362102), (2104, 0.11049449468763065), (3175, 0.10848049601654469), (500, 0.10841402847382256), (4511, 0.10784161606045578), (3415, 0.10663993514142268), (3328, 0.105769265360701), (1339, 0.1047278425072356), (2929, 0.10248965348370037), (377, 0.10235017147631884), (616, 0.10140881156171401), (2637, 0.1009797289852856), (2180, 0.10078834774375714), (3352, 0.10076736130696716), (3297, 0.09957672855371041), (1068, 0.09897904029856283), (3533, 0.0982872971778619), (1544, 0.09781337214433998), (46, 0.09726561535860295), (2747, 0.09599052146961123), (1944, 0.0955906835419071), (1647, 0.09531542063069304), (2280, 0.09499788920381275), (1541, 0.09486002667737653), (73, 0.09428084580108914), (4557, 0.0940123923236161), (3611, 0.0939237979917196), (1480, 0.09372227637330341), (4518, 0.09352592070969787), (2250, 0.09351058218524202), (2835, 0.09311711261477226), (2340, 0.0929845206788515), (134, 0.09291896118593325), (972, 0.0924010964767486), (1964, 0.09194950580275418), (2297, 0.09188485461780084), (3856, 0.09145877880426913), (562, 0.0914096238657792), (189, 0.09130515039206348), (703, 0.0911616625880753), (566, 0.09094288798024731), (1130, 0.09091795223634684), (2218, 0.0908867178325884), (2965, 0.09064607065953875), (1442, 0.09059954283546894), (1468, 0.0903184211355563), (694, 0.09015392791415341), (697, 0.08982603856404224), (773, 0.08935000828985824), (1154, 0.08924897795312686), (217, 0.08911630324402398), (2578, 0.08822301175823558), (237, 0.08766637284740028), (1422, 0.08754985251595267), (993, 0.08670605803366842), (4008, 0.08641569465714348), (887, 0.0862623831554904), (3744, 0.0849131213829932), (2441, 0.08485242978976074), (1562, 0.08436653571012809), (4610, 0.0841499273888907), (3589, 0.08381685354835453), (3377, 0.08307188956866676), (4022, 0.08246148207158857), (1516, 0.0822211943199888), (2430, 0.08112980819653666), (3336, 0.08112487869938322), (2322, 0.08105805548362649), (705, 0.08077626875019313), (4237, 0.08046351711905458), (2227, 0.08044746634670365), (3510, 0.08019166689072596), (1505, 0.07954845062989926), (349, 0.07953831035997425), (3796, 0.07946774580967321), (1455, 0.07907211811147807), (2118, 0.078629303806378), (3344, 0.07838912398344722), (4286, 0.0782747593544861), (2160, 0.07751769054811908), (3303, 0.07689236382557411), (810, 0.07659023091599354), (3614, 0.07631258719238285), (3650, 0.07629841044825464), (805, 0.07561825898120435), (541, 0.07549763807377312), (282, 0.0749744773059871), (192, 0.07454161791621014), (910, 0.07447607281106759), (584, 0.0744426227300786), (1645, 0.07440043799183885), (4433, 0.07436799189317306), (1781, 0.07412168546295053), (1353, 0.07375061275744478), (3200, 0.07374612949466812), (3368, 0.07370859084778317), (2228, 0.07357425169865214), (4151, 0.07345837144153664), (2562, 0.07317939963954097), (3956, 0.07304016215964593), (2300, 0.07300524272120408), (2039, 0.07289645152204023), (4319, 0.07277006196729185), (2385, 0.07275609984256934), (3018, 0.07271673633338169), (2762, 0.07196946688827677), (791, 0.07185219215680035), (3066, 0.07178624251347096), (1340, 0.07170885560271167), (3331, 0.07155748203614112), (567, 0.0715447971190411), (668, 0.0711303057975613), (2210, 0.07109272579873648), (2746, 0.07051141162237466), (3394, 0.07041387442668093), (2585, 0.07023503823285454), (1255, 0.06995069488124911), (4115, 0.06994309344551693), (4720, 0.06973838852988602), (3101, 0.06970407698249385), (1821, 0.06944130987440505), (1202, 0.06936229213491175), (4027, 0.06923836509782921), (2480, 0.06887575111240114), (2353, 0.06869317091955932), (71, 0.06862082874931622), (2845, 0.06814241363490288), (96, 0.06813755707944079), (2821, 0.06804193036387873), (1210, 0.06803858001081453), (4074, 0.06791555412938136), (23, 0.06790426090509091), (4003, 0.06780016397227759), (1579, 0.0676368912331678), (510, 0.06759598855416225), (4628, 0.06758865869482422), (106, 0.06748841334644934), (2852, 0.06732588365471798), (2711, 0.06717820055643742), (3915, 0.06715631805824458), (1475, 0.06715131373703018), (4337, 0.06713462363616593), (2681, 0.06660638979288755), (1322, 0.06658927938614027), (2356, 0.06648733516580531), (2264, 0.06634856224101313), (1358, 0.0663218283161862), (4488, 0.0661556769805043), (3906, 0.066088773822784), (1282, 0.06602276865196112), (270, 0.06598404417021908), (115, 0.06596673578200671), (412, 0.06593946283698002), (3659, 0.06589744030767823), (3, 0.06576371056610868), (4173, 0.06566906261626895), (1362, 0.06556446075083633), (1248, 0.0654414900194934), (3092, 0.06531918664198215), (4113, 0.0645968650968128), (1251, 0.06459321505469694), (3642, 0.06449495436371945), (619, 0.06424347154911461), (1049, 0.06410269578142039), (930, 0.06409278359376075), (4233, 0.06385483108571344), (506, 0.06350193340786656), (1062, 0.06335124626716422), (272, 0.06308431455007636), (302, 0.06296852037683598), (517, 0.06283312113911894), (4125, 0.06279792599233422), (1983, 0.06260591099724484), (430, 0.06259730314489742), (141, 0.062439403434421475), (997, 0.06233984101057807), (399, 0.062241760603513586), (310, 0.06201134946684734), (747, 0.06190925286801169), (481, 0.061755100154522395), (2774, 0.0615636959122213), (4505, 0.06156032434440543), (1613, 0.06142332980196216), (120, 0.0613390306339315), (4369, 0.061142546703760986), (2447, 0.060947139470738654), (3179, 0.06081573180432098), (2807, 0.06061388610390473), (1582, 0.06057093129511705), (886, 0.06048207298367005), (3085, 0.06043629386964882), (4299, 0.06038422963195204), (4633, 0.05999574795355048), (470, 0.05989119072201749), (4148, 0.05979908782181465), (1290, 0.059509585253263664), (3580, 0.05929436324048528), (1476, 0.059289690656513405), (1689, 0.05916482791574847), (443, 0.05913262294821412), (2197, 0.05903776005141817), (871, 0.058994050687114497), (2626, 0.05898757088828028), (142, 0.058941541282010734), (2759, 0.05891581076914788), (1175, 0.05889980410560403), (1919, 0.058834950594726536), (2824, 0.05873565515632037), (3938, 0.05871944813511815), (1156, 0.058617952800496004), (2598, 0.05852224589277774), (1193, 0.05851376797324702), (1367, 0.05846949045906654), (1528, 0.05843829236606827), (3083, 0.05840213314440764), (4097, 0.05834142668682982), (4169, 0.05833571926806863), (3308, 0.0583136332896847), (3433, 0.058242880387880384), (2100, 0.05813997915892222), (4231, 0.05810063889998005), (1824, 0.05805025295827192), (2276, 0.057925034183024394), (271, 0.05790736676258778), (1101, 0.057498182196958236), (2873, 0.05746640645878483), (856, 0.057012267449775014), (1272, 0.05685970232393135), (4168, 0.056791547308793766), (4304, 0.05662556190139244), (528, 0.05654087830379489), (4412, 0.05626126752249925), (1568, 0.05621587389564937), (197, 0.056177995277134726), (1518, 0.05591174188115301), (1052, 0.0559026054109672), (2548, 0.05586789058757762), (4755, 0.05586586265596345), (2187, 0.05583802177848718), (3142, 0.05581578135811066), (2117, 0.05578615243138806), (2360, 0.05578460377528063), (3004, 0.05571830965410495), (2822, 0.05570194773379067), (2771, 0.05564859301111408), (4159, 0.05550670210244875), (109, 0.05540352147139774), (1217, 0.05528376381764873), (958, 0.0552640361835317), (1747, 0.055075379917055675), (3285, 0.054867496677183096), (2092, 0.054782100209211926), (1857, 0.05466612098550252), (3595, 0.05438893101349622), (1534, 0.054305132835254136), (2269, 0.05408242981362939), (3042, 0.05392286175206468), (4359, 0.05388642438759321), (307, 0.053861933259830456), (1888, 0.05381889485102435), (2443, 0.05370435356401734), (2662, 0.0532881015968941), (2534, 0.053159552402491525), (1329, 0.05305442703216383), (2878, 0.0530490426205023), (1614, 0.05292957139408477), (2842, 0.052889974746764164), (3282, 0.05258203373605583), (44, 0.05251954474201275), (786, 0.052514889779006126), (1492, 0.05232386764996898), (1553, 0.0522454213128674), (1749, 0.05208141461719327), (354, 0.05199284822874584), (1768, 0.05197263617601807), (2673, 0.05185472778516745), (2720, 0.05184546297691681), (4712, 0.05169130230895), (1306, 0.05166440340458585), (1281, 0.0516313798716811), (1770, 0.05157703271574422), (4498, 0.0514865837465312), (982, 0.05129155870229199), (660, 0.0512698393743034), (2397, 0.05125420801262479), (2650, 0.05117583609301409), (1479, 0.05110822820296874), (3109, 0.05097529090362801), (456, 0.05093532616596184), (3279, 0.050750390105221366), (2135, 0.050638038837362793), (878, 0.050627415440988525), (2981, 0.05056929552962904), (1592, 0.050563287951078645), (2258, 0.05056059071180653), (2894, 0.05054667434633488), (1234, 0.05048245245960677), (924, 0.05001217447997084), (2070, 0.04995177548851549), (1559, 0.04994403672368609), (4366, 0.04992876285745833), (59, 0.049820700863132915), (4199, 0.04980369668632943), (4018, 0.049768667360062184), (3919, 0.049668030973504376), (3241, 0.049296554057170185), (3785, 0.049078486000899965), (684, 0.04898122427756804), (3362, 0.048980717482786804), (447, 0.0486878332817987), (1717, 0.04851365124306793), (893, 0.04812632320474404), (3546, 0.0480584134119315), (1959, 0.047913146613638706), (2584, 0.047910845948893714), (1865, 0.04789439235079478), (979, 0.04788848240619889), (2395, 0.04787171357371474), (969, 0.04785845421497451), (2978, 0.04780941343826673), (3857, 0.04775942764400736), (3149, 0.04772382966944318), (688, 0.047633653794922994), (946, 0.04762998284166645), (64, 0.04761127478618381), (521, 0.04760564514567307), (855, 0.047507143488888515), (1491, 0.04736147469973885), (1533, 0.04726830540598508), (2940, 0.04717786274181081), (4105, 0.047124189083957414), (2158, 0.04706988903817769), (4142, 0.046941245579440204), (2830, 0.04692688255652217), (1536, 0.046886442634349414), (402, 0.04681635580104319), (4699, 0.04680252345739821), (1437, 0.04678149860077763), (2710, 0.046781358022363606), (2468, 0.04672659131636562), (563, 0.04663350706866857), (4013, 0.04662512020086374), (3506, 0.046619820460744525), (74, 0.046590481385292516), (951, 0.04658110556997905), (388, 0.04649880343377977), (1858, 0.04646819902293436), (4059, 0.04646032727989518), (3030, 0.046451509929844266), (1762, 0.046312843385050186), (1314, 0.04628594920397743), (1075, 0.04613293832383745), (440, 0.0460546910658307), (737, 0.046018836066104955), (2131, 0.04600700943851017), (1261, 0.046001845432285624), (4401, 0.045899355501889165), (940, 0.04580858290936265), (1026, 0.04572553059129098), (1719, 0.04562122893581467), (4671, 0.045583708417728255), (1759, 0.04538009313423815), (3107, 0.04536864712521852), (3845, 0.045366098229935745), (959, 0.04526093247325623), (1157, 0.04522058598282872), (1010, 0.0451409971919593), (3730, 0.045130974850355346), (3229, 0.045099684232712475), (3984, 0.04503807431954973), (1243, 0.04499908661590068), (3145, 0.04496186946088024), (335, 0.04486543084910279), (877, 0.04481946693611587), (2756, 0.04474395095808007), (1390, 0.04465915638487418), (1561, 0.04462682551476416), (2813, 0.044571271543224086), (2627, 0.044554137827315606), (4321, 0.04436344870440866), (588, 0.044337510146633535), (522, 0.04431988877906826), (2213, 0.04430388893148188), (1324, 0.044298482810832845), (3716, 0.04429586611963781), (1569, 0.04425141898676562), (1948, 0.0442258134562366), (15, 0.0441740098822476), (2624, 0.04414231788204438), (4226, 0.044134423357973115), (3225, 0.0440637101887387), (1936, 0.043947415935151675), (2196, 0.04386625365092645), (1780, 0.04381868848924327), (3208, 0.04373724046383329), (312, 0.04372514648554754), (3160, 0.04372259979894109), (4288, 0.043718248131102984), (750, 0.043629221722648694), (2256, 0.04360462614744975), (899, 0.043576736795782424), (655, 0.04351463785063927), (576, 0.04346816642391569), (1204, 0.04345036047894504), (27, 0.04321986438970802), (4089, 0.043191184808594754), (3140, 0.043152797626397274), (4262, 0.04306555362737965), (2348, 0.043005780361307096), (2867, 0.04299933757522585), (638, 0.04294768676097017), (154, 0.042856982355200156), (389, 0.04283722449527014), (3839, 0.042819739557451546), (524, 0.04274793029118517), (2358, 0.04270940849714088), (1484, 0.042673222902682606), (2049, 0.042510339834128046), (1610, 0.04240257633108224), (4403, 0.04237984670941503), (246, 0.04232342356469649), (469, 0.042273970511094355), (4210, 0.04226027302528039), (740, 0.04220767000597784), (633, 0.04215334518816499), (1827, 0.04213782600034144), (4259, 0.04213124168169985), (2589, 0.04211822997948931), (669, 0.04201018523823897), (3318, 0.04199732482922126), (157, 0.041937018982259974), (265, 0.041704527315299514), (3289, 0.041343050272511325), (449, 0.041293303938207626), (1394, 0.04128492869712296), (3446, 0.04128090228223687), (4446, 0.04126459009847316), (3904, 0.04124404093331577), (4556, 0.041243468932853335), (923, 0.04124158633782097), (3747, 0.04108463614499458), (1463, 0.04105298376979673), (1361, 0.041007981115113896), (1692, 0.04096626054875122), (3304, 0.04096166771236813), (1278, 0.04084533893015133), (1292, 0.040819895098547554), (4174, 0.04071552513767327), (3492, 0.040643499035452675), (1103, 0.04063798520990509), (1933, 0.04055644138599824), (4038, 0.04055012946050398), (2064, 0.04053514702603805), (1177, 0.04050572810394007), (733, 0.040317952870535044), (808, 0.040250975711005804), (739, 0.0402482078659497), (2958, 0.04008631232079871), (659, 0.04005374624704898), (1316, 0.040052256887589455), (607, 0.04000327096605765), (2349, 0.039989322049452915), (2689, 0.039977046560720146), (4223, 0.0398950231019737), (418, 0.039890256140874235), (3886, 0.03986495403592057), (2129, 0.03984367785931192), (1517, 0.0398158788327119), (2111, 0.039814904495748114), (769, 0.03981338967988115), (1203, 0.039806167592532214), (3937, 0.039670451697924894), (1153, 0.039662296697325815), (2729, 0.03965311353654009), (927, 0.039599016978138404), (84, 0.039527434433981226), (43, 0.039509610214295596), (244, 0.03949301169465661), (3656, 0.039467504677775586), (1664, 0.03945993955372176), (4583, 0.03941032112123116), (2777, 0.0394082432847689), (1524, 0.039407736888273814), (1245, 0.03940007857135717), (2560, 0.039354211142487903), (4056, 0.039293273276442), (1247, 0.03925894663867425), (2982, 0.03920829470292324), (1376, 0.039202378121597985), (3816, 0.039177086597040216), (624, 0.03917105513958757), (2057, 0.0391507455237448), (2313, 0.03914890316675141), (2159, 0.03913224550223896), (1469, 0.03904131487995152), (1771, 0.039035289635739746), (152, 0.03903510952610162), (726, 0.03898734302710654), (4082, 0.03894403817545249), (2582, 0.0389416884327774), (1493, 0.03892064373434678), (708, 0.03890893515195576), (3872, 0.038901791725413574), (2838, 0.038850595507584545), (2311, 0.038836095600801465), (3539, 0.03872805154139973), (2739, 0.038707587624051715), (846, 0.03869752314768637), (3634, 0.038603311181459196), (3498, 0.03854463674390494), (3096, 0.03850302257089779), (2618, 0.038448596925687306), (1970, 0.0384237494245784), (741, 0.03830726493376238), (3833, 0.03829837922937053), (1478, 0.03829683585428388), (2445, 0.03829451502917678), (4051, 0.03825466012264696), (357, 0.03822253850572257), (1601, 0.03819322339476504), (4542, 0.03818958497169131), (1738, 0.0381590369733891), (3005, 0.038116500555593), (216, 0.03806457057493261), (126, 0.0380624826702527), (2357, 0.03805236440600168), (894, 0.03804287839859966), (531, 0.03801217263543029), (166, 0.037975297677496474), (466, 0.03796759630887238), (2899, 0.03792264125481824), (2319, 0.03787471140135769), (3243, 0.03778367963562362), (3047, 0.037782246249941136), (3860, 0.03772354255363516), (1143, 0.0376045864937143), (2877, 0.037535245258759786), (3534, 0.03753293537239781), (661, 0.03751582735659589), (1802, 0.03744973975627743), (1784, 0.03739144608215432), (376, 0.03737733521951138), (240, 0.03736685259820782), (4324, 0.037351699072134224), (1504, 0.03735105705458512), (2856, 0.037337397030515244), (1087, 0.03732716450343132), (2074, 0.03715989327986965), (3549, 0.037123518051651504), (2212, 0.037001439561221), (2766, 0.036974624441306635), (1915, 0.036948597697790624), (1694, 0.03694096215395192), (128, 0.03691868598019567), (2791, 0.036863857958233534), (4060, 0.03684144336120086), (291, 0.03679787598513774), (578, 0.03678964917359447), (679, 0.03678109667401135), (2611, 0.036740145528245984), (1120, 0.03668458229664123), (2563, 0.03658513212686459), (277, 0.03657294563458786), (3025, 0.03655085240254613), (3575, 0.03654611339771176), (373, 0.036544192632697085), (3976, 0.03653622473916387), (2690, 0.036514300955231005), (5, 0.03643054219250844), (2465, 0.036346406924300224), (1168, 0.036267333927721135), (1607, 0.03619549319761124), (2591, 0.03619252855959453), (2460, 0.036175459831586224), (3141, 0.03616513256630213), (889, 0.036076980332480406), (1108, 0.03601847953515523), (1981, 0.03593347580710241), (3985, 0.03588469964417497), (3577, 0.03588360201640292), (1532, 0.03579745879930807), (1110, 0.035790104922282885), (2, 0.03570041897363906), (1124, 0.03565360028245964), (2512, 0.035650552047055244), (422, 0.0356318954799903), (3853, 0.03560903935723931), (2098, 0.03558973965873656), (2617, 0.03556735652329586), (258, 0.03554139030316166), (4360, 0.03548885353329061), (2488, 0.03548509657609606), (3794, 0.035389062113717076), (127, 0.03536688756182131), (1628, 0.03528226054253948), (3564, 0.0352334596002094), (212, 0.035128371604495445), (4620, 0.03508884614335357), (2493, 0.0350528868561082), (2415, 0.03504594138516048), (2760, 0.035044078388559), (4523, 0.03497896936309356), (444, 0.034822291947140885), (304, 0.03476867354987407), (227, 0.03464280378955504), (2819, 0.03457948073917508), (2260, 0.03455637551132499), (1318, 0.034547537762666974), (3721, 0.0345275421968686), (4717, 0.03451560324761479), (397, 0.03448118588161105), (1754, 0.03445759735458556), (623, 0.034427716576552574), (2151, 0.03440435576418527), (2077, 0.03438666055942209), (3640, 0.03437725363490246), (4153, 0.034366450207948644), (2152, 0.03432981114784106), (4399, 0.03432735293388773), (2988, 0.03429371236574866), (1557, 0.03419613660762081), (1425, 0.034137351435534175), (1447, 0.03413521591975234), (1775, 0.03406078271381741), (2040, 0.034054594469226616), (3912, 0.03399930090077088), (939, 0.03386910596845552), (2240, 0.03383836859820748), (3094, 0.03379399131883004), (1991, 0.03375973738307164), (2204, 0.033710434581039055), (3463, 0.033672681813992286), (3902, 0.033610908775354525), (3161, 0.033568630775564906), (677, 0.03355802236897837), (551, 0.033548519346377155), (2014, 0.03351116840923199), (2968, 0.03342336421776009), (4442, 0.03340243535081453), (1071, 0.03338042786970558), (802, 0.0333141089370517), (4357, 0.03326607869262627), (853, 0.033192004932243856), (4421, 0.033154344954256634), (4483, 0.03312788352857807), (3612, 0.03308836949331072), (188, 0.03306172235434766), (3409, 0.033049188198697996), (22, 0.03304335430027411), (438, 0.0330030565721829), (653, 0.03300093962373745), (4342, 0.03296585093926058), (3449, 0.03285018177446892), (816, 0.032834373927395785), (963, 0.03280741058839445), (3333, 0.03280235153620444), (792, 0.03278963158559515), (3774, 0.03278940145024807), (4040, 0.03278017906166263), (1440, 0.0327667365314933), (515, 0.032740614774859345), (1766, 0.032707169483688146), (4026, 0.032694065214691946), (892, 0.03267088378424604), (1547, 0.03264927514457789), (3524, 0.03263998213896445), (2224, 0.032632797844746556), (4006, 0.0326232241664183), (211, 0.03261976896499408), (3940, 0.03260088468676223), (2937, 0.03248871459072499), (108, 0.032484074504251406), (3389, 0.03243966377778962), (4473, 0.03243111211964608), (4636, 0.03238575967090623), (1239, 0.03234592521745088), (493, 0.032276997308484816), (25, 0.03224466943867213), (3314, 0.032241545896573374), (2108, 0.032227669215839916), (3804, 0.032217865459710796), (1776, 0.03220269160669033), (2924, 0.03217353022554876), (263, 0.032114878714590206), (3677, 0.032086470364658205), (3408, 0.03208151819079216), (3474, 0.03205024669090258), (2230, 0.032049770168418625), (3977, 0.032011450164073495), (2622, 0.03199556133201074), (2528, 0.031979992651580705), (1752, 0.03193613065758797), (2962, 0.031933070382033496), (3383, 0.031926587173666844), (4466, 0.03188523379997542), (3006, 0.03185803977230074), (2950, 0.03185306298660017), (4119, 0.03184359606827137), (2574, 0.03181957159345281), (52, 0.03179194580341284), (4208, 0.0317865782790577), (1942, 0.031750467924542475), (3662, 0.031744709567135924), (938, 0.031734968726603335), (113, 0.03170903641681357), (4741, 0.031645585551598666), (4562, 0.03155828498804484), (3219, 0.03155183503854738), (587, 0.03151607130219084), (2000, 0.031482468795171144), (1054, 0.03142418133171179), (1382, 0.03137847759296838), (1392, 0.03136005201002135), (2912, 0.0312791745617957), (4684, 0.0312482034997742), (1946, 0.03123880938591469), (3990, 0.031229160107100203), (4525, 0.03121408740805249), (3965, 0.031174930555628363), (2716, 0.03108175630013429), (3121, 0.031079183566945206), (4643, 0.03106664397481334), (1594, 0.03106058442915999), (3616, 0.031027581934053097), (4280, 0.031001704905710782), (1793, 0.031000730172064818), (3881, 0.030962709944828436), (3477, 0.030945370619042567), (1619, 0.030943190226590117), (1107, 0.03093618678443316), (3792, 0.030915374815781056), (4704, 0.030908667379448064), (3561, 0.03087968319226304), (2889, 0.03083597302997061), (3617, 0.030826531155721187), (4463, 0.030825395229385624), (3499, 0.030728946005665236), (1873, 0.030651191428818912), (818, 0.03051726657278519), (3197, 0.030496889928634703), (336, 0.0304602369077177), (814, 0.03044673588632443), (2410, 0.030433795672759476), (78, 0.030351917212892293), (4480, 0.0302921637222939), (4333, 0.030277349982955292), (1166, 0.030212779657043144), (4611, 0.030157339823032425), (219, 0.030156692059803043), (4603, 0.030132624689278097), (4101, 0.030088590397491136), (3889, 0.030086627193981322), (1637, 0.0300694396034577), (2731, 0.03006777995250757), (4582, 0.030053948233447883), (811, 0.030049125410965407), (485, 0.030041108153573172), (2217, 0.02999371379348398), (1629, 0.029972251492454176), (334, 0.029945190655473276), (824, 0.029943500432513894), (1707, 0.02994156354762692), (2368, 0.02993112170282789), (1268, 0.029911956915258067), (2687, 0.029908862809950136), (4534, 0.029781633544877666), (4390, 0.029772379060926033), (2588, 0.029745912028464213), (2114, 0.02971882952399061), (3842, 0.029710527490349213), (4193, 0.02968558098254441), (1408, 0.029607522503053128), (3154, 0.029550255750983856), (1173, 0.02954024412370138), (325, 0.02949016732234652), (2461, 0.0294754516973584), (2175, 0.02947079697143283), (1229, 0.02942013509404684), (4584, 0.029333542401651917), (2386, 0.029298065354318014), (3406, 0.029277632197885126), (4162, 0.029238913686100834), (1993, 0.02923608307761122), (385, 0.029232359797749626), (1750, 0.029172291573662516), (830, 0.02916220799398738), (1034, 0.029112800946769678), (3232, 0.029096447378573614), (1027, 0.02906952927332347), (463, 0.028989268750503037), (3103, 0.028897055633201888), (1878, 0.02886460186132711), (2892, 0.028857025710030244), (4061, 0.028843870704747827), (2511, 0.028785221396690326), (2646, 0.028744799308691973), (606, 0.028647031659785667), (1830, 0.02862290384059469), (3300, 0.028568382675099372), (3067, 0.0285320068909525), (720, 0.028506270360327334), (2659, 0.0284787426843284), (2164, 0.02843378745078251), (4007, 0.028432511231931697), (4722, 0.028358884037621896), (1526, 0.028323558820085797), (3603, 0.028300822444607424), (1441, 0.028300618229064472), (1869, 0.028255376363400905), (3537, 0.028254267619462016), (1699, 0.028242034123491015), (4539, 0.028222523491844138), (1412, 0.028211205825860272), (1863, 0.028191418507350317), (3578, 0.02817428301850027), (172, 0.028121443381220263), (2986, 0.028060567298960833), (3335, 0.028029865619531455), (2951, 0.027986354418137873), (758, 0.02798623696021597), (4594, 0.027942499679128104), (275, 0.02792487673340709), (754, 0.0278844215216094), (257, 0.027864536081180745), (3737, 0.0278608812654457), (4198, 0.027852688560360394), (3246, 0.027835703071166732), (4650, 0.02782384244516116), (366, 0.027797756427281065), (852, 0.027775059935220545), (1467, 0.02777065862881966), (1072, 0.027764937546945895), (4050, 0.027741042450339898), (1345, 0.027709252391607327), (4067, 0.027692256739665945), (39, 0.027685832002140365), (2327, 0.027634061838185276), (3189, 0.027581734350340285), (4099, 0.027565375274078933), (608, 0.02755681008185255), (575, 0.027384045653141363), (1987, 0.0272068807088333), (292, 0.02719761889100664), (4220, 0.027193261450327983), (1523, 0.02717417411366054), (2157, 0.02716273217685626), (4297, 0.027160677178089187), (960, 0.02711736190594885), (1333, 0.027089856245488715), (3457, 0.027082427312218556), (4309, 0.027077005553590466), (1004, 0.027070527008335156), (1977, 0.027066752670513852), (2653, 0.027051039466556858), (2553, 0.027045910594317633), (3867, 0.026949393689544455), (768, 0.026938723012067217), (49, 0.026917963974659544), (873, 0.026891757956830516), (4171, 0.02680648698088719), (1380, 0.02679115982617574), (4700, 0.02677003648724556), (2975, 0.026707642138164286), (907, 0.026701762843523054), (3691, 0.02667427757612328), (164, 0.026674104789007638), (2442, 0.026645686295133444), (3403, 0.02663387012832505), (2089, 0.026585500739677016), (2996, 0.026569766582238256), (1895, 0.02656112857031856), (4095, 0.0265458765506004), (3868, 0.02654437605206352), (450, 0.026492333341742322), (3655, 0.026456359601520582), (1190, 0.02640270937553644), (2308, 0.026398111164762657), (4194, 0.026350866138831655), (3129, 0.02630811947655272), (2427, 0.02628064078505128), (1984, 0.026266629780528898), (408, 0.026228760667133807), (2742, 0.026178659368227074), (4596, 0.026123254111649254), (3023, 0.026087024974446343), (3086, 0.026081384320398724), (4688, 0.02606701454778912), (2190, 0.0260244005992133), (2188, 0.026008308201733412), (1641, 0.025995166909448343), (1501, 0.02599445373377435), (3071, 0.025984652654480318), (975, 0.025970756717774133), (3391, 0.025950441040077606), (4516, 0.025944209892535784), (1359, 0.025943378794064498), (796, 0.025909238805360682), (2215, 0.025880518822757), (4495, 0.025860343070896803), (3147, 0.025826315010371016), (1887, 0.02581437618065463), (3715, 0.025802363096392385), (3780, 0.025778522663251723), (401, 0.025746614474901546), (4073, 0.02573791083377799), (1585, 0.02569796467095066), (1572, 0.025689710064670607), (3500, 0.025576084303064538), (2068, 0.02556817629691061), (2907, 0.02556716539082331), (1094, 0.0254713476696313), (4156, 0.02545225759907927), (1618, 0.025419927267702206), (2132, 0.025397194728870833), (1782, 0.02537313520741847), (3936, 0.025355318256126066), (4757, 0.025354157960725283), (3242, 0.02534809361295806), (1188, 0.025341017602554573), (2914, 0.025332958610450564), (2469, 0.025291623346411198), (2036, 0.02527997867450523), (502, 0.025275511438020103), (2640, 0.025261554965195672), (88, 0.025255864111651757), (981, 0.025237065069291974), (3879, 0.02523356569209849), (1960, 0.02522106188822886), (2848, 0.02520671354513481), (3514, 0.025204949398799692), (636, 0.025198533625077704), (3351, 0.025198090948682486), (3070, 0.02518677398617695), (1109, 0.025140146341710235), (3326, 0.025125755925933857), (2931, 0.02509489449215021), (50, 0.025087101714982348), (3188, 0.025084113956989763), (4756, 0.025060001913688144), (4715, 0.025015378994397944), (3490, 0.024994268012424964), (2354, 0.024975884758974443), (415, 0.02485264919705637), (4122, 0.02483340733869737), (3111, 0.02482960253931219), (309, 0.024821680230643982), (767, 0.024814312537579968), (4112, 0.024796001846532863), (161, 0.024779191883290714), (1344, 0.024760690280666728), (2732, 0.02476003686282979), (3701, 0.024751538200500012), (2012, 0.024741795729003334), (649, 0.024666973347518772), (2851, 0.02460173033822092), (1589, 0.024599502359858087), (4725, 0.024597841551055686), (1833, 0.024538347715137954), (33, 0.024516844850813374), (4287, 0.0245087743826912), (2809, 0.024504041822785507), (2440, 0.024490006640981964), (4327, 0.02447382076702887), (2494, 0.024443798111204684), (605, 0.024410677586840006), (3502, 0.024389368693966795), (350, 0.024386039743674263), (4137, 0.024365066243558185), (1797, 0.024346543933456512), (2882, 0.024341276910900572), (4387, 0.024329085602273287), (4462, 0.024312647491571002), (696, 0.024301736751442923), (111, 0.024300053493924428), (2677, 0.024297997088639188), (520, 0.02426474174247727), (2003, 0.024261312274163727), (3531, 0.024188370765580024), (609, 0.024120475659747592), (1038, 0.02411715208469429), (3158, 0.02411323920827472), (2268, 0.0240971692430237), (1424, 0.024082169221287274), (4494, 0.024075161146962783), (2723, 0.02402354549491476), (4371, 0.02402076003361414), (1298, 0.024009698920196724), (1215, 0.02399484163472854), (1537, 0.023982178072579997), (988, 0.023980668065310427), (1811, 0.023949300666006014), (2409, 0.023917927824464842), (4318, 0.023907681829478007), (3388, 0.023887656576658707), (1411, 0.023857787531794763), (3414, 0.02385535941079511), (3001, 0.023841506998340586), (3996, 0.023841423491970274), (374, 0.02382056764482668), (3735, 0.023807046400444908), (3866, 0.023803811659723943), (2967, 0.023793840219217887), (3797, 0.023775612497642287), (2344, 0.02377226922244982), (426, 0.023760696644266777), (114, 0.023745522022989726), (984, 0.023733545763276954), (2499, 0.02373313373599826), (967, 0.023721058112363122), (215, 0.02371915965213132), (3077, 0.023715572545237974), (4363, 0.023696502571990376), (3260, 0.023687994047264252), (4052, 0.023674161924462013), (2318, 0.023655988380562463), (3037, 0.023644495989282966), (3604, 0.02363022620858198), (2531, 0.023628505637705462), (4420, 0.02361976418327418), (583, 0.023595266473061302), (956, 0.023571439650805357), (3261, 0.02356449787293523), (4580, 0.02353842658025021), (3695, 0.023532173850533834), (4204, 0.023531572235930897), (1438, 0.02349381269314864), (3234, 0.02348472241162922), (4721, 0.02346821597470318), (2083, 0.0234419772384609), (2629, 0.02344186016212614), (676, 0.023406517446720475), (2359, 0.023397518542138937), (3226, 0.02336905442677429), (3669, 0.0233622385582586), (1714, 0.023360766017060025), (717, 0.023359504551481055), (303, 0.023345890561778618), (4601, 0.02332579576243507), (1624, 0.023319285682231697), (195, 0.02331803962437232), (2612, 0.023317470221938356), (955, 0.023311202948216828), (194, 0.0232962287399611), (2928, 0.023270978951355444), (2477, 0.02321330547806054), (4591, 0.023205792774110678), (1584, 0.0231994236795038), (1117, 0.02319352841044935), (4084, 0.023172972833859266), (1997, 0.023153629733530943), (6, 0.02314768494105807), (4068, 0.02314211989123329), (731, 0.023094972018678314), (1057, 0.023084874676365188), (2162, 0.023072686601531407), (1351, 0.02306802285694576), (4653, 0.02305412314847483), (1854, 0.023051361192479112), (136, 0.02304117693881369), (4152, 0.023034812715717334), (1929, 0.023016500405556386), (1140, 0.023004919649561896), (2079, 0.023002503432424073), (1510, 0.022996546979917258), (1961, 0.022995498357520985), (1922, 0.02299514997563488), (1453, 0.022994164705380897), (2949, 0.022956639008263068), (1375, 0.022947033923946026), (1132, 0.022945092127012835), (2374, 0.022929704150605183), (4028, 0.022918390138085536), (4189, 0.02291273960580966), (1405, 0.022881965942050483), (1779, 0.022874737805032155), (3306, 0.022874623526821652), (1337, 0.02285937954554744), (3284, 0.022851776962800475), (3606, 0.022839131479994782), (2133, 0.02283620597094226), (2147, 0.02283590297924702), (4503, 0.022818074174493858), (1871, 0.022808283305435887), (2208, 0.02280243714415186), (1232, 0.02279963612402118), (2509, 0.022797724177683394), (205, 0.022781236814941395), (3811, 0.022760349149994828), (751, 0.02275390919434011), (2880, 0.022734416726134573), (1013, 0.022732646893795807), (31, 0.022706222993399514), (424, 0.0227039623389523), (3259, 0.022689268843518993), (4317, 0.022674445161045945), (4737, 0.022672428708353835), (1485, 0.022656989237156033), (3098, 0.02265505831994817), (3334, 0.022635929505947536), (3941, 0.02262492492394326), (4378, 0.022602933822632277), (1271, 0.022572723339150724), (2130, 0.022563863824760222), (4178, 0.022560067927105777), (3410, 0.02255803424720346), (221, 0.022555418539381887), (2242, 0.02254860169199755), (3596, 0.02254394931745314), (1402, 0.022529796216066555), (428, 0.022526633306857325), (3777, 0.02251646195309372), (1918, 0.02251033056962131), (845, 0.022493203854534925), (1965, 0.02247199026437074), (1963, 0.022468690077348828), (4356, 0.022453627409227885), (2285, 0.022451446396171065), (204, 0.02244634376428637), (2350, 0.022444168366129037), (1047, 0.022415323324856646), (2672, 0.022412160156576547), (586, 0.022410776842305743), (4349, 0.022399159673665545), (543, 0.022377306812929997), (34, 0.02235701716463272), (1500, 0.022354763551700376), (1319, 0.02234877273703609), (3046, 0.02234188227552388), (4736, 0.022308151912406097), (2648, 0.02218422172406057), (2802, 0.02216939117679905), (1798, 0.02216919603224428), (168, 0.022160006112304943), (2660, 0.02215971829348389), (1462, 0.022144879449839887), (2923, 0.022117815431371292), (4453, 0.022074882596405433), (863, 0.022069126797687147), (2609, 0.02202640977998345), (3443, 0.022016950772161165), (3563, 0.0220045743803086), (3000, 0.02199820042619735), (1086, 0.021976844529357678), (2805, 0.02195996142467284), (2808, 0.02192330915260056), (2265, 0.021917921286570014), (4036, 0.02188685829571856), (784, 0.02187142227579468), (28, 0.02184354675401855), (4352, 0.02181127203499219), (977, 0.021811125590790018), (1284, 0.021805353173042163), (4281, 0.02179331442176009), (1875, 0.021784764313810562), (1599, 0.021782669867070288), (3386, 0.021769935341604367), (1740, 0.02173934242386446), (725, 0.021735782229222855), (936, 0.02172352939565178), (4143, 0.021702379959880277), (800, 0.02170092738358144), (2452, 0.02168997424428954), (2331, 0.021666310082901943), (182, 0.021656702320505226), (2779, 0.021643253707049104), (2438, 0.021634647875182867), (3117, 0.021616494690424287), (4517, 0.02161533908997462), (2011, 0.021571337528448784), (434, 0.02155037845817958), (1952, 0.021532107965393534), (848, 0.02149215159618996), (2558, 0.021488206995708643), (2303, 0.021483952693997256), (1563, 0.021479589263191098), (241, 0.021461349128698282), (4427, 0.021461263426331145), (4345, 0.02146091758028625), (2572, 0.02143214384540087), (1605, 0.021431930076467924), (4298, 0.021427964125468497), (4150, 0.02140440458316845), (378, 0.021402231939865686), (116, 0.021398108867937454), (3570, 0.021379598327050657), (2853, 0.02137772981352226), (3807, 0.021372724338981665), (2019, 0.02136663701485328), (1665, 0.02132847113507591), (2004, 0.021308951952060933), (2252, 0.021301936282114273), (4011, 0.021292629053713267), (3435, 0.021276549076880705), (1059, 0.021267835807668098), (236, 0.021252117039470015), (1831, 0.021243669567216412), (398, 0.02124038549856684), (654, 0.0212375136736025), (129, 0.021228358921387837), (895, 0.021222552905235267), (4247, 0.02122025405901703), (4546, 0.021218850132044397), (61, 0.021212119924737323), (117, 0.02118815060808783), (1550, 0.02118600910408306), (480, 0.02118583236950379), (3746, 0.02117869376470147), (3361, 0.02113025405985163), (944, 0.02112323305244695), (1650, 0.021122834926736327), (3553, 0.021121108649647467), (2069, 0.021109744901773933), (1663, 0.021102470824746013), (224, 0.021091921660334204), (3565, 0.021090870585532093), (4020, 0.021078130958381704), (1122, 0.021024198921661744), (2621, 0.021005175162925896), (2029, 0.02097605689894982), (2502, 0.020930545144073217), (3082, 0.02092724146981318), (2178, 0.020926402336187817), (2799, 0.02090936648706541), (4634, 0.020901713389477165), (4621, 0.020895033584169918), (3507, 0.020888470552382108), (2090, 0.020869071581556122), (1722, 0.020853487772800813), (2745, 0.02084393295108058), (3551, 0.020842336721702017), (2193, 0.020838480919392454), (3387, 0.02082252715341492), (1389, 0.02081924264451192), (1079, 0.020805901149150072), (957, 0.020800216301989184), (1030, 0.020797651952797185), (861, 0.02079053821045636), (3238, 0.020777441096534767), (3698, 0.020769173857518215), (3895, 0.02076691328068614), (2571, 0.020758010896990746), (1360, 0.020731902428777895), (3010, 0.020718353803112502), (1668, 0.020714391582961355), (390, 0.020706836682501353), (1542, 0.02070270075783895), (218, 0.020698667747104167), (875, 0.020695480777396868), (329, 0.020673287688609265), (1767, 0.02066706338916376), (3489, 0.020660021068282783), (1167, 0.020658021940968063), (3802, 0.0206470902122561), (3523, 0.020634158503994113), (70, 0.020623988540045733), (441, 0.020618634062134104), (926, 0.020595987197605792), (2820, 0.02058048515712572), (538, 0.02057147402261104), (3722, 0.020559038591153964), (2031, 0.02055563630021544), (3081, 0.020555504216011943), (3105, 0.020543808713545313), (4155, 0.020525901436644307), (1829, 0.020524961016039213), (2666, 0.020519732479615454), (4552, 0.020493002293615552), (3060, 0.02048241494761477), (1331, 0.020459637782517706), (4313, 0.020448790097938017), (4374, 0.020394748675499143), (3039, 0.02039286465467751), (2728, 0.0203891205418291), (645, 0.02037852972151156), (730, 0.02035744045908655), (804, 0.020349516892165007), (2649, 0.02033212230264152), (4388, 0.020331516825183533), (1106, 0.02032456174886543), (1763, 0.020315058642049272), (707, 0.020307098048797673), (3168, 0.020292671167201983), (4002, 0.02028433162681087), (130, 0.020264542877378413), (148, 0.020256192910941884), (67, 0.02024119508475416), (742, 0.020196202404096315), (1575, 0.02018952799698336), (1701, 0.020176306528427383), (3667, 0.020147355441489434), (2355, 0.020128290421770015), (2107, 0.02009240381950635), (900, 0.020088500706737462), (2120, 0.02004763678105324), (1407, 0.020038477325794724), (929, 0.020012092906553473), (815, 0.020012073263892698), (1751, 0.02000314572890443), (1879, 0.020001689152259305), (213, 0.019996917248579243), (819, 0.019993036141139457), (3639, 0.019989715297172413), (710, 0.019986738845808663), (2615, 0.019985213120743972), (3033, 0.019984518807342352), (2516, 0.01997924330656702), (630, 0.019976650911386538), (2183, 0.0199504794430435), (2603, 0.01992440125610543), (4045, 0.019920756729743843), (1025, 0.019891621396097486), (4418, 0.019887491141499035), (535, 0.01988215955874186), (976, 0.019874342166128704), (2501, 0.019865878673677145), (1448, 0.01985264189291476), (2315, 0.019830110975942925), (2790, 0.019825675109205708), (409, 0.01980731204022406), (1197, 0.019781049484749645), (700, 0.019772006777809964), (3460, 0.01975692569853094), (4176, 0.019756093590357834), (2347, 0.01975083725487637), (3454, 0.019710654339768367), (1939, 0.01969051754441192), (891, 0.019678738782945418), (3310, 0.01967093051290632), (36, 0.01966049158461395), (4368, 0.01965749099211702), (4164, 0.0196478066269409), (2085, 0.01964573207183754), (3329, 0.019642063373370426), (1606, 0.01962273225233583), (1990, 0.019600663434074943), (4275, 0.01955089607531793), (2596, 0.01954961870431212), (3146, 0.019536965890627842), (3847, 0.01952940569608432), (4296, 0.01951139046164631), (2527, 0.01949981733556581), (4476, 0.01949229941355904), (1474, 0.019478673356157276), (1757, 0.019476301096982018), (1595, 0.01944362551154229), (2597, 0.019427235841020626), (4459, 0.019385123760019343), (1949, 0.019367708208408906), (4329, 0.019361241616286943), (3597, 0.019297965877183212), (4663, 0.019294671541387563), (1792, 0.01929116667986504), (1847, 0.019288240852765363), (1968, 0.01927793183036487), (4404, 0.019264601860838303), (3167, 0.019241284109952145), (1085, 0.019222969373398024), (3102, 0.019217961137317066), (4303, 0.0192013285505591), (266, 0.019198112250765002), (3421, 0.019192845880514762), (706, 0.019176318884051406), (844, 0.019155331968620435), (3840, 0.01915119142076747), (497, 0.01914525889508228), (3495, 0.019130735135539787), (3360, 0.01908488187563083), (2655, 0.01907529104941117), (202, 0.019052576635751686), (2056, 0.01905188499554792), (3815, 0.01904655124379636), (2163, 0.01901545153424764), (2211, 0.018997362600768463), (2221, 0.018937344524544663), (4683, 0.018919625694711204), (3878, 0.018918179622112983), (1074, 0.018914042268404617), (1633, 0.018891346941692123), (4149, 0.01888718357056259), (1954, 0.018877823288185654), (3910, 0.018862785886507277), (647, 0.0188512927638184), (1684, 0.018845486660077616), (3024, 0.018843743017552022), (2481, 0.018841415909915647), (3803, 0.018823361719962173), (1133, 0.018815575394705714), (492, 0.01881288989479451), (3637, 0.018789348681975557), (1925, 0.01878107376229715), (1720, 0.018780779995055133), (4170, 0.018777487554837557), (2753, 0.018774160006441533), (92, 0.018754475101339287), (2199, 0.018736968545556062), (4385, 0.018725486576929903), (4482, 0.018701892487487097), (2408, 0.018671732787751288), (1772, 0.01866924664066268), (3864, 0.018657534769574862), (1379, 0.018647533894295198), (375, 0.018635113838473157), (3222, 0.018611130893977364), (1913, 0.01860803985545864), (35, 0.018592996211597258), (1253, 0.018592976558929747), (613, 0.01858601163075973), (3320, 0.018569128341052992), (1850, 0.018556610024512643), (3814, 0.018546832885908835), (1551, 0.018532544482759844), (1291, 0.018522131754277048), (650, 0.018511036373693408), (2234, 0.01850911796621078), (4029, 0.018478866431971643), (648, 0.018476925973368155), (3909, 0.018446002386624208), (3264, 0.0184428090880642), (1008, 0.018435252599315992), (746, 0.01841352041780022), (691, 0.018410720904096567), (3240, 0.018403776450861126), (2286, 0.01839495518635894), (445, 0.01839297837137057), (4759, 0.0183623531284149), (4293, 0.01831778893958169), (801, 0.018316622862096642), (1989, 0.018296044110322856), (2281, 0.018290162461481452), (745, 0.018279651486214025), (41, 0.018265958572651012), (4216, 0.01822259984188175), (2601, 0.01821561100920298), (1347, 0.018213119253685784), (3011, 0.018208307826851015), (3585, 0.01820815537724147), (757, 0.018195776891369086), (3778, 0.018142642990609407), (529, 0.01813275975646092), (163, 0.018118623630624723), (4619, 0.018111880959985397), (3097, 0.01810107058871718), (3920, 0.01809169910953596), (427, 0.018086465383042614), (1545, 0.018081801805967572), (626, 0.018060074915157702), (3633, 0.018046523586363925), (476, 0.018019494546440237), (1654, 0.01799884183997238), (3562, 0.017994529591934993), (186, 0.01799157835560811), (1067, 0.01798426325517232), (4587, 0.017971334432644655), (2736, 0.01795445783229018), (1938, 0.017937466709792235), (3068, 0.017905224641020213), (3357, 0.01789190344622454), (1221, 0.017886394569004014), (1428, 0.017874439319746204), (2214, 0.01784829258271475), (3607, 0.017827515162017523), (3045, 0.01776659516818705), (4292, 0.01776585063864444), (3466, 0.017751302978911324), (149, 0.017742329396952885), (794, 0.017740293695078378), (670, 0.017738991134929695), (393, 0.017707599469301456), (3644, 0.017705979938371978), (974, 0.0176517340729661), (1985, 0.017649242887938187), (836, 0.01762786784092072), (565, 0.01761175047207608), (2202, 0.01759972755108406), (872, 0.01757382647098859), (3703, 0.01756013114745238), (2827, 0.017540636992345187), (1430, 0.01753318549683783), (2522, 0.017495277871488052), (3899, 0.017489749178693434), (2831, 0.017486412990213602), (1992, 0.017453086836752087), (248, 0.01744401570399255), (4358, 0.017443387599878544), (2497, 0.017415002249949484), (1698, 0.01740500520190176), (4063, 0.01740173389212278), (2714, 0.0173731972111344), (122, 0.017369889476759413), (3528, 0.017369804000941923), (4394, 0.017332079149136603), (4177, 0.017331359645582974), (4274, 0.01729003046447029), (4295, 0.017288705276518594), (160, 0.01728343211625691), (2908, 0.017265759509340433), (719, 0.01726089408040832), (3738, 0.017247112433145455), (4664, 0.01724277149259304), (4719, 0.017209954991108715), (4487, 0.017208044542029434), (3911, 0.01719964529524759), (1192, 0.01719903674959094), (3731, 0.017184051533565687), (2688, 0.017155055859233808), (3177, 0.017119022756995807), (3056, 0.017107493772294664), (2087, 0.017083315483966542), (3471, 0.017083103244488772), (1727, 0.01706771623039383), (3983, 0.017065491370319295), (1795, 0.01704985014128027), (3402, 0.017020590312540457), (2279, 0.017018271946571885), (639, 0.016884856930956253), (518, 0.016874530249115536), (2058, 0.01685870223140022), (3473, 0.01685200674849133), (1169, 0.016846199629938132), (3649, 0.016831866544961008), (2977, 0.016808014553472004), (1978, 0.016806123589135046), (1931, 0.01677208566628379), (1033, 0.016741941095746705), (2143, 0.016699462209577777), (1870, 0.016697322770952868), (2045, 0.016682812416575446), (994, 0.016682195336397726), (3830, 0.016612476823501063), (2706, 0.016605198066869508), (962, 0.016561871045359142), (756, 0.016557829792411514), (318, 0.01654819636235324), (1710, 0.016545151711995693), (4507, 0.016533142357429396), (274, 0.01652723523214917), (2474, 0.016483946764526018), (3682, 0.016473969856116922), (2812, 0.016460652613201825), (4506, 0.016459610220463262), (4618, 0.016435174656471107), (2165, 0.016365754795680962), (4341, 0.016353556783634222), (1249, 0.01634755034172975), (641, 0.016312224359421257), (1695, 0.016309454290669392), (99, 0.01630767211077811), (3789, 0.016281448299335515), (2273, 0.016271951986665083), (4451, 0.01626596108052972), (1838, 0.016249921096672417), (683, 0.01624978682102589), (2801, 0.01617525641129023), (3958, 0.016170210821233832), (2352, 0.016114954519413485), (2593, 0.01611479455774155), (436, 0.016104433601026924), (308, 0.016095851400443735), (3172, 0.016052837981687378), (4641, 0.016036051931797045), (183, 0.016018650665289978), (4010, 0.0159074899811304), (3806, 0.015907482136536116), (1044, 0.0159021242599941), (4042, 0.015897940460155358), (3532, 0.015872931259833842), (4179, 0.015868229200721826), (4472, 0.015868161933162518), (254, 0.01586515805281644), (48, 0.015860049502416644), (2326, 0.015822426071355592), (2510, 0.015803530648245342), (1856, 0.01577878379556708), (1596, 0.015760583030381744), (1482, 0.0157521927339285), (1342, 0.01574581839550891), (2229, 0.015730252068745332), (2267, 0.01571933357370377), (537, 0.015692801473542378), (484, 0.01568353408435766), (342, 0.015680271675622255), (3213, 0.015659944792920946), (4389, 0.015620134292451099), (2595, 0.01561217666710523), (4205, 0.015600939100529999), (283, 0.015595409255183948), (1728, 0.015565642478427831), (1742, 0.015521434463655297), (657, 0.015510474580219034), (86, 0.015498522218610897), (3469, 0.015438963680354393), (2725, 0.01539390738130256), (4726, 0.015378843189159058), (12, 0.015371099376589321), (2496, 0.015351442078269665), (961, 0.01535099634848091), (4515, 0.015340971169263152), (3975, 0.01533465180826856), (2222, 0.015325317205509875), (1136, 0.015312479421016129), (372, 0.015295127458740988), (622, 0.01529486574276474), (3265, 0.015290283270981805), (2122, 0.015286716726016199), (2565, 0.01526927373713889), (866, 0.015260624456365316), (343, 0.01525731396493772), (1639, 0.015256248755594202), (602, 0.015252977538250412), (3342, 0.015243232016516074), (686, 0.015236785142112116), (4077, 0.015190616957789699), (1670, 0.015149845736348807), (262, 0.0151213538098388), (3869, 0.01511269906081554), (4225, 0.015109816788226338), (100, 0.015078023084260156), (2586, 0.015032942828282148), (3181, 0.015022924991457819), (4485, 0.015018664018784414), (294, 0.01501366049591728), (807, 0.014971231700734439), (4464, 0.014958872765243962), (1741, 0.014957136832508044), (2072, 0.014915218383584956), (1503, 0.014883477917985301), (1600, 0.01487619938561214), (341, 0.014844211388732882), (4154, 0.014833332371075482), (3290, 0.014812988885221057), (4492, 0.014809699910708856), (4623, 0.014783515056299528), (2466, 0.014782443452707858), (1294, 0.014776467831775858), (4533, 0.014731487112174983), (3545, 0.014726800461116728), (3458, 0.014719736686346413), (2704, 0.014695052582420232), (1921, 0.014670617142734299), (4406, 0.014582370122458882), (200, 0.014504911986704963), (656, 0.014483721380116818), (1876, 0.014476705110522053), (1299, 0.014472129430574455), (2678, 0.014471596452640938), (4435, 0.014462685393890241), (3980, 0.01445724299502869), (3552, 0.014451953509825685), (3341, 0.014434324287361782), (29, 0.014419986413520753), (2015, 0.014395602901354474), (32, 0.01439548342623262), (1179, 0.014392019888067204), (2605, 0.014391444833510585), (370, 0.014370700211715711), (1432, 0.014360543479286565), (3665, 0.014359761182416697), (79, 0.014349133188059833), (2526, 0.014290824123038797), (3392, 0.014275963386810184), (3448, 0.014271757376634053), (400, 0.01426185812970856), (3554, 0.014241522776928249), (534, 0.014216441686610229), (4253, 0.014193281946153363), (902, 0.014142058094101715), (1506, 0.014141820254377064), (2388, 0.014137237697124293), (368, 0.01412170670876149), (1807, 0.01411876939718302), (98, 0.014094510806179609), (1958, 0.01407199817469137), (2382, 0.01406196042540122), (3178, 0.014049031390047035), (2909, 0.01403823580930735), (3272, 0.014031376212826107), (1790, 0.014024687019349094), (919, 0.014010108738731973), (332, 0.013988239921877872), (2567, 0.013960875389343298), (643, 0.013948187247119008), (1461, 0.013940586482616889), (1481, 0.013931434651154297), (4581, 0.013914739501379345), (3610, 0.013895076595660787), (2027, 0.013884588642397971), (4609, 0.01388109844315944), (1512, 0.013876130397164182), (2247, 0.013874881114303909), (3319, 0.01387231695288166), (617, 0.013859517668693781), (1864, 0.013844440923469401), (620, 0.013824946696149028), (782, 0.013812235007824952), (3367, 0.013808013673266785), (264, 0.01380530371887215), (1172, 0.01380308348846244), (4364, 0.013799422534570326), (2127, 0.013780781363283642), (135, 0.013774472027852844), (4508, 0.013717797155119338), (3270, 0.0136966873159994), (2765, 0.013682084122665623), (3818, 0.013671850210083077), (3741, 0.013665886366419765), (753, 0.013637742092368513), (2225, 0.013589746769420399), (821, 0.013588357005567186), (1794, 0.013576409813039961), (2525, 0.013554035176866246), (634, 0.013543160726802958), (1321, 0.013540003895459897), (4157, 0.013509890597882804), (3751, 0.013492368572547101), (3858, 0.0134909648607794), (1039, 0.01348866104392792), (3972, 0.013475005108524436), (1406, 0.013473907158940453), (1507, 0.013472432627697697), (2504, 0.013460336957177483), (3836, 0.013445384702395828), (4039, 0.013439057812617382), (433, 0.013427847402119952), (3276, 0.013413574156112693), (3313, 0.01340208924659071), (4555, 0.013392291993467987), (2514, 0.013329913373626408), (2095, 0.013314459002966617), (744, 0.013311380106790338), (4452, 0.013306863508740411), (2482, 0.013267715859314693), (89, 0.013264990106999936), (3925, 0.01322637792644537), (457, 0.013210973400650295), (2641, 0.013210826488801352), (1825, 0.013187612453071937), (2145, 0.013177151576827442), (1839, 0.013165528975862), (2366, 0.013158025200008708), (787, 0.01314198039473371), (1434, 0.013141701783064792), (3948, 0.013118325223100375), (1675, 0.01311290565892858), (1144, 0.01308760045050973), (3783, 0.013002765654214038), (1756, 0.013000588397935123), (4532, 0.012987758841765371), (3697, 0.012960858963852814), (1565, 0.012943223829038931), (3831, 0.012901159159262274), (2529, 0.012898817611834477), (4667, 0.012892520547709426), (629, 0.01281203995887768), (1623, 0.012766164168539358), (1323, 0.012747892655100507), (4493, 0.012741104029226912), (4009, 0.012738356247270143), (3395, 0.012664742819713012), (3586, 0.012661200701269198), (2764, 0.012659613784571042), (411, 0.012654028777538169), (2287, 0.01263321683300998), (3752, 0.012604835460939032), (1705, 0.012598115777000074), (2630, 0.012530199632679104), (2614, 0.012503319686382955), (1567, 0.012488347590381657), (1171, 0.012488144451266767), (239, 0.012478851697393909), (4109, 0.012474246056347137), (3464, 0.012468563898476918), (2296, 0.01246364252142205), (3048, 0.012462343469632734), (2337, 0.012455664366138645), (898, 0.012419275121854607), (1328, 0.012406384140779702), (699, 0.012397842382771772), (2005, 0.012396511248634497), (3968, 0.012354508079813082), (577, 0.012347297023588756), (1734, 0.012327272536061017), (1233, 0.01232675130993024), (3166, 0.012325752042587873), (1627, 0.012304118329784959), (1588, 0.012292592370905967), (1145, 0.012287459118933976), (2407, 0.012283014388202344), (797, 0.01227820287001082), (432, 0.012245238769656875), (2665, 0.012217139596791663), (1356, 0.012182924891283349), (918, 0.01217502443237653), (319, 0.012157038185301313), (3428, 0.012154471136297345), (4467, 0.012152421921825387), (735, 0.012133667185536321), (1801, 0.01208824902142418), (2775, 0.012063114143176481), (2870, 0.0120458716918894), (2883, 0.012024715603627171), (4678, 0.01202433106853482), (3690, 0.01202300443724016), (1018, 0.012022046403098102), (908, 0.012018762864044855), (2955, 0.012013896693768882), (2017, 0.012006529012744696), (2444, 0.01200049657459668), (658, 0.011946601742624147), (3291, 0.011941068617356155), (2991, 0.011921430736614199), (4222, 0.011917223371524864), (1521, 0.011906780365893243), (714, 0.011903924919203657), (144, 0.01189150815925539), (909, 0.011890719314873443), (1611, 0.011889389280055717), (3479, 0.01186685656466513), (1586, 0.01185358896736217), (3859, 0.011835749531782515), (4383, 0.01180585208644878), (1464, 0.011790748959877917), (1297, 0.011774613941297684), (3916, 0.011747333539656655), (1638, 0.011719131740989736), (2850, 0.011692821855189016), (2559, 0.011681073918140002), (3164, 0.011674822652326713), (65, 0.011666628755928176), (621, 0.011664432597033661), (2832, 0.011661371988812192), (2075, 0.011643152981231768), (1573, 0.01159012937098321), (13, 0.011590080034348155), (831, 0.011588703845268175), (322, 0.011584911540748456), (530, 0.01158097183275791), (1937, 0.01155603088912602), (2643, 0.011492126998938677), (1092, 0.011490950301346253), (4615, 0.01146033870543731), (2789, 0.011459419308155038), (4651, 0.011426801302811864), (1063, 0.011367119527475801), (2917, 0.01133755218704896), (1208, 0.011328680875802959), (1289, 0.011326448550625345), (3015, 0.011260101701986568), (1552, 0.011248289771974439), (45, 0.01116561825108772), (1630, 0.011162989646257816), (3363, 0.011082093835252372), (1973, 0.01106728424835738), (1139, 0.011065721342559794), (1914, 0.011056797002791479), (2834, 0.011024081105122964), (4306, 0.010985790886403347), (2857, 0.010968600578010745), (1662, 0.010964959426185283), (2590, 0.010951832051827131), (2266, 0.010941341849002684), (3999, 0.010941308344090163), (532, 0.010924555879736194), (4325, 0.010912212304772831), (573, 0.010908974813858531), (326, 0.010882093628414889), (2797, 0.010876206110585214), (3993, 0.010869808456308317), (3302, 0.010826610621175606), (1655, 0.010808941038376143), (2966, 0.01080211052782079), (2125, 0.010759895790138129), (511, 0.01071461484811404), (3257, 0.010707029316324923), (3137, 0.010687597205685177), (3413, 0.01067298991515114), (489, 0.010629722444752823), (2434, 0.010622891148921145), (3932, 0.010620757438604203), (4458, 0.010597777436570083), (788, 0.01057276803985759), (2769, 0.010488236571138496), (431, 0.010479322525385637), (4632, 0.010475939324401377), (2737, 0.010460918108307056), (2570, 0.01045839047875017), (3745, 0.01045281971711165), (1053, 0.010451508243604146), (2538, 0.010450650246697115), (1187, 0.010440045992663134), (4145, 0.010438004991965625), (91, 0.010415304379679153), (1885, 0.01041156434062096), (3359, 0.010341108531793021), (2320, 0.010330023356313585), (2696, 0.010329475549406733), (3072, 0.010327754521852486), (4558, 0.010308182125394609), (3425, 0.010296009419197151), (1398, 0.01028643233612175), (4713, 0.010286411187213662), (1194, 0.010278895969895037), (4468, 0.010272027457482048), (3364, 0.01025793615994291), (448, 0.010256484737300888), (2872, 0.010228476845350954), (3165, 0.010206099225640038), (3952, 0.010190173511497053), (847, 0.01018971391385196), (985, 0.010164774568071543), (2702, 0.010155916663765432), (4117, 0.010143410310555809), (1184, 0.010137262247061907), (2701, 0.010126028888156995), (4243, 0.010115864811688507), (2177, 0.010114205517217013), (3296, 0.010106492515060305), (2051, 0.010095775516561455), (2302, 0.010092784022263206), (1909, 0.010085782234179672), (2893, 0.010076760982670845), (998, 0.010073305617083625), (999, 0.010065061318506686), (3148, 0.010060712431973918), (3013, 0.010023974224668213), (3274, 0.01001191726022986), (2740, 0.010004914094508571), (288, 0.009991096061473541), (1023, 0.009988325969985275), (1489, 0.009984734087611592), (3560, 0.00998409535386654), (813, 0.009980093816396387), (2974, 0.009976437715567409), (4718, 0.00996578649520264), (3248, 0.009910031088661134), (4605, 0.009870265745643949), (4138, 0.00984934958876259), (2535, 0.009848633571153148), (857, 0.009812499394381835), (62, 0.009810488195686588), (2890, 0.009805151135295703), (3417, 0.009786750026840782), (3116, 0.00976450025570074), (2375, 0.009761993169641905), (2390, 0.00974114811481643), (3183, 0.009730443765454582), (1866, 0.009702683485909334), (1905, 0.00968764631441329), (2915, 0.009663128053486082), (2748, 0.009662636204339471), (3258, 0.009662434441353094), (2439, 0.009659030157938618), (8, 0.009650195228100206), (1897, 0.009634448954623044), (2705, 0.009621446012022186), (3271, 0.009601172465082288), (3893, 0.009599396933699968), (2116, 0.009590363841104683), (2776, 0.0095702847359444), (4657, 0.009556773714636164), (2475, 0.009555965254315443), (3184, 0.009544050492001693), (2661, 0.00953900100354731), (3496, 0.009538129731208834), (2391, 0.009490583263172942), (3601, 0.009476636699667355), (3218, 0.009473240398951395), (2664, 0.009473238231998526), (3235, 0.009472671238748934), (2105, 0.00946213617444821), (4175, 0.009461802206416611), (3434, 0.009453378392749954), (3678, 0.00945315230567743), (612, 0.009434360353496702), (1951, 0.0094276960474794), (4575, 0.009401864876506528), (1685, 0.009401385411821664), (2755, 0.009396029061056962), (193, 0.009394946116773772), (2610, 0.009390757273945921), (1893, 0.00937216992910751), (4566, 0.009367174856755988), (783, 0.009360529001135718), (3511, 0.00935359039113377), (3882, 0.009352007111789781), (51, 0.009348976340792743), (178, 0.009347591041471717), (3654, 0.0093452525785576), (2633, 0.009328710088573684), (564, 0.009309271021857855), (255, 0.009304978129652502), (3493, 0.009300465086429677), (3599, 0.009277940225739538), (879, 0.009270484881012443), (890, 0.009267378472799417), (4136, 0.009256708979422885), (1851, 0.009250940702200719), (2911, 0.009247951696886057), (2904, 0.009242272053222627), (2405, 0.009241854499022003), (1364, 0.00922670633748664), (4625, 0.009226314110682206), (4025, 0.009218600343356755), (4079, 0.009211481471341786), (2744, 0.009209255589536298), (774, 0.009207061504611626), (4422, 0.009182634003882039), (3198, 0.009179449501759637), (2841, 0.009169035409162115), (2863, 0.009162012757613122), (472, 0.009148027752190474), (2048, 0.009145825169495423), (1860, 0.009138355623492564), (764, 0.00913116830207604), (865, 0.009123996586321018), (3809, 0.009104187307200116), (3526, 0.009093711706765342), (1077, 0.009077919796030039), (406, 0.009065951811511722), (4197, 0.00905865259956278), (2489, 0.0090555685941421), (3182, 0.009051859080545812), (2155, 0.009041200351421459), (2798, 0.009023323807968976), (579, 0.009007606088804462), (1472, 0.008989176778901853), (2652, 0.008983298842165309), (1410, 0.008980831027464864), (2144, 0.008963090666408779), (897, 0.008953446642105239), (2169, 0.008943306753844874), (2492, 0.008941481922883075), (504, 0.008939568833183973), (3541, 0.008938424515558966), (1170, 0.008895851743880237), (2398, 0.008882367647168762), (1378, 0.008878321304257645), (4320, 0.008863301721915995), (2195, 0.00886243827707798), (2891, 0.008862413172955186), (2943, 0.008853932056167656), (1612, 0.008848469396309708), (2999, 0.008835481073652434), (1634, 0.008806970129379749), (490, 0.008799059480495626), (464, 0.008783245534060945), (174, 0.008777013148888032), (3237, 0.008776639497756724), (1276, 0.008775098487005405), (1666, 0.008762717934046985), (3009, 0.008760817238146448), (880, 0.008758269003169715), (867, 0.008757424515854012), (1313, 0.00875619441324468), (973, 0.00875448746839215), (169, 0.008730315064458365), (2500, 0.008729339647160257), (1286, 0.008711257634578497), (1084, 0.008706992227051444), (2945, 0.008698136629235072), (2102, 0.00868691426176947), (3220, 0.008684471066189463), (3447, 0.008682910000437364), (1350, 0.008655611058122282), (693, 0.008648549756991331), (358, 0.008642133299634803), (3075, 0.008629996588180634), (2422, 0.008625527994787982), (4183, 0.008618431281166662), (4381, 0.00861450177202135), (4192, 0.008604701601946551), (3890, 0.008596717407215189), (488, 0.00859486857390037), (3298, 0.00858353140738902), (4139, 0.008580691926253112), (1060, 0.008573356632826264), (2467, 0.008573100703360653), (1421, 0.008566280303573693), (2642, 0.008561151086983914), (85, 0.008548310177812102), (3826, 0.008542649701122867), (1020, 0.008525003533501448), (2367, 0.008505794715314877), (4536, 0.008489495816108146), (3315, 0.008488509023672904), (883, 0.008488232231563093), (3214, 0.00848325510993075), (3268, 0.008480964452429067), (2886, 0.008477614471750336), (1744, 0.008476941917432371), (356, 0.0084758392709344), (1002, 0.008466416490775086), (1273, 0.008456841520289285), (3170, 0.008453477396554809), (644, 0.008441194382100305), (3898, 0.008432371583640465), (2859, 0.00842443772698468), (2995, 0.008421585560671711), (698, 0.008407142787204716), (3646, 0.008402171550304947), (966, 0.008389830477002562), (3014, 0.00838850772894162), (3194, 0.00838710646787998), (3954, 0.008386300465300912), (1693, 0.008343073463358927), (3407, 0.008342010039882964), (1682, 0.008338636380612982), (1372, 0.0083354846547065), (279, 0.008318583115595947), (2149, 0.008302483970121007), (471, 0.008298117964952254), (1819, 0.00827842616420437), (921, 0.008269932777092301), (410, 0.00826689176128213), (2201, 0.008266044441556354), (838, 0.008262611535642306), (1558, 0.008260114934110933), (3829, 0.008259943622416945), (3800, 0.008254497920094112), (589, 0.008235166049837029), (3558, 0.00820354911869971), (3913, 0.008203424664606732), (2399, 0.008202349993762837), (355, 0.008193615851756033), (1543, 0.008186679565270851), (4479, 0.008184001629772421), (2453, 0.00816689203561606), (121, 0.0081668631306423), (3767, 0.008162578439518318), (2362, 0.008145367063580926), (3050, 0.008141122803732305), (2301, 0.008128312620001459), (1065, 0.008121643068272347), (465, 0.008112381879620755), (4166, 0.008077365496683277), (1237, 0.00806622347594718), (3217, 0.0080626077242453), (1216, 0.00805769667956138), (2402, 0.008047239441429146), (3078, 0.008039757336625217), (2338, 0.008028223545755362), (1220, 0.00802008119417846), (1366, 0.008015443002264488), (4350, 0.008009217812168078), (1690, 0.00800585861755243), (2457, 0.00799320639781562), (1219, 0.007971550387572537), (3327, 0.007970315538316895), (885, 0.007970208220440823), (4080, 0.007967316834620623), (2607, 0.007964806825196537), (3795, 0.007948657826788105), (1539, 0.007923422416237998), (4141, 0.007922699948690711), (2983, 0.007896319434500004), (1423, 0.007886129647009864), (132, 0.007877948786303282), (948, 0.007877839606421428), (4104, 0.00787633401620165), (2543, 0.007850593269962127), (1199, 0.007838623273725287), (1616, 0.007808817925979661), (2237, 0.007797208652037594), (3592, 0.007778753996379602), (2412, 0.007715634051945045), (1764, 0.007702375379912218), (103, 0.00769643684019352), (2730, 0.007687302703552236), (2328, 0.007679162282567858), (3945, 0.007656120466999647), (278, 0.007653073453112161), (2761, 0.007646653438567916), (4411, 0.007612537669783231), (60, 0.007601213282759508), (3579, 0.007584797471503656), (4514, 0.0075678130439979716), (1743, 0.007563559504457592), (2933, 0.007546178070004416), (403, 0.00753157829576429), (2035, 0.007527699345792192), (1845, 0.00751429942460728), (4408, 0.0075118185087903805), (1365, 0.0075036054313216746), (547, 0.007491758521559156), (3758, 0.00748300190143164), (2253, 0.0074560981326735965), (2333, 0.007447978201664554), (3686, 0.007437958556647551), (3017, 0.007433610705391889), (2876, 0.007421336315313726), (2009, 0.007410253586894716), (795, 0.007394931973397298), (582, 0.007370799502977437), (1305, 0.007346051791415438), (2844, 0.007338926362354874), (2032, 0.0073317140919550656), (950, 0.007309876028554994), (843, 0.00730746365062877), (1427, 0.0072840907535696685), (1415, 0.007280266402742224), (3254, 0.0072654827748491295), (1950, 0.007258124041537039), (3875, 0.007222475301061384), (4311, 0.007219288176609953), (156, 0.007218496696127497), (1317, 0.007199561848061068), (225, 0.0071955506276398), (760, 0.007177463232109604), (4599, 0.007176781665782455), (3851, 0.007163465490490209), (407, 0.007129722998931447), (4460, 0.007092053263294638), (2186, 0.007091694811120975), (1201, 0.007085778753467937), (63, 0.00707196628555343), (2420, 0.007008185128358691), (3761, 0.006996663086828825), (1677, 0.006990856124207382), (3964, 0.006987589235139122), (3180, 0.006960722072010827), (3950, 0.006954936086555914), (3808, 0.006946695024505036), (3681, 0.006945555564516006), (4064, 0.0069407038267416754), (1040, 0.006940244456559776), (3371, 0.006930791360747077), (2806, 0.006929059533675744), (1786, 0.006881220679595168), (3529, 0.006875063921016395), (3424, 0.0068549041883638135), (2101, 0.006846700216254442), (1803, 0.0068327999579142484), (1806, 0.0068305403438605194), (1403, 0.006827139354836143), (3626, 0.0068173064729992565), (3202, 0.006802555116189095), (4652, 0.006791939524670046), (2324, 0.006784693883873241), (146, 0.006748817694085727), (3584, 0.006719369459621323), (4351, 0.006709572644515737), (1731, 0.006707814240893146), (405, 0.0067073862629364045), (3834, 0.006694346288380805), (2817, 0.006671469991730392), (2086, 0.0066636419495223415), (4315, 0.0066628218503720655), (2044, 0.0066458087024844105), (2550, 0.006644670617469779), (1648, 0.006635862241310223), (2566, 0.0066145817646156655), (474, 0.006574134052771195), (1955, 0.006571947572219537), (1718, 0.006558093714447664), (3513, 0.006555217192065069), (1881, 0.006544033383285198), (2249, 0.006543047821152734), (3061, 0.006541543727466226), (1445, 0.0065371163549743936), (3798, 0.0064898118636992925), (2794, 0.006477313289333427), (2816, 0.00647371195815488), (3648, 0.0064735930389759454), (2106, 0.006467864870758827), (671, 0.006460481844232276), (2519, 0.006453667999430517), (971, 0.006439983986149597), (2431, 0.006439318570736642), (110, 0.006394405142306816), (4702, 0.0063532634107994), (1302, 0.006345705722219589), (1956, 0.006328473895002178), (2335, 0.006311894894198105), (455, 0.006305429830173077), (736, 0.006298564886499332), (3034, 0.0062973260455046745), (1346, 0.006292357003023225), (347, 0.006277798640036514), (2472, 0.006276466901018027), (1804, 0.006275603378170151), (665, 0.0062705794994550815), (1566, 0.006261637117733418), (785, 0.00626032089568868), (4738, 0.0062537741175124955), (2026, 0.006251639858371495), (3594, 0.0062318958674325575), (2836, 0.006207974386892787), (1159, 0.006191844628208697), (1867, 0.0061789821077162955), (1126, 0.0061781430750950765), (1549, 0.006171632183409589), (983, 0.006144968024095828), (2973, 0.0061364711542770695), (3288, 0.006121629306495027), (3400, 0.006118648460228975), (2663, 0.00611672653901383), (618, 0.0061080141574237435), (1880, 0.006100066332621468), (328, 0.006076512083333102), (3375, 0.006065304379463509), (4229, 0.006048396586443174), (2693, 0.006048205552321293), (4252, 0.0060196905215486075), (2167, 0.006012141970824507), (4438, 0.005998342789325052), (2555, 0.005979783158754602), (2897, 0.005976122750900572), (1073, 0.005948267527281012), (1363, 0.005937789179938138), (1787, 0.005925849880914703), (859, 0.005914132850936749), (1256, 0.005907393386319402), (4012, 0.0059049111303325725), (2594, 0.005860268522404773), (1903, 0.0058527469793354615), (2170, 0.005850985350387702), (1746, 0.005839214338748652), (2699, 0.005837018124761322), (2992, 0.005833714364455422), (1180, 0.005827740570664177), (1778, 0.005827635003364024), (1457, 0.005826630755728865), (2866, 0.005822017991052988), (3753, 0.005763707145517953), (4322, 0.005728608524240703), (2007, 0.0057108487577478976), (3295, 0.005693747407744996), (1236, 0.005689949655904825), (1200, 0.0056868701430388986), (1935, 0.005679144979125042), (1816, 0.005639901566138298), (1061, 0.005632627646623472), (4437, 0.005627908373968082), (3933, 0.00557694417052829), (2156, 0.005571195013036217), (2161, 0.005571002100529066), (3598, 0.005538505669692483), (820, 0.005526708366424208), (3748, 0.00541335519306743), (2001, 0.005387538048995207), (4739, 0.005361600247180732), (2168, 0.005353962532102125), (3835, 0.0053517057336481795), (2006, 0.005335760773502616), (2855, 0.005305747578139049), (4144, 0.00526067043411243), (1883, 0.005158229873913488), (1530, 0.005123812730375359), (1019, 0.004989982916463469), (3325, 0.004697566791274761), (3205, 0.0046539182273742), (2671, 0.004595376085711066), (611, 0.004224276924331506), (2299, 0.0042044620301369745), (4571, 0.0041779455746671895), (3512, 0.004031732989301092), (2757, 0.004024270612885207), (2998, 0.003947196366600112), (4607, 0.003817972672999248), (2379, 0.003794508887235103), (2490, 0.003789581716322324), (4705, 0.0037591524484828567), (3051, 0.003750464829861815), (2768, 0.0037374641900780317), (3672, 0.003736114285695148), (2858, 0.0037267157039841386), (2137, 0.003726507671067057), (3139, 0.0037225294474218648), (2722, 0.003691023338863577), (2189, 0.0036907776802782783), (4202, 0.003676448784199035), (3040, 0.0036718025743014276), (2989, 0.0036636377716062875), (2251, 0.0036582648996124857), (2537, 0.0036068242238251704), (3119, 0.0036045602165831548), (4617, 0.003595993528406908), (3052, 0.003591288408784428), (3055, 0.003577745761464691), (2404, 0.003576157898317648), (4017, 0.00356793157671714), (627, 0.0035602289712151017), (3635, 0.0035547736495538536), (947, 0.003546681711953405), (4749, 0.003528553335700817), (4529, 0.0035252933505029297), (2484, 0.0035154930686798346), (2310, 0.003515382194019352), (4221, 0.0035153113418946364), (4484, 0.0035055407030887206), (2694, 0.0035023127535736545), (3939, 0.0035018655680270627), (2861, 0.0034850212877962834), (2932, 0.003476297740950216), (4172, 0.00347591698816796), (4696, 0.0034445394236351664), (4444, 0.0034441788082416065), (2628, 0.0034419158309734795), (3076, 0.0034409603851584336), (4407, 0.0034391324721525602), (2448, 0.0034337317253401857), (2392, 0.00343296621423641), (3292, 0.0034322766942890934), (3762, 0.0034253727722735106), (3892, 0.003417938859520856), (4423, 0.003409419857838731), (4019, 0.003408367720975072), (2425, 0.003407609482610499), (2255, 0.0033921804255728433), (2257, 0.003385119197742093), (3322, 0.0033838837075102312), (2645, 0.0033837256187860534), (3262, 0.003383082761936635), (2901, 0.0033757252310177223), (4230, 0.0033688810633554036), (2154, 0.003367800711612869), (4400, 0.0033517085273165295), (2530, 0.003341761101756549), (4102, 0.0033383511202870583), (3848, 0.003335706757101004), (4606, 0.003328629629001176), (2306, 0.003326515388479432), (3828, 0.003325213624034856), (4710, 0.003323439136287279), (2795, 0.003320406334747606), (3239, 0.0033148805982243495), (3128, 0.0033143324174431236), (2423, 0.0033135115455252325), (3354, 0.0033102646585692194), (526, 0.003306244108085089), (1711, 0.003297144757478984), (1121, 0.0032940432995975347), (3249, 0.003288441960762415), (4469, 0.003285084839133277), (3687, 0.003283965551936601), (4692, 0.0032820253631776295), (4521, 0.0032817976331263113), (4544, 0.0032799511409090576), (3638, 0.003278083539558851), (4612, 0.0032731736229436106), (4242, 0.0032663933331040307), (2557, 0.003260875235060129), (3159, 0.003254097607564904), (4107, 0.0032465743221746163), (3922, 0.0032457459525589848), (3613, 0.003243011200126424), (4660, 0.003242191336078694), (4724, 0.0032410982853255037), (3521, 0.0032391171799436387), (4572, 0.0032268658276470973), (3074, 0.0032258107795402895), (4209, 0.0032218383142270197), (4443, 0.003220894920411215), (2957, 0.003216623338866444), (2568, 0.003215666370079177), (3874, 0.0032151498148714187), (4723, 0.003214703856737855), (3031, 0.003211774340766378), (3832, 0.003209769925197422), (3123, 0.0032070450963308543), (2879, 0.003202023716242624), (3620, 0.003201623988231629), (4147, 0.00320145826381443), (3544, 0.003200476549320655), (2459, 0.003200232225211258), (3358, 0.003192014661020613), (3020, 0.0031918892981533547), (3228, 0.0031907940618773564), (1593, 0.003186329471473598), (1064, 0.0031854313908159246), (4062, 0.0031845704992429554), (3206, 0.0031811305827259624), (2778, 0.003179227555479201), (3779, 0.003174912746805082), (2454, 0.0031749018236593546), (2993, 0.0031712974481998), (3901, 0.003170882142598552), (1264, 0.003167134259991979), (2619, 0.003166278527561515), (1429, 0.0031608267718796204), (777, 0.0031600702582637746), (2895, 0.0031471404130417754), (3766, 0.0031354690733187474), (3675, 0.003134184845972163), (4701, 0.0031336389741033555), (949, 0.0031273948387492987), (4554, 0.00312539192108808), (4637, 0.003119874414020938), (4490, 0.003118095459645514), (2772, 0.003114550996200223), (4735, 0.0031112804255144), (475, 0.003106407385092385), (4023, 0.0031050085797141433), (2738, 0.0031027974308547018), (3763, 0.003098651560619974), (3935, 0.0030981826066607807), (2613, 0.003097481758194114), (4416, 0.0030948899732238626), (2378, 0.0030942357015896647), (3621, 0.0030938652496741766), (4694, 0.003089298099594198), (2406, 0.0030883792062671315), (2707, 0.0030858457187044634), (2417, 0.003078467183598465), (1748, 0.00307831635817291), (4030, 0.0030774488456656365), (4589, 0.0030774335073354433), (2846, 0.0030765000529485356), (3275, 0.0030730645500904904), (937, 0.0030718256213684418), (4477, 0.0030717212648798888), (4032, 0.0030679695094602976), (4075, 0.003067912154046754), (3951, 0.003067886304205704), (3540, 0.0030666104387593045), (2142, 0.0030664618829355102), (3019, 0.0030607816767110494), (4126, 0.0030595088230441336), (3884, 0.0030590902207228883), (3307, 0.0030541393073717344), (3450, 0.0030536111322450317), (1947, 0.0030522140511126256), (3754, 0.0030491754660609896), (4163, 0.0030483133306835825), (4203, 0.0030476906865678326), (3729, 0.0030470715993658323), (860, 0.0030463573486892467), (4398, 0.003038164012538727), (3230, 0.0030354439629788578), (2987, 0.003035371997204528), (2884, 0.003035166121137864), (3419, 0.003034243293624778), (1275, 0.003033773364283394), (3337, 0.0030337530573283063), (3396, 0.00303270945634908), (823, 0.003030613987272668), (2403, 0.0030303627184768474), (3355, 0.0030248699580422006), (925, 0.003023202094796351), (508, 0.003023193798605224), (2625, 0.003020773853481641), (4267, 0.0030190953712127782), (2478, 0.0030183065879754688), (614, 0.0030166859646166785), (1656, 0.0030144156750817317), (4465, 0.0030133225241116813), (721, 0.003012567632105327), (4244, 0.0030121259290808544), (3903, 0.0030115940109498324), (2796, 0.0030089356640049716), (3423, 0.0030084570457126103), (3651, 0.0030077628440767414), (1924, 0.0030037722029498818), (876, 0.0030010667904149485), (1497, 0.0030006874751185657), (3661, 0.0029986531867993885), (4753, 0.0029980781294098573), (3883, 0.002997045221946777), (3772, 0.002992083649438971), (2223, 0.002989482813922318), (2346, 0.002989438726802976), (2638, 0.00298736705764642), (2437, 0.002984331529491727), (4187, 0.0029833166068544263), (1843, 0.0029821287862705167), (107, 0.0029820056062282154), (3186, 0.0029812191464426907), (3960, 0.0029807577164959027), (2881, 0.0029778009635865197), (2411, 0.002977203236061749), (4731, 0.00297687027674624), (2623, 0.0029765111099428637), (3043, 0.0029764235550310413), (2936, 0.002976337060790925), (478, 0.002975644256203655), (4092, 0.002975426366407134), (2400, 0.0029738263509069378), (3680, 0.0029731733755582065), (3992, 0.002972049178907631), (1148, 0.0029686023832705406), (281, 0.0029681609101141694), (1383, 0.002967977535418016), (235, 0.0029676561967262073), (1349, 0.0029624979438402327), (3587, 0.0029617768045208433), (419, 0.002961232718916748), (3373, 0.002959280792964922), (533, 0.0029572504496699482), (3962, 0.002952921964508741), (3822, 0.0029521904030022006), (922, 0.0029498541630060453), (1716, 0.0029486879381193246), (2903, 0.002948530248168243), (3196, 0.0029483173250766086), (4160, 0.0029478908460873546), (3012, 0.0029477914443128304), (2579, 0.002947129954381283), (596, 0.0029459516110561085), (2916, 0.002945057282688996), (1862, 0.002944657842121816), (1499, 0.0029432544298283944), (3032, 0.0029429918426435438), (4535, 0.0029428451654596247), (4396, 0.002941630734971396), (2134, 0.0029409292019608253), (2436, 0.002938630463249225), (3593, 0.0029350391713852965), (701, 0.002934975493146358), (458, 0.0029337374053971742), (2840, 0.002932452129184215), (729, 0.002931915246439347), (3877, 0.0029273935607510137), (2209, 0.002927131932019963), (2782, 0.0029267926378833027), (3157, 0.0029264998117322434), (4397, 0.0029261680378595565), (4593, 0.002923648605022127), (1498, 0.0029230739071518133), (4706, 0.002921074462747753), (3003, 0.002920766573433694), (2854, 0.002920040249140589), (1923, 0.002920035575865204), (2505, 0.0029199687885009136), (1890, 0.002917448236522463), (3062, 0.0029149524276773733), (888, 0.0029140072979292335), (4531, 0.002913835421887062), (1658, 0.002910939432675842), (2592, 0.002910754097154427), (4551, 0.0029097780612562726), (3967, 0.002906533334625021), (3026, 0.0029048962158055103), (2176, 0.002902484046615121), (3961, 0.0029020520249854547), (2112, 0.002901963277163823), (2428, 0.0029016075481793605), (715, 0.0029013611112194584), (1580, 0.0029012824739269847), (371, 0.002893204888096524), (3924, 0.002890233067066482), (4602, 0.0028847222649454143), (2464, 0.002883590519089154), (4308, 0.0028833501847789753), (1733, 0.002882870782420142), (4046, 0.002882373899603229), (4048, 0.0028783461206697645), (123, 0.0028766064156860753), (253, 0.002874620971358793), (3714, 0.002873862307346538), (4130, 0.002873758679335303), (1043, 0.0028732321492589354), (4140, 0.0028727676358355106), (3497, 0.0028727371039720157), (896, 0.002872268594099535), (673, 0.0028692047306819934), (3813, 0.0028687880102836053), (4732, 0.0028677458052563036), (675, 0.002867296900664258), (4133, 0.002866909725454779), (3749, 0.0028667616043974407), (4116, 0.002866484795706627), (3044, 0.0028660058619245856), (2293, 0.0028659430339459816), (2037, 0.002865352737918192), (4522, 0.002865295629406186), (1805, 0.0028646212671306895), (4669, 0.002863610304552894), (499, 0.0028613316254708595), (2097, 0.0028611522411438996), (3064, 0.0028609449234098003), (3516, 0.002859497834002269), (4087, 0.002858192400982245), (2507, 0.0028561562893801413), (4528, 0.0028553724472376173), (1325, 0.002849800088125947), (2888, 0.0028481009493855746), (3771, 0.0028478113009107013), (3694, 0.0028454579406586027), (4545, 0.0028452642538019583), (3269, 0.0028440915175349155), (952, 0.0028421935364988035), (1015, 0.0028421509943184074), (1874, 0.0028414668296746037), (4734, 0.002841413264625043), (3704, 0.002841312345474996), (4024, 0.002839327531876609), (3757, 0.0028362114688221473), (728, 0.00283582360630766), (4579, 0.002834008144306242), (210, 0.0028336761060168024), (3692, 0.002830933443196634), (1848, 0.0028303676809456144), (1907, 0.002830129505558831), (4132, 0.0028300981434433727), (4161, 0.0028285580487917676), (3112, 0.002827265974509099), (1995, 0.0028271907262241262), (4540, 0.0028251328143403883), (4245, 0.0028249006843880926), (1708, 0.002823950050617829), (3095, 0.0028227586364224793), (991, 0.0028223117070700974), (2254, 0.002821441807595933), (4269, 0.00282022831066008), (3781, 0.0028171258131986132), (2786, 0.0028156377994118893), (4574, 0.0028151990967552583), (4111, 0.0028146678265817847), (1683, 0.002813541264701588), (1409, 0.0028128360954772), (4431, 0.0028118287938284224), (21, 0.002811687143870623), (3728, 0.0028115613023250337), (3873, 0.002811415143115916), (4680, 0.0028111846499505187), (1712, 0.002810407448495144), (1141, 0.002809811087610662), (2964, 0.0028096138319129967), (4005, 0.002809438348140872), (2712, 0.0028092268964520083), (3007, 0.0028088589222269498), (1119, 0.002807166949630464), (2393, 0.0028058794896028494), (826, 0.002804077019759411), (2970, 0.00280250103421272), (2096, 0.002802443877008437), (4355, 0.00280104195598242), (3987, 0.00280034153102981), (3973, 0.0027993530262007777), (680, 0.0027961672882242474), (3590, 0.0027929255403861698), (208, 0.0027913822449867065), (1896, 0.002789257982369667), (206, 0.002789068069899391), (2361, 0.002788851127053162), (3084, 0.002788614658241656), (4489, 0.0027885700600655586), (68, 0.00278845949360782), (4471, 0.002788149535180612), (4054, 0.00278793081449911), (1687, 0.0027877130940376768), (2418, 0.0027869924887016016), (3618, 0.0027869752059602273), (2792, 0.0027855533257945997), (3483, 0.002783822469413622), (1853, 0.002783030471695325), (2953, 0.0027830068971914), (2288, 0.00278106409176434), (2849, 0.0027796255504980065), (4123, 0.0027761540591247596), (483, 0.0027760559985697056), (1822, 0.0027754970536745948), (4, 0.002774169774060401), (4033, 0.0027737855762728666), (1225, 0.0027737131398962683), (1400, 0.002771525568945388), (1916, 0.0027706953520271775), (2394, 0.0027704539442017537), (4474, 0.0027683933792763747), (1007, 0.0027679510755848186), (3187, 0.002766841317251721), (1570, 0.0027651145762208904), (1902, 0.0027636193371026446), (2419, 0.0027623007535966105), (3372, 0.0027613398536547812), (1643, 0.0027603408748562855), (716, 0.002757133283026518), (4624, 0.002757076800072778), (173, 0.002755594420604255), (429, 0.00275552959806195), (2088, 0.002754687301617031), (1439, 0.0027529337952860826), (4430, 0.0027528086615737288), (4497, 0.002752704448016631), (3437, 0.0027524833214378434), (1736, 0.002752459781369182), (3150, 0.0027509100155926605), (4354, 0.002750480722753663), (2926, 0.0027497136292533634), (3770, 0.002749459503595534), (580, 0.002747464953496853), (1660, 0.0027471281327925466), (1006, 0.002746899770832568), (3862, 0.0027459810349768463), (4448, 0.0027458238043097955), (4083, 0.0027449723492332296), (1224, 0.0027445967802608687), (482, 0.0027443391862315867), (3382, 0.0027435345192567064), (2561, 0.002743041210279182), (4629, 0.002742813835964375), (4419, 0.0027410010259416736), (2545, 0.0027392757233800366), (2370, 0.002739232154922593), (1513, 0.002738901757826557), (3224, 0.0027373782085819715), (2546, 0.0027370961273967733), (1083, 0.002735630003825212), (884, 0.002735493570678697), (4361, 0.0027354666046155215), (3353, 0.002733465042058545), (1048, 0.0027322277147426616), (3666, 0.0027299875182454562), (2016, 0.002729496303494589), (3536, 0.0027280934389328935), (3349, 0.0027278016861260043), (987, 0.002727100163084738), (2148, 0.0027252066503051986), (4379, 0.0027241578823014897), (3959, 0.002723214148577614), (637, 0.0027227084470683514), (11, 0.0027226981423901873), (3517, 0.002722350399289885), (2123, 0.002721447074518705), (1703, 0.002720379701364741), (3689, 0.002719560875877064), (1765, 0.002719342463981017), (4340, 0.0027193199310836373), (3527, 0.002717842494351103), (4334, 0.0027174731249052357), (980, 0.0027174027368096947), (2919, 0.002716157944512601), (2053, 0.002714494958285483), (806, 0.002713327970883353), (4249, 0.002712842272764999), (3623, 0.002712297571031663), (2126, 0.0027115164523794874), (4470, 0.0027107340397346624), (3636, 0.002709553967560466), (1494, 0.0027086339404378233), (3153, 0.0027074449155491003), (2334, 0.0027062193435683827), (2668, 0.002705308163608243), (3233, 0.0027048698426763826), (631, 0.0027033702487060367), (743, 0.002701799524761203), (176, 0.002701668008645821), (2321, 0.002701310283692833), (3016, 0.002699171247231747), (1334, 0.0026990708181172363), (509, 0.0026963525823270307), (4563, 0.0026961099270206125), (4098, 0.0026951026343187247), (1254, 0.0026946826788839884), (3445, 0.002692693931286069), (1355, 0.0026924909534092756), (4273, 0.0026905540013516917), (3542, 0.0026901197058188248), (652, 0.0026893238529262084), (3571, 0.002688566834071805), (1174, 0.002687888052439457), (2784, 0.0026873998577097175), (3699, 0.0026855087009036464), (933, 0.0026851960075465345), (1176, 0.002683859863436049), (1182, 0.002682552363660109), (593, 0.0026817559962660138), (3113, 0.0026817047286793465), (238, 0.002681654000094813), (1688, 0.002681079330763506), (3653, 0.002680173892327057), (4283, 0.0026801151140485044), (2073, 0.0026796481387264845), (2292, 0.0026778770088016542), (850, 0.0026766757237857543), (3707, 0.0026759836822447865), (832, 0.002673382764717539), (3501, 0.002672616551020653), (2295, 0.0026710570179334088), (3643, 0.002671051567622446), (353, 0.002670339847300485), (4049, 0.00266840932609944), (1413, 0.0026683763497035553), (544, 0.0026681437583338952), (4135, 0.0026665478600800675), (4004, 0.002666425606207255), (2091, 0.002665850040693758), (4255, 0.0026653334690517993), (2277, 0.0026652426507476645), (2887, 0.0026641215168997753), (2061, 0.002663040830848502), (2647, 0.0026629836357487217), (4014, 0.002660278732453609), (1138, 0.0026596747266325357), (1872, 0.0026592817366473), (3739, 0.00265816033995875), (4677, 0.0026574683369814584), (4391, 0.002657119077471305), (864, 0.002656775432694643), (4501, 0.0026563644571076586), (1335, 0.0026554344656912142), (1574, 0.0026532668413039536), (1706, 0.0026532012676457415), (2396, 0.002653150954033843), (4266, 0.0026530998560819435), (209, 0.002653072205674115), (2554, 0.002652412623424074), (3210, 0.0026520996226664325), (3670, 0.0026517323887549054), (3227, 0.0026510435577542183), (628, 0.002650873495996601), (2109, 0.002650361651468966), (2192, 0.0026478013579943516), (2606, 0.0026474131699313038), (3155, 0.002647240311292898), (3436, 0.002646159252232971), (2783, 0.0026460064044457384), (104, 0.002645853260616735), (4686, 0.0026452840801921744), (2067, 0.002645062407881977), (2533, 0.0026444352032798948), (4081, 0.0026438070125526306), (4604, 0.0026434565044192305), (2284, 0.0026434406550316903), (2826, 0.0026432940098036015), (3125, 0.002642241519328992), (1191, 0.002639623996269383), (3491, 0.0026395767381200697), (1223, 0.0026394241545165697), (1131, 0.002638029139001626), (1488, 0.002635865209937468), (4640, 0.0026341171126088025), (1385, 0.002632561306113149), (2695, 0.0026324979808490367), (749, 0.002630835149942116), (4330, 0.002630720845935544), (1304, 0.002630128235574748), (761, 0.0026296450761056664), (3478, 0.0026292607177708974), (2495, 0.0026290221601839602), (226, 0.0026288941458059677), (986, 0.002627247577238475), (479, 0.002626149967005915), (1163, 0.002624620529193268), (66, 0.00262412589563759), (2387, 0.002623537009367428), (280, 0.0026223801033106345), (3346, 0.002622265286874733), (3174, 0.002622235177813084), (4016, 0.002622015825021023), (2900, 0.002620893572882148), (3330, 0.0026203005031451357), (1021, 0.0026189566405041484), (1112, 0.002618741678584875), (4268, 0.002618635782902957), (3673, 0.002618606258342417), (3216, 0.0026164294754195383), (689, 0.0026148337677264007), (1678, 0.0026142328266442116), (4409, 0.002613700777212821), (3299, 0.0026126393328134595), (346, 0.002612598399749321), (2289, 0.0026110475694366645), (1102, 0.0026094826951569114), (3374, 0.002609328222812363), (1483, 0.0026088612172476284), (4000, 0.0026079443542180885), (3441, 0.0026076594540676177), (105, 0.002607605078743637), (3727, 0.0026068824090969924), (1891, 0.0026064413807640975), (2174, 0.0026061585238275524), (1252, 0.002604968365683531), (3624, 0.0026048907486515725), (4520, 0.002602792953888328), (348, 0.0026027396354182603), (2060, 0.0026025566176780235), (3888, 0.002601511706818646), (247, 0.002599675553904204), (2569, 0.002598017722593259), (3381, 0.002597859302828585), (4228, 0.0025975623979104787), (1598, 0.0025954548428591896), (1621, 0.002591977179928539), (2416, 0.0025913296699763924), (1257, 0.002590890412448789), (4668, 0.0025906986234543725), (3173, 0.0025893284986244864), (2173, 0.0025890633031371607), (2961, 0.002588024640528216), (3093, 0.0025875550641349322), (2946, 0.0025875247173208844), (3195, 0.002587436253009887), (3647, 0.002586848423565046), (989, 0.0025860696575209802), (1338, 0.0025859923417875645), (1100, 0.002585740385345468), (2463, 0.0025844457171746815), (727, 0.002583192589790968), (4685, 0.002581340415670076), (4284, 0.002579788155746573), (119, 0.002579537090456534), (2980, 0.002578628981561171), (3557, 0.0025783168679522133), (3827, 0.0025779227682508105), (3379, 0.0025777430911567262), (2216, 0.002576810654977344), (1882, 0.0025761079122454877), (4362, 0.0025744451786530436), (1527, 0.0025731779588912484), (26, 0.0025725872867506908), (2910, 0.0025725101263002086), (4530, 0.002571392724755776), (2226, 0.002570947885920442), (870, 0.002570933785560528), (4687, 0.0025708773547767324), (3069, 0.002567598776311576), (2632, 0.002567452561273425), (1617, 0.002566839563510248), (3719, 0.0025662997566389977), (3706, 0.0025659662838813362), (4743, 0.0025654166059521375), (446, 0.0025648579864343043), (3412, 0.0025642730947375804), (1653, 0.0025639681825393766), (799, 0.002563122306605297), (2698, 0.002561691603891791), (2103, 0.0025601759131191923), (1096, 0.0025579039795451215), (4395, 0.0025578558391195195), (2008, 0.002556935228209058), (1017, 0.0025555834245331696), (2401, 0.0025552841583619344), (755, 0.0025551829809664773), (1035, 0.0025542557016244253), (1967, 0.0025542451579463076), (3765, 0.0025540141394360086), (4693, 0.0025539830921191132), (4576, 0.002553744653038031), (1813, 0.0025526034045959723), (3370, 0.002552134786636784), (4550, 0.002548903813566562), (4573, 0.0025488414995476004), (4673, 0.0025465559123599053), (1671, 0.0025455652605356786), (4129, 0.002544934140032978), (3348, 0.002544486259012583), (817, 0.0025443753707457576), (4382, 0.002542396458314451), (3028, 0.0025407734380421838), (2080, 0.002540332375575148), (167, 0.002540014532799797), (4336, 0.0025396337871701003), (4069, 0.002539578268930375), (3641, 0.002539278968554097), (651, 0.0025384172908874225), (87, 0.0025381445741150385), (4504, 0.002537625655242661), (1969, 0.002537364973547488), (19, 0.002536770270503885), (3696, 0.0025355918641475216), (3660, 0.0025354815225173463), (1597, 0.0025327339212536815), (112, 0.0025312734810151996), (4461, 0.002531152534611569), (3917, 0.0025292108626214596), (646, 0.002528429287693246), (3900, 0.0025282697529491363), (3487, 0.002527941771332288), (4658, 0.002527719221025273), (396, 0.0025266242464290524), (4729, 0.002525538065375029), (3503, 0.0025211962919007872), (18, 0.0025211604582762092), (1446, 0.0025196115625364265), (4670, 0.0025185702570278286), (3504, 0.0025183590179042167), (2024, 0.0025177616355006073), (487, 0.002516928663380088), (2752, 0.002514753462341818), (2141, 0.0025130824886081963), (4567, 0.0025128847707119317), (1416, 0.0025125503005855774), (2309, 0.0025116072379504505), (4614, 0.002511405502313051), (854, 0.0025092378670641714), (798, 0.002509099065216807), (1877, 0.0025089449616909733), (3122, 0.0025082293999505708), (3978, 0.0025078376698581856), (2540, 0.0025058829593403893), (1001, 0.0025058816984434244), (3390, 0.00250512365579174), (3151, 0.0025045514498432658), (3733, 0.002504117381303903), (2473, 0.00250401979812293), (2121, 0.002503090945108303), (3035, 0.0025030296797132535), (3784, 0.002502612556714169), (4085, 0.002502457559184007), (3171, 0.0025010585207084312), (4213, 0.002500135878447085), (3036, 0.0024997429981549056), (1123, 0.002498818664322008), (505, 0.0024977410493216812), (4206, 0.002497488172308619), (4428, 0.0024966131567091547), (1160, 0.002495597725083978), (437, 0.0024948013838087995), (3799, 0.0024923237131831), (911, 0.0024909127794791497), (4246, 0.0024894579816310066), (3293, 0.002488577234859109), (2679, 0.0024879792494311883), (4124, 0.002487859895053023), (203, 0.0024877887537678106), (2651, 0.002487585437602583), (1404, 0.0024853455394993457), (2997, 0.0024851315891179435), (2800, 0.0024840708514840986), (828, 0.0024837186232306192), (1032, 0.0024833485128848438), (3819, 0.002482511583447436), (3734, 0.0024798447436411943), (1036, 0.002479777258639194), (387, 0.0024796969825785047), (276, 0.0024790946738401302), (2972, 0.002478330024153567), (4257, 0.002476833094741446), (2166, 0.002476186402721824), (2023, 0.0024759557299534325), (3615, 0.0024759429803780817), (507, 0.0024687964956762276), (4254, 0.0024687473653265957), (1041, 0.002468015018617348), (287, 0.0024670783700600544), (3057, 0.0024665104245486084), (903, 0.0024645792071415463), (140, 0.002462898844445843), (941, 0.0024625582405124902), (734, 0.002462373766275735), (1620, 0.0024585032833737866), (2552, 0.0024581859725945733), (1206, 0.0024578642455767084), (2099, 0.0024575085141776394), (1884, 0.0024574822746135905), (2634, 0.0024567312385126066), (3399, 0.002456417356710786), (3452, 0.0024517262218880396), (229, 0.0024512365212731963), (2862, 0.0024503266440409274), (598, 0.002449735511582838), (3725, 0.0024481456193850087), (1555, 0.0024476436555976363), (1433, 0.002446102201060454), (935, 0.00244553898759947), (2446, 0.0024420400032432394), (868, 0.0024411605843379855), (1183, 0.00244047220130087), (1456, 0.002440443736277802), (2556, 0.0024380005900362274), (3120, 0.002434228192496358), (1642, 0.002433411687794085), (1514, 0.002433290390454402), (766, 0.0024327829916459703), (2317, 0.00243276850904949), (3627, 0.002432729769157895), (2868, 0.0024325473189269176), (3854, 0.0024313964783066184), (1519, 0.0024313510099020453), (4402, 0.002431189821487864), (1920, 0.0024310441533809024), (1760, 0.0024309156188055563), (4616, 0.002428785956129779), (2735, 0.0024275888555940397), (3369, 0.0024252309263592346), (1477, 0.002425116819267256), (558, 0.0024244828331969055), (324, 0.002423340586565564), (590, 0.002423288315419958), (1667, 0.00242314051125599), (1357, 0.0024229821306391954), (1114, 0.0024217089759396263), (1814, 0.0024208932138736743), (2674, 0.0024202949612732796), (4282, 0.002420249201533843), (604, 0.002418101796907423), (4348, 0.0024179223738519705), (829, 0.0024153088510590146), (4649, 0.002414603307912714), (3455, 0.0024141684478615247), (3876, 0.0024134834925204343), (359, 0.002412882038367783), (1308, 0.0024122374850641163), (4326, 0.002410556265859695), (416, 0.0024093782068961376), (4277, 0.0024082796072231365), (1672, 0.002406925449718927), (2920, 0.002405669239637833), (3742, 0.0024016196907581467), (4502, 0.002401371947527303), (124, 0.0024008062888452347), (2954, 0.002400732648561542), (1796, 0.0023989506890439993), (4638, 0.002398410060999856), (199, 0.0023973946265323943), (1730, 0.002397060238283465), (934, 0.002396247988727262), (759, 0.0023938583983721786), (2803, 0.002392729774693959), (3953, 0.0023922508785083753), (3278, 0.0023907391331608055), (1680, 0.0023878796918621313), (1892, 0.002387483504223932), (1538, 0.002386548365978812), (3418, 0.002386083012082454), (2236, 0.002385863029812501), (4053, 0.0023857662345346978), (3267, 0.00238571891419144), (2055, 0.002382961835374165), (968, 0.002381714702554598), (3705, 0.002379170277990815), (473, 0.0023787080729438747), (3311, 0.002378380110002231), (1826, 0.002377535341059055), (1387, 0.002373539714149167), (1161, 0.0023734063529093725), (581, 0.002369379391594312), (2741, 0.0023673510359064065), (3974, 0.0023664834283370446), (3027, 0.002365960689870847), (3986, 0.0023656932528592404), (1000, 0.0023648557557745167), (4475, 0.0023643532664967756), (1625, 0.0023642583843113017), (1739, 0.0023640924249319103), (2248, 0.0023637557263785918), (597, 0.002363494563164065), (3863, 0.002362644216267611), (722, 0.002362492324447898), (2065, 0.0023621762566374545), (3108, 0.002359815911734165), (158, 0.002358454925290481), (1980, 0.0023582548044571027), (1808, 0.0023579993930753092), (2191, 0.002357972855473199), (3841, 0.0023578736502615893), (3801, 0.0023556294914980273), (2976, 0.002355300026943511), (4590, 0.0023543457345530138), (917, 0.002353426216069509), (3556, 0.002350897991402744), (594, 0.0023500727504266765), (2580, 0.0023480146725842104), (1934, 0.002347661476650099), (732, 0.002347135208825781), (1414, 0.0023456192212343865), (268, 0.0023450367117141377), (672, 0.0023445090845904664), (2724, 0.002336349380018282), (2587, 0.002333273443831255), (4608, 0.002333211770960876), (1009, 0.002332480780426532), (4661, 0.0023306103995368566), (252, 0.0023289511750264526), (4343, 0.0023256189332929353), (495, 0.0023254761605415323), (3755, 0.0023237186846008758), (2047, 0.0023233797348515394), (712, 0.0023229290518843658), (519, 0.0023214926101554935), (1608, 0.0023207988131190515), (184, 0.002315278400318466), (222, 0.002314165513577634), (4679, 0.002311531496514028), (4066, 0.0023089882610878494), (1186, 0.002308645339128708), (97, 0.0023073502172923873), (3894, 0.002305913147728422), (249, 0.0023058429798780973), (851, 0.0023033223477070316), (317, 0.00230223624055014), (4432, 0.0023013163553569564), (1301, 0.002297046046985414), (3880, 0.0022938718195892856), (1943, 0.0022885174118269726), (4232, 0.002285769737397485), (2721, 0.002284598115736602), (2692, 0.002283153078480931), (4429, 0.0022828743017805344), (1465, 0.002279510599050366), (2520, 0.0022792532400434944), (4748, 0.002277111245893517), (3211, 0.0022764589424603882), (242, 0.0022764187325504184), (2942, 0.002275152604992437), (147, 0.002274731141380243), (1397, 0.0022736867807720954), (165, 0.002272889128472013), (2270, 0.0022717229260490147), (642, 0.0022710549837167008), (1828, 0.0022686848547464333), (4386, 0.00226761859444036), (874, 0.002267405381400188), (1370, 0.00226706567131584), (1450, 0.0022657855933528653), (364, 0.0022619614178882187), (3393, 0.0022613014611074), (3629, 0.002258039701873038), (286, 0.0022562131302075353), (269, 0.002256078248789942), (4627, 0.002256071961238487), (3569, 0.002254254672088847), (2743, 0.002254226005426541), (251, 0.0022535391630626477), (1088, 0.0022475911555031865), (4344, 0.0022475262534879244), (2146, 0.0022469456911981055), (3376, 0.0022451940603031907), (496, 0.0022447254284774375), (190, 0.0022437045800786253), (1050, 0.0022399271968084064), (1352, 0.0022333885965033413), (3065, 0.0022332758526859937), (2758, 0.0022330034461059407), (3855, 0.002230955374678938), (1971, 0.0022285513267844043), (267, 0.002228141871860541), (3668, 0.002225456003144965), (175, 0.002220154072781662), (1312, 0.0022188218922422906), (3657, 0.0022187885213382818), (2076, 0.0022175110621970957), (196, 0.0022084178469653727), (3347, 0.002206769882264845), (3821, 0.0022050111653324103), (3091, 0.002200724004691074), (3928, 0.0021962509091351203), (1042, 0.002195911167561484), (4733, 0.0021938168506982847), (2985, 0.0021930917927711303), (16, 0.002191450980756835), (1209, 0.002191023952538646), (3252, 0.002190840269991169), (1078, 0.0021895980028767852), (3430, 0.0021885076861118623), (3927, 0.00218845680942723), (2602, 0.002181622755253499), (2969, 0.0021806737378598107), (442, 0.0021801067993601994), (4200, 0.002173838582511069), (1571, 0.0021737708740596057), (4015, 0.0021688824557615114), (3957, 0.002167160068157907), (2034, 0.0021661720924476342), (3548, 0.0021621626904665915), (1241, 0.00216145105530272), (3317, 0.0021535007608143053), (2697, 0.0021524645304290325), (1369, 0.002151966748411116), (3756, 0.0021506795221080096), (1098, 0.0021440027189150034), (1037, 0.002138802747506974), (942, 0.00213749595706517), (4744, 0.0021314163498339844), (4626, 0.0021257307342191552), (1377, 0.0021209392088209493), (1303, 0.002119858023713432), (953, 0.0021169595434164254), (4674, 0.0021117354791233426), (3431, 0.002111369327146945), (2925, 0.0021110181655365173), (3538, 0.002096480343863149), (1886, 0.002089788488315953), (527, 0.0020814884417943054), (2010, 0.0020763603454864296), (3301, 0.0020589261855245263), (159, 0.0020577864531722196), (1417, 0.0020523826121802446), (3152, 0.002051740323819565), (2767, 0.002051272447489368), (3199, 0.002036075932877561), (571, 0.0020271961846277634), (3316, 0.002022502745730732), (453, 0.002010504844632852), (1005, 0.0020096638570438114), (1774, 0.0020075480685404815), (351, 0.002005959002989043), (82, 0.0019952186234083675), (4182, 0.001994771582642457), (1861, 0.001992951437697114), (228, 0.001991275734888326), (3645, 0.0019817836198264926), (452, 0.00198027159943822), (2636, 0.001973947951276187), (4445, 0.001973806627167714), (296, 0.001970570192342395), (1277, 0.0019661698851362298), (4301, 0.001950701133170684), (1471, 0.0019497523058561999), (2902, 0.0019337455965518938), (7, 0.0018887572393080081), (4752, 0.0018833527055443192), (293, 0.0018694708639812288), (3365, 0.001854160225320599), (243, 0.001851075398196732), (542, 0.001843754784882498), (330, 0.0018167085218627557), (1509, 0.0017961724967690633), (858, 0.0017752666062709431), (24, 0.0017172369481940756), (3608, 0.0017125640171328656), (0, 0.0), (1, 0.0), (9, 0.0), (10, 0.0), (14, 0.0), (17, 0.0), (30, 0.0), (37, 0.0), (38, 0.0), (40, 0.0), (42, 0.0), (47, 0.0), (53, 0.0), (54, 0.0), (55, 0.0), (56, 0.0), (57, 0.0), (58, 0.0), (69, 0.0), (72, 0.0), (75, 0.0), (76, 0.0), (77, 0.0), (80, 0.0), (81, 0.0), (83, 0.0), (90, 0.0), (93, 0.0), (94, 0.0), (95, 0.0), (101, 0.0), (102, 0.0), (118, 0.0), (125, 0.0), (131, 0.0), (133, 0.0), (137, 0.0), (138, 0.0), (139, 0.0), (143, 0.0), (145, 0.0), (150, 0.0), (151, 0.0), (153, 0.0), (155, 0.0), (162, 0.0), (170, 0.0), (171, 0.0), (177, 0.0), (179, 0.0), (180, 0.0), (181, 0.0), (185, 0.0), (187, 0.0), (191, 0.0), (201, 0.0), (207, 0.0), (214, 0.0), (220, 0.0), (223, 0.0), (230, 0.0), (231, 0.0), (232, 0.0), (233, 0.0), (234, 0.0), (245, 0.0), (250, 0.0), (259, 0.0), (260, 0.0), (261, 0.0), (273, 0.0), (284, 0.0), (289, 0.0), (290, 0.0), (295, 0.0), (297, 0.0), (298, 0.0), (299, 0.0), (300, 0.0), (301, 0.0), (305, 0.0), (306, 0.0), (311, 0.0), (313, 0.0), (314, 0.0), (315, 0.0), (316, 0.0), (320, 0.0), (321, 0.0), (323, 0.0), (327, 0.0), (331, 0.0), (333, 0.0), (337, 0.0), (338, 0.0), (339, 0.0), (340, 0.0), (344, 0.0), (345, 0.0), (352, 0.0), (360, 0.0), (361, 0.0), (362, 0.0), (363, 0.0), (365, 0.0), (367, 0.0), (369, 0.0), (379, 0.0), (380, 0.0), (381, 0.0), (382, 0.0), (383, 0.0), (384, 0.0), (386, 0.0), (391, 0.0), (392, 0.0), (394, 0.0), (404, 0.0), (413, 0.0), (414, 0.0), (417, 0.0), (420, 0.0), (421, 0.0), (423, 0.0), (425, 0.0), (435, 0.0), (439, 0.0), (451, 0.0), (454, 0.0), (459, 0.0), (460, 0.0), (461, 0.0), (462, 0.0), (467, 0.0), (468, 0.0), (477, 0.0), (486, 0.0), (491, 0.0), (494, 0.0), (498, 0.0), (501, 0.0), (503, 0.0), (512, 0.0), (513, 0.0), (514, 0.0), (516, 0.0), (523, 0.0), (525, 0.0), (536, 0.0), (539, 0.0), (540, 0.0), (545, 0.0), (546, 0.0), (548, 0.0), (549, 0.0), (550, 0.0), (552, 0.0), (553, 0.0), (554, 0.0), (555, 0.0), (556, 0.0), (557, 0.0), (559, 0.0), (560, 0.0), (561, 0.0), (568, 0.0), (569, 0.0), (570, 0.0), (572, 0.0), (574, 0.0), (585, 0.0), (591, 0.0), (592, 0.0), (595, 0.0), (599, 0.0), (600, 0.0), (601, 0.0), (603, 0.0), (610, 0.0), (615, 0.0), (625, 0.0), (632, 0.0), (635, 0.0), (640, 0.0), (662, 0.0), (663, 0.0), (664, 0.0), (666, 0.0), (667, 0.0), (674, 0.0), (678, 0.0), (681, 0.0), (682, 0.0), (685, 0.0), (687, 0.0), (690, 0.0), (692, 0.0), (695, 0.0), (702, 0.0), (711, 0.0), (713, 0.0), (718, 0.0), (723, 0.0), (724, 0.0), (738, 0.0), (748, 0.0), (752, 0.0), (762, 0.0), (763, 0.0), (765, 0.0), (770, 0.0), (771, 0.0), (772, 0.0), (775, 0.0), (776, 0.0), (778, 0.0), (779, 0.0), (780, 0.0), (781, 0.0), (789, 0.0), (790, 0.0), (793, 0.0), (803, 0.0), (809, 0.0), (812, 0.0), (822, 0.0), (825, 0.0), (827, 0.0), (833, 0.0), (834, 0.0), (835, 0.0), (837, 0.0), (839, 0.0), (840, 0.0), (841, 0.0), (842, 0.0), (849, 0.0), (862, 0.0), (869, 0.0), (881, 0.0), (882, 0.0), (904, 0.0), (905, 0.0), (906, 0.0), (912, 0.0), (913, 0.0), (914, 0.0), (915, 0.0), (916, 0.0), (920, 0.0), (928, 0.0), (931, 0.0), (932, 0.0), (943, 0.0), (945, 0.0), (954, 0.0), (964, 0.0), (965, 0.0), (970, 0.0), (978, 0.0), (990, 0.0), (992, 0.0), (995, 0.0), (996, 0.0), (1003, 0.0), (1011, 0.0), (1012, 0.0), (1014, 0.0), (1016, 0.0), (1022, 0.0), (1024, 0.0), (1028, 0.0), (1029, 0.0), (1031, 0.0), (1045, 0.0), (1046, 0.0), (1051, 0.0), (1055, 0.0), (1056, 0.0), (1058, 0.0), (1066, 0.0), (1069, 0.0), (1070, 0.0), (1076, 0.0), (1081, 0.0), (1082, 0.0), (1089, 0.0), (1090, 0.0), (1091, 0.0), (1093, 0.0), (1095, 0.0), (1097, 0.0), (1099, 0.0), (1104, 0.0), (1105, 0.0), (1111, 0.0), (1113, 0.0), (1115, 0.0), (1116, 0.0), (1118, 0.0), (1125, 0.0), (1127, 0.0), (1128, 0.0), (1129, 0.0), (1134, 0.0), (1135, 0.0), (1137, 0.0), (1142, 0.0), (1146, 0.0), (1147, 0.0), (1149, 0.0), (1150, 0.0), (1151, 0.0), (1152, 0.0), (1155, 0.0), (1158, 0.0), (1162, 0.0), (1164, 0.0), (1165, 0.0), (1178, 0.0), (1181, 0.0), (1185, 0.0), (1189, 0.0), (1195, 0.0), (1196, 0.0), (1198, 0.0), (1205, 0.0), (1207, 0.0), (1211, 0.0), (1212, 0.0), (1213, 0.0), (1214, 0.0), (1218, 0.0), (1222, 0.0), (1227, 0.0), (1228, 0.0), (1230, 0.0), (1231, 0.0), (1235, 0.0), (1238, 0.0), (1240, 0.0), (1242, 0.0), (1244, 0.0), (1246, 0.0), (1250, 0.0), (1258, 0.0), (1259, 0.0), (1260, 0.0), (1262, 0.0), (1263, 0.0), (1265, 0.0), (1266, 0.0), (1267, 0.0), (1269, 0.0), (1270, 0.0), (1274, 0.0), (1279, 0.0), (1280, 0.0), (1283, 0.0), (1285, 0.0), (1287, 0.0), (1288, 0.0), (1293, 0.0), (1296, 0.0), (1300, 0.0), (1307, 0.0), (1309, 0.0), (1310, 0.0), (1311, 0.0), (1315, 0.0), (1320, 0.0), (1326, 0.0), (1327, 0.0), (1330, 0.0), (1332, 0.0), (1336, 0.0), (1341, 0.0), (1343, 0.0), (1348, 0.0), (1354, 0.0), (1368, 0.0), (1371, 0.0), (1373, 0.0), (1374, 0.0), (1381, 0.0), (1384, 0.0), (1386, 0.0), (1388, 0.0), (1391, 0.0), (1393, 0.0), (1395, 0.0), (1396, 0.0), (1399, 0.0), (1401, 0.0), (1418, 0.0), (1419, 0.0), (1420, 0.0), (1426, 0.0), (1431, 0.0), (1435, 0.0), (1436, 0.0), (1443, 0.0), (1444, 0.0), (1449, 0.0), (1451, 0.0), (1452, 0.0), (1458, 0.0), (1459, 0.0), (1460, 0.0), (1466, 0.0), (1470, 0.0), (1473, 0.0), (1486, 0.0), (1487, 0.0), (1490, 0.0), (1495, 0.0), (1496, 0.0), (1502, 0.0), (1508, 0.0), (1511, 0.0), (1515, 0.0), (1520, 0.0), (1522, 0.0), (1525, 0.0), (1529, 0.0), (1531, 0.0), (1535, 0.0), (1540, 0.0), (1546, 0.0), (1548, 0.0), (1554, 0.0), (1556, 0.0), (1560, 0.0), (1564, 0.0), (1576, 0.0), (1577, 0.0), (1578, 0.0), (1581, 0.0), (1583, 0.0), (1587, 0.0), (1590, 0.0), (1591, 0.0), (1602, 0.0), (1603, 0.0), (1604, 0.0), (1609, 0.0), (1615, 0.0), (1622, 0.0), (1626, 0.0), (1631, 0.0), (1632, 0.0), (1635, 0.0), (1636, 0.0), (1640, 0.0), (1644, 0.0), (1646, 0.0), (1649, 0.0), (1651, 0.0), (1652, 0.0), (1657, 0.0), (1659, 0.0), (1661, 0.0), (1669, 0.0), (1673, 0.0), (1674, 0.0), (1676, 0.0), (1679, 0.0), (1681, 0.0), (1686, 0.0), (1696, 0.0), (1697, 0.0), (1700, 0.0), (1702, 0.0), (1704, 0.0), (1709, 0.0), (1713, 0.0), (1715, 0.0), (1721, 0.0), (1723, 0.0), (1724, 0.0), (1725, 0.0), (1726, 0.0), (1729, 0.0), (1732, 0.0), (1735, 0.0), (1737, 0.0), (1745, 0.0), (1753, 0.0), (1755, 0.0), (1758, 0.0), (1761, 0.0), (1769, 0.0), (1773, 0.0), (1777, 0.0), (1783, 0.0), (1785, 0.0), (1788, 0.0), (1789, 0.0), (1791, 0.0), (1799, 0.0), (1800, 0.0), (1809, 0.0), (1810, 0.0), (1812, 0.0), (1815, 0.0), (1817, 0.0), (1818, 0.0), (1820, 0.0), (1823, 0.0), (1832, 0.0), (1834, 0.0), (1835, 0.0), (1836, 0.0), (1837, 0.0), (1840, 0.0), (1841, 0.0), (1842, 0.0), (1844, 0.0), (1846, 0.0), (1849, 0.0), (1852, 0.0), (1855, 0.0), (1859, 0.0), (1868, 0.0), (1889, 0.0), (1894, 0.0), (1898, 0.0), (1899, 0.0), (1900, 0.0), (1901, 0.0), (1904, 0.0), (1906, 0.0), (1908, 0.0), (1910, 0.0), (1911, 0.0), (1912, 0.0), (1917, 0.0), (1926, 0.0), (1927, 0.0), (1928, 0.0), (1930, 0.0), (1932, 0.0), (1940, 0.0), (1941, 0.0), (1945, 0.0), (1953, 0.0), (1957, 0.0), (1962, 0.0), (1966, 0.0), (1972, 0.0), (1975, 0.0), (1976, 0.0), (1979, 0.0), (1982, 0.0), (1986, 0.0), (1988, 0.0), (1994, 0.0), (1996, 0.0), (1998, 0.0), (1999, 0.0), (2002, 0.0), (2013, 0.0), (2018, 0.0), (2020, 0.0), (2021, 0.0), (2022, 0.0), (2025, 0.0), (2028, 0.0), (2030, 0.0), (2033, 0.0), (2038, 0.0), (2041, 0.0), (2042, 0.0), (2043, 0.0), (2046, 0.0), (2050, 0.0), (2052, 0.0), (2054, 0.0), (2059, 0.0), (2062, 0.0), (2063, 0.0), (2066, 0.0), (2071, 0.0), (2078, 0.0), (2081, 0.0), (2082, 0.0), (2084, 0.0), (2093, 0.0), (2094, 0.0), (2110, 0.0), (2113, 0.0), (2115, 0.0), (2119, 0.0), (2124, 0.0), (2128, 0.0), (2136, 0.0), (2138, 0.0), (2139, 0.0), (2140, 0.0), (2150, 0.0), (2153, 0.0), (2171, 0.0), (2172, 0.0), (2179, 0.0), (2181, 0.0), (2182, 0.0), (2184, 0.0), (2185, 0.0), (2194, 0.0), (2198, 0.0), (2200, 0.0), (2203, 0.0), (2205, 0.0), (2206, 0.0), (2207, 0.0), (2219, 0.0), (2220, 0.0), (2231, 0.0), (2232, 0.0), (2233, 0.0), (2235, 0.0), (2238, 0.0), (2239, 0.0), (2241, 0.0), (2243, 0.0), (2244, 0.0), (2245, 0.0), (2246, 0.0), (2259, 0.0), (2261, 0.0), (2262, 0.0), (2263, 0.0), (2271, 0.0), (2272, 0.0), (2274, 0.0), (2275, 0.0), (2278, 0.0), (2282, 0.0), (2283, 0.0), (2290, 0.0), (2291, 0.0), (2294, 0.0), (2298, 0.0), (2304, 0.0), (2305, 0.0), (2307, 0.0), (2312, 0.0), (2314, 0.0), (2316, 0.0), (2325, 0.0), (2329, 0.0), (2330, 0.0), (2332, 0.0), (2336, 0.0), (2339, 0.0), (2341, 0.0), (2342, 0.0), (2343, 0.0), (2345, 0.0), (2351, 0.0), (2363, 0.0), (2364, 0.0), (2365, 0.0), (2369, 0.0), (2371, 0.0), (2372, 0.0), (2373, 0.0), (2376, 0.0), (2377, 0.0), (2380, 0.0), (2381, 0.0), (2383, 0.0), (2384, 0.0), (2389, 0.0), (2413, 0.0), (2414, 0.0), (2421, 0.0), (2424, 0.0), (2426, 0.0), (2429, 0.0), (2432, 0.0), (2433, 0.0), (2435, 0.0), (2449, 0.0), (2450, 0.0), (2451, 0.0), (2455, 0.0), (2456, 0.0), (2458, 0.0), (2462, 0.0), (2470, 0.0), (2471, 0.0), (2476, 0.0), (2479, 0.0), (2483, 0.0), (2485, 0.0), (2486, 0.0), (2487, 0.0), (2491, 0.0), (2498, 0.0), (2503, 0.0), (2506, 0.0), (2508, 0.0), (2513, 0.0), (2515, 0.0), (2517, 0.0), (2518, 0.0), (2521, 0.0), (2523, 0.0), (2524, 0.0), (2532, 0.0), (2536, 0.0), (2539, 0.0), (2541, 0.0), (2542, 0.0), (2544, 0.0), (2547, 0.0), (2549, 0.0), (2551, 0.0), (2564, 0.0), (2573, 0.0), (2575, 0.0), (2576, 0.0), (2577, 0.0), (2581, 0.0), (2583, 0.0), (2599, 0.0), (2600, 0.0), (2604, 0.0), (2608, 0.0), (2616, 0.0), (2620, 0.0), (2631, 0.0), (2635, 0.0), (2639, 0.0), (2644, 0.0), (2654, 0.0), (2656, 0.0), (2657, 0.0), (2658, 0.0), (2667, 0.0), (2669, 0.0), (2670, 0.0), (2675, 0.0), (2676, 0.0), (2680, 0.0), (2682, 0.0), (2683, 0.0), (2684, 0.0), (2685, 0.0), (2686, 0.0), (2691, 0.0), (2700, 0.0), (2703, 0.0), (2708, 0.0), (2709, 0.0), (2713, 0.0), (2715, 0.0), (2717, 0.0), (2718, 0.0), (2719, 0.0), (2726, 0.0), (2727, 0.0), (2733, 0.0), (2734, 0.0), (2749, 0.0), (2751, 0.0), (2763, 0.0), (2770, 0.0), (2773, 0.0), (2780, 0.0), (2781, 0.0), (2785, 0.0), (2787, 0.0), (2788, 0.0), (2793, 0.0), (2804, 0.0), (2810, 0.0), (2811, 0.0), (2814, 0.0), (2815, 0.0), (2818, 0.0), (2823, 0.0), (2825, 0.0), (2828, 0.0), (2829, 0.0), (2833, 0.0), (2837, 0.0), (2839, 0.0), (2843, 0.0), (2847, 0.0), (2860, 0.0), (2864, 0.0), (2865, 0.0), (2869, 0.0), (2871, 0.0), (2874, 0.0), (2875, 0.0), (2885, 0.0), (2896, 0.0), (2898, 0.0), (2905, 0.0), (2906, 0.0), (2913, 0.0), (2918, 0.0), (2921, 0.0), (2922, 0.0), (2927, 0.0), (2930, 0.0), (2935, 0.0), (2938, 0.0), (2939, 0.0), (2941, 0.0), (2944, 0.0), (2947, 0.0), (2948, 0.0), (2952, 0.0), (2956, 0.0), (2959, 0.0), (2960, 0.0), (2963, 0.0), (2971, 0.0), (2979, 0.0), (2984, 0.0), (2990, 0.0), (2994, 0.0), (3002, 0.0), (3008, 0.0), (3021, 0.0), (3022, 0.0), (3029, 0.0), (3038, 0.0), (3041, 0.0), (3049, 0.0), (3053, 0.0), (3054, 0.0), (3058, 0.0), (3059, 0.0), (3063, 0.0), (3073, 0.0), (3079, 0.0), (3080, 0.0), (3087, 0.0), (3088, 0.0), (3089, 0.0), (3090, 0.0), (3099, 0.0), (3100, 0.0), (3104, 0.0), (3106, 0.0), (3110, 0.0), (3114, 0.0), (3115, 0.0), (3118, 0.0), (3124, 0.0), (3126, 0.0), (3127, 0.0), (3130, 0.0), (3131, 0.0), (3132, 0.0), (3133, 0.0), (3134, 0.0), (3135, 0.0), (3136, 0.0), (3138, 0.0), (3143, 0.0), (3144, 0.0), (3156, 0.0), (3162, 0.0), (3163, 0.0), (3169, 0.0), (3176, 0.0), (3185, 0.0), (3190, 0.0), (3191, 0.0), (3192, 0.0), (3193, 0.0), (3201, 0.0), (3203, 0.0), (3204, 0.0), (3207, 0.0), (3209, 0.0), (3212, 0.0), (3215, 0.0), (3221, 0.0), (3223, 0.0), (3231, 0.0), (3236, 0.0), (3244, 0.0), (3245, 0.0), (3247, 0.0), (3250, 0.0), (3251, 0.0), (3253, 0.0), (3255, 0.0), (3256, 0.0), (3263, 0.0), (3266, 0.0), (3277, 0.0), (3280, 0.0), (3281, 0.0), (3286, 0.0), (3287, 0.0), (3294, 0.0), (3305, 0.0), (3309, 0.0), (3312, 0.0), (3321, 0.0), (3323, 0.0), (3324, 0.0), (3332, 0.0), (3338, 0.0), (3339, 0.0), (3340, 0.0), (3343, 0.0), (3345, 0.0), (3350, 0.0), (3356, 0.0), (3366, 0.0), (3378, 0.0), (3384, 0.0), (3385, 0.0), (3397, 0.0), (3398, 0.0), (3401, 0.0), (3404, 0.0), (3405, 0.0), (3411, 0.0), (3416, 0.0), (3420, 0.0), (3422, 0.0), (3426, 0.0), (3427, 0.0), (3429, 0.0), (3432, 0.0), (3438, 0.0), (3439, 0.0), (3440, 0.0), (3442, 0.0), (3444, 0.0), (3451, 0.0), (3453, 0.0), (3456, 0.0), (3459, 0.0), (3461, 0.0), (3462, 0.0), (3465, 0.0), (3467, 0.0), (3468, 0.0), (3470, 0.0), (3472, 0.0), (3475, 0.0), (3476, 0.0), (3480, 0.0), (3481, 0.0), (3482, 0.0), (3484, 0.0), (3485, 0.0), (3486, 0.0), (3488, 0.0), (3494, 0.0), (3505, 0.0), (3508, 0.0), (3509, 0.0), (3515, 0.0), (3518, 0.0), (3519, 0.0), (3520, 0.0), (3522, 0.0), (3525, 0.0), (3530, 0.0), (3535, 0.0), (3543, 0.0), (3547, 0.0), (3550, 0.0), (3555, 0.0), (3566, 0.0), (3567, 0.0), (3568, 0.0), (3572, 0.0), (3573, 0.0), (3574, 0.0), (3576, 0.0), (3581, 0.0), (3582, 0.0), (3583, 0.0), (3588, 0.0), (3591, 0.0), (3600, 0.0), (3602, 0.0), (3605, 0.0), (3609, 0.0), (3619, 0.0), (3622, 0.0), (3625, 0.0), (3628, 0.0), (3630, 0.0), (3631, 0.0), (3632, 0.0), (3652, 0.0), (3658, 0.0), (3663, 0.0), (3664, 0.0), (3671, 0.0), (3674, 0.0), (3676, 0.0), (3679, 0.0), (3683, 0.0), (3684, 0.0), (3685, 0.0), (3688, 0.0), (3693, 0.0), (3700, 0.0), (3702, 0.0), (3708, 0.0), (3709, 0.0), (3710, 0.0), (3711, 0.0), (3712, 0.0), (3713, 0.0), (3717, 0.0), (3718, 0.0), (3720, 0.0), (3723, 0.0), (3724, 0.0), (3726, 0.0), (3732, 0.0), (3736, 0.0), (3740, 0.0), (3743, 0.0), (3750, 0.0), (3759, 0.0), (3760, 0.0), (3764, 0.0), (3768, 0.0), (3769, 0.0), (3773, 0.0), (3775, 0.0), (3776, 0.0), (3782, 0.0), (3786, 0.0), (3787, 0.0), (3788, 0.0), (3791, 0.0), (3793, 0.0), (3805, 0.0), (3810, 0.0), (3812, 0.0), (3817, 0.0), (3820, 0.0), (3823, 0.0), (3824, 0.0), (3825, 0.0), (3837, 0.0), (3838, 0.0), (3843, 0.0), (3844, 0.0), (3846, 0.0), (3849, 0.0), (3850, 0.0), (3852, 0.0), (3861, 0.0), (3865, 0.0), (3870, 0.0), (3871, 0.0), (3885, 0.0), (3887, 0.0), (3891, 0.0), (3896, 0.0), (3897, 0.0), (3905, 0.0), (3907, 0.0), (3908, 0.0), (3914, 0.0), (3918, 0.0), (3921, 0.0), (3923, 0.0), (3926, 0.0), (3929, 0.0), (3930, 0.0), (3931, 0.0), (3934, 0.0), (3942, 0.0), (3943, 0.0), (3944, 0.0), (3946, 0.0), (3947, 0.0), (3949, 0.0), (3955, 0.0), (3963, 0.0), (3966, 0.0), (3969, 0.0), (3970, 0.0), (3971, 0.0), (3979, 0.0), (3981, 0.0), (3982, 0.0), (3988, 0.0), (3989, 0.0), (3991, 0.0), (3994, 0.0), (3995, 0.0), (3997, 0.0), (3998, 0.0), (4001, 0.0), (4021, 0.0), (4031, 0.0), (4034, 0.0), (4035, 0.0), (4037, 0.0), (4041, 0.0), (4043, 0.0), (4044, 0.0), (4047, 0.0), (4055, 0.0), (4057, 0.0), (4058, 0.0), (4065, 0.0), (4070, 0.0), (4071, 0.0), (4072, 0.0), (4076, 0.0), (4078, 0.0), (4086, 0.0), (4088, 0.0), (4090, 0.0), (4091, 0.0), (4093, 0.0), (4094, 0.0), (4096, 0.0), (4100, 0.0), (4103, 0.0), (4106, 0.0), (4108, 0.0), (4110, 0.0), (4114, 0.0), (4118, 0.0), (4120, 0.0), (4121, 0.0), (4127, 0.0), (4128, 0.0), (4131, 0.0), (4134, 0.0), (4146, 0.0), (4158, 0.0), (4165, 0.0), (4167, 0.0), (4180, 0.0), (4181, 0.0), (4184, 0.0), (4185, 0.0), (4186, 0.0), (4188, 0.0), (4190, 0.0), (4191, 0.0), (4195, 0.0), (4196, 0.0), (4201, 0.0), (4207, 0.0), (4211, 0.0), (4212, 0.0), (4214, 0.0), (4215, 0.0), (4217, 0.0), (4218, 0.0), (4219, 0.0), (4224, 0.0), (4227, 0.0), (4234, 0.0), (4235, 0.0), (4236, 0.0), (4238, 0.0), (4239, 0.0), (4240, 0.0), (4241, 0.0), (4248, 0.0), (4250, 0.0), (4251, 0.0), (4256, 0.0), (4258, 0.0), (4260, 0.0), (4261, 0.0), (4264, 0.0), (4265, 0.0), (4270, 0.0), (4271, 0.0), (4272, 0.0), (4276, 0.0), (4278, 0.0), (4279, 0.0), (4285, 0.0), (4289, 0.0), (4290, 0.0), (4291, 0.0), (4294, 0.0), (4300, 0.0), (4302, 0.0), (4305, 0.0), (4307, 0.0), (4310, 0.0), (4312, 0.0), (4314, 0.0), (4316, 0.0), (4323, 0.0), (4328, 0.0), (4331, 0.0), (4332, 0.0), (4335, 0.0), (4338, 0.0), (4339, 0.0), (4346, 0.0), (4347, 0.0), (4353, 0.0), (4365, 0.0), (4367, 0.0), (4370, 0.0), (4372, 0.0), (4373, 0.0), (4375, 0.0), (4376, 0.0), (4377, 0.0), (4380, 0.0), (4384, 0.0), (4392, 0.0), (4393, 0.0), (4405, 0.0), (4410, 0.0), (4413, 0.0), (4414, 0.0), (4415, 0.0), (4417, 0.0), (4424, 0.0), (4425, 0.0), (4426, 0.0), (4434, 0.0), (4436, 0.0), (4439, 0.0), (4440, 0.0), (4441, 0.0), (4447, 0.0), (4449, 0.0), (4450, 0.0), (4454, 0.0), (4455, 0.0), (4456, 0.0), (4457, 0.0), (4478, 0.0), (4481, 0.0), (4486, 0.0), (4491, 0.0), (4496, 0.0), (4499, 0.0), (4500, 0.0), (4509, 0.0), (4510, 0.0), (4512, 0.0), (4513, 0.0), (4519, 0.0), (4524, 0.0), (4526, 0.0), (4527, 0.0), (4537, 0.0), (4538, 0.0), (4541, 0.0), (4543, 0.0), (4547, 0.0), (4548, 0.0), (4549, 0.0), (4553, 0.0), (4559, 0.0), (4560, 0.0), (4561, 0.0), (4564, 0.0), (4565, 0.0), (4568, 0.0), (4569, 0.0), (4570, 0.0), (4577, 0.0), (4578, 0.0), (4585, 0.0), (4586, 0.0), (4588, 0.0), (4592, 0.0), (4595, 0.0), (4597, 0.0), (4600, 0.0), (4613, 0.0), (4622, 0.0), (4630, 0.0), (4631, 0.0), (4635, 0.0), (4639, 0.0), (4642, 0.0), (4644, 0.0), (4645, 0.0), (4646, 0.0), (4647, 0.0), (4648, 0.0), (4654, 0.0), (4655, 0.0), (4656, 0.0), (4659, 0.0), (4662, 0.0), (4665, 0.0), (4666, 0.0), (4672, 0.0), (4675, 0.0), (4676, 0.0), (4681, 0.0), (4682, 0.0), (4689, 0.0), (4690, 0.0), (4691, 0.0), (4695, 0.0), (4697, 0.0), (4698, 0.0), (4703, 0.0), (4707, 0.0), (4708, 0.0), (4709, 0.0), (4711, 0.0), (4714, 0.0), (4716, 0.0), (4727, 0.0), (4728, 0.0), (4730, 0.0), (4740, 0.0), (4742, 0.0), (4745, 0.0), (4746, 0.0), (4747, 0.0), (4750, 0.0), (4751, 0.0), (4754, 0.0), (4758, 0.0)]\n"
          ]
        }
      ]
    },
    {
      "cell_type": "code",
      "source": [
        "print('Top 30 Movies Suggested for You: \\n')\n",
        "i=1\n",
        "for movie in Sorted_similar_movies:\n",
        "  index = movie[0]\n",
        "  title_from_index = df[df.index==index]['Movie_Title'].values[0]\n",
        "  if (i<31):\n",
        "    print(i,'.',title_from_index)\n",
        "    i+=1"
      ],
      "metadata": {
        "colab": {
          "base_uri": "https://localhost:8080/"
        },
        "id": "xZkj7awUTUvg",
        "outputId": "532790c4-6d1e-4440-f521-94a149ecc04d"
      },
      "execution_count": null,
      "outputs": [
        {
          "output_type": "stream",
          "name": "stdout",
          "text": [
            "Top 30 Movies Suggested for You: \n",
            "\n",
            "1 . Step Up 2: The Streets\n",
            "2 . Rize\n",
            "3 . Martian Child\n",
            "4 . Boyz n the Hood\n",
            "5 . Step Up 3D\n",
            "6 . You Got Served\n",
            "7 . My Own Private Idaho\n",
            "8 . City of God\n",
            "9 . 8 Mile\n",
            "10 . Enemy of the State\n",
            "11 . Sweet Home Alabama\n",
            "12 . Mallrats\n",
            "13 . Naturally Native\n",
            "14 . S.W.A.T.\n",
            "15 . Disturbing Behavior\n",
            "16 . The Joneses\n",
            "17 . Tupac: Resurrection\n",
            "18 . Finding Neverland\n",
            "19 . B-Girl\n",
            "20 . Country Strong\n",
            "21 . Hotel Transylvania\n",
            "22 . Just Visiting\n",
            "23 . Hustle & Flow\n",
            "24 . Begin Again\n",
            "25 . Dance Flick\n",
            "26 . The Hurt Locker\n",
            "27 . Brown Sugar\n",
            "28 . Spy Game\n",
            "29 . Straight Outta Compton\n",
            "30 . The Extra Man\n"
          ]
        }
      ]
    },
    {
      "cell_type": "markdown",
      "source": [
        "# Top 10 Movie Recommendation System"
      ],
      "metadata": {
        "id": "LHXM-ipDTtR5"
      }
    },
    {
      "cell_type": "code",
      "source": [
        "Movie_Name = input('Enter your favourite movie name: ')\n",
        "list_of_all_titles = df['Movie_Title'].tolist()\n",
        "find_close_match = difflib.get_close_matches(Movie_Name,list_of_all_titles)\n",
        "\n",
        "close_match = find_close_match[0]\n",
        "index_of_the_movie = df[df.Movie_Title == close_match]['Movie_ID'].values[0]\n",
        "recommendation_score = list(enumerate(similarity_score[index_of_the_movie]))\n",
        "sorted_similar_movies = sorted(recommendation_score,key = lambda x:x[1],reverse = True)\n",
        "print('Top 10 Movies Suggested for You: \\n')\n",
        "i=1\n",
        "for movie in sorted_similar_movies:\n",
        "  index = movie[0]\n",
        "  title_from_index = df[df.index==index]['Movie_Title'].values[0]\n",
        "  if (i<11):\n",
        "    print(i,'.',title_from_index)\n",
        "    i+=1"
      ],
      "metadata": {
        "colab": {
          "base_uri": "https://localhost:8080/"
        },
        "id": "seX-TOQTT2s1",
        "outputId": "97dcadf6-4245-487d-dce7-574e16bfc854"
      },
      "execution_count": null,
      "outputs": [
        {
          "output_type": "stream",
          "name": "stdout",
          "text": [
            "Enter your favourite movie name: pushpa\n",
            "Top 10 Movies Suggested for You: \n",
            "\n",
            "1 . The Place Beyond the Pines\n",
            "2 . Blue Valentine\n",
            "3 . Like Mike\n",
            "4 . Metallica: Through the Never\n",
            "5 . The Spirit\n",
            "6 . ZMD: Zombies of Mass Destruction\n",
            "7 . City of God\n",
            "8 . Chronicle\n",
            "9 . Days of Thunder\n",
            "10 . We Own the Night\n"
          ]
        }
      ]
    }
  ]
}